{
 "cells": [
  {
   "cell_type": "markdown",
   "metadata": {},
   "source": [
    "# xgboost"
   ]
  },
  {
   "cell_type": "code",
   "execution_count": 1,
   "metadata": {
    "collapsed": true
   },
   "outputs": [],
   "source": [
    "import numpy as np\n",
    "import pandas as pd\n",
    "from matplotlib import pyplot as plt\n",
    "%matplotlib inline\n",
    "import datetime\n",
    "import re"
   ]
  },
  {
   "cell_type": "code",
   "execution_count": 2,
   "metadata": {
    "collapsed": true
   },
   "outputs": [],
   "source": [
    "###データ読込(結合したデータ)\n",
    "train = pd.read_csv(\"~/repo/study/JLeague/data/train_new4.csv\")\n",
    "test = pd.read_csv(\"~/repo/study/JLeague/data/test_new4.csv\")\n",
    "player = pd.read_csv(\"~/repo/study/JLeague/data/player.csv\")\n",
    "test_id = pd.read_csv(\"~/repo/study/JLeague/motodata/test.csv\")[\"id\"]\n",
    "test_id_all = test[\"id\"]"
   ]
  },
  {
   "cell_type": "markdown",
   "metadata": {},
   "source": [
    "## Feature Enginiering"
   ]
  },
  {
   "cell_type": "code",
   "execution_count": 3,
   "metadata": {
    "scrolled": true
   },
   "outputs": [
    {
     "name": "stdout",
     "output_type": "stream",
     "text": [
      "<class 'pandas.core.frame.DataFrame'>\n",
      "RangeIndex: 1952 entries, 0 to 1951\n",
      "Data columns (total 50 columns):\n",
      "id             1952 non-null int64\n",
      "y              1952 non-null int64\n",
      "year           1952 non-null int64\n",
      "stage          1952 non-null object\n",
      "match          1952 non-null object\n",
      "gameday        1952 non-null object\n",
      "time           1952 non-null object\n",
      "home           1952 non-null object\n",
      "away           1952 non-null object\n",
      "stadium        1952 non-null object\n",
      "tv             1952 non-null object\n",
      "home_score     1952 non-null int64\n",
      "away_score     1952 non-null int64\n",
      "weather        1952 non-null object\n",
      "temperature    1952 non-null float64\n",
      "humidity       1952 non-null object\n",
      "referee        1952 non-null object\n",
      "home_team      1952 non-null object\n",
      "home_01        1952 non-null object\n",
      "home_02        1952 non-null object\n",
      "home_03        1952 non-null object\n",
      "home_04        1952 non-null object\n",
      "home_05        1952 non-null object\n",
      "home_06        1952 non-null object\n",
      "home_07        1952 non-null object\n",
      "home_08        1952 non-null object\n",
      "home_09        1952 non-null object\n",
      "home_10        1952 non-null object\n",
      "home_11        1952 non-null object\n",
      "away_team      1952 non-null object\n",
      "away_01        1952 non-null object\n",
      "away_02        1952 non-null object\n",
      "away_03        1952 non-null object\n",
      "away_04        1952 non-null object\n",
      "away_05        1952 non-null object\n",
      "away_06        1952 non-null object\n",
      "away_07        1952 non-null object\n",
      "away_08        1952 non-null object\n",
      "away_09        1952 non-null object\n",
      "away_10        1952 non-null object\n",
      "away_11        1952 non-null object\n",
      "address        1952 non-null object\n",
      "capa           1952 non-null int64\n",
      "specific       1952 non-null int64\n",
      "prefecture     1952 non-null object\n",
      "latitude       1952 non-null float64\n",
      "longitude      1952 non-null float64\n",
      "population     1952 non-null int64\n",
      "area           1952 non-null float64\n",
      "dencity        1952 non-null float64\n",
      "dtypes: float64(5), int64(8), object(37)\n",
      "memory usage: 762.6+ KB\n"
     ]
    }
   ],
   "source": [
    "train.info()"
   ]
  },
  {
   "cell_type": "code",
   "execution_count": 4,
   "metadata": {
    "collapsed": true
   },
   "outputs": [],
   "source": [
    "def j2num(j):\n",
    "    return 1 if j == 'Ｊ１' else 0\n",
    "train[\"stage\"] = train[\"stage\"].map(j2num)\n",
    "test[\"stage\"] = test[\"stage\"].map(j2num)"
   ]
  },
  {
   "cell_type": "code",
   "execution_count": 5,
   "metadata": {},
   "outputs": [
    {
     "name": "stderr",
     "output_type": "stream",
     "text": [
      "/home/tsu-nera/anaconda3/envs/opt/lib/python3.6/site-packages/ipykernel_launcher.py:4: DeprecationWarning: \n",
      ".ix is deprecated. Please use\n",
      ".loc for label based indexing or\n",
      ".iloc for positional indexing\n",
      "\n",
      "See the documentation here:\n",
      "http://pandas.pydata.org/pandas-docs/stable/indexing.html#ix-indexer-is-deprecated\n",
      "  after removing the cwd from sys.path.\n",
      "/home/tsu-nera/anaconda3/envs/opt/lib/python3.6/site-packages/ipykernel_launcher.py:12: DeprecationWarning: \n",
      ".ix is deprecated. Please use\n",
      ".loc for label based indexing or\n",
      ".iloc for positional indexing\n",
      "\n",
      "See the documentation here:\n",
      "http://pandas.pydata.org/pandas-docs/stable/indexing.html#ix-indexer-is-deprecated\n",
      "  if sys.path[0] == '':\n"
     ]
    }
   ],
   "source": [
    "for i, weather in enumerate(train[\"weather\"]):\n",
    "    weather = str(weather)\n",
    "    if re.match(\"雨\", weather):\n",
    "        train.ix[i, \"rain\"] = 1\n",
    "    else:\n",
    "        train.ix[i, \"rain\"] = 0\n",
    "for i, weather in enumerate(test[\"weather\"]):\n",
    "    weather = str(weather)\n",
    "    if re.match(\"雨\", weather):\n",
    "        test.ix[i, \"rain\"] = 1\n",
    "    else:\n",
    "        test.ix[i, \"rain\"] = 0"
   ]
  },
  {
   "cell_type": "code",
   "execution_count": 8,
   "metadata": {
    "collapsed": true
   },
   "outputs": [],
   "source": [
    "for i, m in enumerate(train[\"match\"]):\n",
    "    match = re.findall(\"第(\\w+)節第(\\w+)日\", str(m))[0]\n",
    "    train.ix[i, \"section\"] = int(match[0])\n",
    "    train.ix[i, \"no\"] = int(match[1])\n",
    "for i, m in enumerate(test[\"match\"]):\n",
    "    match = re.findall(\"第(\\w+)節第(\\w+)日\", str(m))[0]\n",
    "    test.ix[i, \"section\"] = int(match[0])\n",
    "    test.ix[i, \"no\"] = int(match[1])"
   ]
  },
  {
   "cell_type": "code",
   "execution_count": 55,
   "metadata": {},
   "outputs": [],
   "source": [
    "if (train.stage[0] == 1):\n",
    "    train[\"sec_diff\"] = np.abs(train[\"section\"] - 17)**2\n",
    "    test[\"sec_diff\"] = np.abs(test[\"section\"] - 17)**2\n",
    "else:\n",
    "    train[\"sec_diff\"] = np.abs(train[\"section\"] - 21)**2\n",
    "    test[\"sec_diff\"] = np.abs(test[\"section\"] - 21)**2"
   ]
  },
  {
   "cell_type": "code",
   "execution_count": 9,
   "metadata": {
    "collapsed": true
   },
   "outputs": [],
   "source": [
    "for i, tv in enumerate(train[\"tv\"]):\n",
    "    tv = str(tv)\n",
    "    tvlist = tv.split(\"／\")\n",
    "    train.ix[i, \"media\"] = int(len(tvlist))\n",
    "for i, tv in enumerate(test[\"tv\"]):\n",
    "    tv = str(tv)\n",
    "    tvlist = tv.split(\"／\")\n",
    "    test.ix[i, \"media\"] = int(len(tvlist))"
   ]
  },
  {
   "cell_type": "code",
   "execution_count": 10,
   "metadata": {
    "collapsed": true,
    "scrolled": true
   },
   "outputs": [],
   "source": [
    "for i, day in enumerate(train[\"gameday\"]):\n",
    "    day = str(day)\n",
    "    train.ix[i, \"month\"] = int(day[:2])\n",
    "    train.ix[i, \"day\"] = int(day[3:5])\n",
    "    weekday = day[5:]\n",
    "    if re.match(\"\\(\\w・祝\\)\", weekday):\n",
    "        train.ix[i, \"weekday\"] = 0\n",
    "    elif re.match(\"\\(\\w・休\\)\", weekday):\n",
    "        train.ix[i, \"weekday\"] = 0\n",
    "    elif weekday == \"(土)\":\n",
    "        train.ix[i, \"weekday\"] = 1\n",
    "    elif weekday == \"(日)\":\n",
    "        train.ix[i, \"weekday\"] = 2\n",
    "    else:\n",
    "        train.ix[i, \"weekday\"] = 3\n",
    "for i, day in enumerate(test[\"gameday\"]):\n",
    "    day = str(day)\n",
    "    test.ix[i, \"month\"] = int(day[:2])\n",
    "    test.ix[i, \"day\"] = int(day[3:5])\n",
    "    weekday = day[5:]\n",
    "    if re.match(\"\\(\\w・祝\\)\", weekday):\n",
    "        test.ix[i, \"weekday\"] = 0\n",
    "    elif re.match(\"\\(\\w・休\\)\", weekday):\n",
    "        test.ix[i, \"weekday\"] = 0\n",
    "    elif weekday == \"(土)\":\n",
    "        test.ix[i, \"weekday\"] = 1\n",
    "    elif weekday == \"(日)\":\n",
    "        test.ix[i, \"weekday\"] = 2\n",
    "    else:\n",
    "        test.ix[i, \"weekday\"] = 3"
   ]
  },
  {
   "cell_type": "code",
   "execution_count": 11,
   "metadata": {
    "collapsed": true
   },
   "outputs": [],
   "source": [
    "from dateutil.parser import parse\n",
    "for i, t in enumerate(train[\"time\"]):\n",
    "    train.ix[i, \"hour\"] = int(str(t)[:2])\n",
    "for i, t in enumerate(test[\"time\"]):\n",
    "    test.ix[i, \"hour\"] = int(str(t)[:2])"
   ]
  },
  {
   "cell_type": "code",
   "execution_count": 12,
   "metadata": {
    "collapsed": true
   },
   "outputs": [],
   "source": [
    "from sklearn.preprocessing import LabelEncoder\n",
    "le = LabelEncoder()\n",
    "le.fit(train[\"home\"])\n",
    "train[\"home\"] = le.transform(train[\"home\"])\n",
    "train[\"away\"] = le.transform(train[\"away\"])\n",
    "test[\"home\"] = le.transform(test[\"home\"])\n",
    "test[\"away\"] = le.transform(test[\"away\"])"
   ]
  },
  {
   "cell_type": "code",
   "execution_count": 13,
   "metadata": {
    "collapsed": true
   },
   "outputs": [],
   "source": [
    "for i, t in enumerate(train[\"humidity\"]):\n",
    "    train.ix[i, \"humid\"] = int(str(t)[:2])\n",
    "for i, t in enumerate(test[\"humidity\"]):\n",
    "    test.ix[i, \"humid\"] = int(str(t)[:2])"
   ]
  },
  {
   "cell_type": "code",
   "execution_count": 14,
   "metadata": {
    "collapsed": true
   },
   "outputs": [],
   "source": [
    "def discomfort_index(T, H):\n",
    "    return 0.81*T+0.01*H*(0.99*T - 14.3) + 46.3\n",
    "train[\"discomfort\"] = discomfort_index(train[\"temperature\"], train[\"humid\"])\n",
    "test[\"discomfort\"] = discomfort_index(test[\"temperature\"], test[\"humid\"])"
   ]
  },
  {
   "cell_type": "code",
   "execution_count": 15,
   "metadata": {
    "collapsed": true
   },
   "outputs": [],
   "source": [
    "for i in range(1,12):\n",
    "    column = \"home_%02d\" % i\n",
    "    for row, name in enumerate(train[column]):\n",
    "        salary = player[player.player_name==name].annual_salary.values\n",
    "        train.ix[row, column] = 2500000 if salary.size == 0 else salary\n",
    "    column = \"away_%02d\" % i\n",
    "    for row, name in enumerate(train[column]):\n",
    "        salary = player[player.player_name==name].annual_salary.values\n",
    "        train.ix[row, column] = 2500000 if salary.size == 0 else salary\n",
    "for i in range(1,12):\n",
    "    column = \"home_%02d\" % i\n",
    "    for row, name in enumerate(test[column]):\n",
    "        salary = player[player.player_name==name].annual_salary.values\n",
    "        test.ix[row, column] = 2500000 if salary.size == 0 else salary\n",
    "    column = \"away_%02d\" % i\n",
    "    for row, name in enumerate(test[column]):\n",
    "        salary = player[player.player_name==name].annual_salary.values\n",
    "        test.ix[row, column] = 2500000 if salary.size == 0 else salary"
   ]
  },
  {
   "cell_type": "code",
   "execution_count": 16,
   "metadata": {
    "collapsed": true
   },
   "outputs": [],
   "source": [
    "train[\"home_all\"] = train[[\"home_01\",\"home_02\",\"home_03\",\"home_04\",\"home_05\",\"home_06\",\"home_07\",\"home_08\",\"home_09\",\"home_10\",\"home_11\"]].sum(axis=1) \n",
    "train[\"away_all\"] = train[[\"away_01\",\"away_02\",\"away_03\",\"away_04\",\"away_05\",\"away_06\",\"away_07\",\"away_08\",\"away_09\",\"away_10\",\"away_11\"]].sum(axis=1) \n",
    "test[\"home_all\"] = test[[\"home_01\",\"home_02\",\"home_03\",\"home_04\",\"home_05\",\"home_06\",\"home_07\",\"home_08\",\"home_09\",\"home_10\",\"home_11\"]].sum(axis=1) \n",
    "test[\"away_all\"] = test[[\"away_01\",\"away_02\",\"away_03\",\"away_04\",\"away_05\",\"away_06\",\"away_07\",\"away_08\",\"away_09\",\"away_10\",\"away_11\"]].sum(axis=1) "
   ]
  },
  {
   "cell_type": "code",
   "execution_count": 17,
   "metadata": {},
   "outputs": [
    {
     "data": {
      "text/plain": [
       "Index(['id', 'y', 'year', 'stage', 'match', 'gameday', 'time', 'home', 'away',\n",
       "       'stadium', 'tv', 'home_score', 'away_score', 'weather', 'temperature',\n",
       "       'humidity', 'referee', 'home_team', 'home_01', 'home_02', 'home_03',\n",
       "       'home_04', 'home_05', 'home_06', 'home_07', 'home_08', 'home_09',\n",
       "       'home_10', 'home_11', 'away_team', 'away_01', 'away_02', 'away_03',\n",
       "       'away_04', 'away_05', 'away_06', 'away_07', 'away_08', 'away_09',\n",
       "       'away_10', 'away_11', 'address', 'capa', 'specific', 'prefecture',\n",
       "       'latitude', 'longitude', 'population', 'area', 'dencity', 'rain',\n",
       "       'section', 'day', 'media', 'no', 'month', 'weekday', 'hour', 'humid',\n",
       "       'discomfort', 'home_all', 'away_all'],\n",
       "      dtype='object')"
      ]
     },
     "execution_count": 17,
     "metadata": {},
     "output_type": "execute_result"
    }
   ],
   "source": [
    "train.columns"
   ]
  },
  {
   "cell_type": "code",
   "execution_count": 56,
   "metadata": {
    "collapsed": true
   },
   "outputs": [],
   "source": [
    "train1 = train[[\"y\", \"year\", \"capa\", \"home_score\", \"away_score\", \"month\", \"day\", \"weekday\", \"home\", \"away\", \"media\", \"discomfort\", \"temperature\", \"humid\", \"home_all\", \"away_all\", \"stage\", \"specific\", \"latitude\", \"longitude\", \"population\", \"area\", \"dencity\", \"rain\",\"sec_diff\"]]\n",
    "test1 = test[[\"capa\", \"home_score\", \"away_score\",  \"month\", \"day\", \"weekday\", \"home\", \"away\", \"media\", \"discomfort\", \"temperature\", \"humid\", \"home_all\", \"away_all\", \"stage\", \"specific\", \"latitude\", \"longitude\", \"population\", \"area\", \"dencity\", \"rain\", \"sec_diff\"]]"
   ]
  },
  {
   "cell_type": "code",
   "execution_count": 57,
   "metadata": {
    "collapsed": true
   },
   "outputs": [],
   "source": [
    "y1 = train1[\"y\"]\n",
    "train1 = train1.drop([\"y\", \"year\"], axis=1)"
   ]
  },
  {
   "cell_type": "code",
   "execution_count": 58,
   "metadata": {
    "collapsed": true
   },
   "outputs": [],
   "source": [
    "from sklearn.model_selection import train_test_split\n",
    "X_train, X_test, y_train, y_test = train_test_split(train1, y1, test_size=0.2, random_state=17)"
   ]
  },
  {
   "cell_type": "markdown",
   "metadata": {},
   "source": [
    "## build model"
   ]
  },
  {
   "cell_type": "code",
   "execution_count": 59,
   "metadata": {
    "collapsed": true
   },
   "outputs": [],
   "source": [
    "import xgboost\n",
    "from xgboost import XGBRegressor\n",
    "from numpy import sort\n",
    "from sklearn.feature_selection import SelectFromModel\n",
    "from sklearn.metrics import mean_squared_error"
   ]
  },
  {
   "cell_type": "code",
   "execution_count": 60,
   "metadata": {},
   "outputs": [
    {
     "data": {
      "text/plain": [
       "XGBRegressor(base_score=0.5, booster='gbtree', colsample_bylevel=1,\n",
       "       colsample_bytree=1, eval_metrics='rmse', gamma=0, learning_rate=0.1,\n",
       "       max_delta_step=0, max_depth=3, min_child_weight=1, missing=None,\n",
       "       n_estimators=100, n_jobs=1, nthread=None, objective='reg:linear',\n",
       "       random_state=17, reg_alpha=0, reg_lambda=1, scale_pos_weight=1,\n",
       "       seed=None, silent=True, subsample=1)"
      ]
     },
     "execution_count": 60,
     "metadata": {},
     "output_type": "execute_result"
    }
   ],
   "source": [
    "model = XGBRegressor(eval_metrics='rmse', random_state=17)\n",
    "model.fit(X_train, y_train)"
   ]
  },
  {
   "cell_type": "code",
   "execution_count": 61,
   "metadata": {
    "collapsed": true
   },
   "outputs": [],
   "source": [
    "pred = model.predict(X_test)"
   ]
  },
  {
   "cell_type": "code",
   "execution_count": 62,
   "metadata": {},
   "outputs": [
    {
     "data": {
      "text/plain": [
       "2890.8714597859171"
      ]
     },
     "execution_count": 62,
     "metadata": {},
     "output_type": "execute_result"
    }
   ],
   "source": [
    "np.sqrt(mean_squared_error(y_test, pred))"
   ]
  },
  {
   "cell_type": "code",
   "execution_count": 63,
   "metadata": {},
   "outputs": [
    {
     "data": {
      "text/plain": [
       "<matplotlib.axes._subplots.AxesSubplot at 0x7f7b68c9cfd0>"
      ]
     },
     "execution_count": 63,
     "metadata": {},
     "output_type": "execute_result"
    },
    {
     "data": {
      "image/png": "[encoded data removed]",
      "text/plain": [
       "<matplotlib.figure.Figure at 0x7f7b68d88da0>"
      ]
     },
     "metadata": {},
     "output_type": "display_data"
    }
   ],
   "source": [
    "plt.style.use('ggplot')\n",
    "xgboost.plot_importance(model, max_num_features=20)"
   ]
  },
  {
   "cell_type": "markdown",
   "metadata": {},
   "source": [
    "## submit"
   ]
  },
  {
   "cell_type": "code",
   "execution_count": 64,
   "metadata": {
    "collapsed": true
   },
   "outputs": [],
   "source": [
    "pred = model.predict(test1)"
   ]
  },
  {
   "cell_type": "code",
   "execution_count": 65,
   "metadata": {},
   "outputs": [
    {
     "name": "stderr",
     "output_type": "stream",
     "text": [
      "/home/tsu-nera/anaconda3/envs/opt/lib/python3.6/site-packages/ipykernel_launcher.py:2: DeprecationWarning: \n",
      ".ix is deprecated. Please use\n",
      ".loc for label based indexing or\n",
      ".iloc for positional indexing\n",
      "\n",
      "See the documentation here:\n",
      "http://pandas.pydata.org/pandas-docs/stable/indexing.html#ix-indexer-is-deprecated\n",
      "  \n"
     ]
    }
   ],
   "source": [
    "for i, p in enumerate(pred):\n",
    "    if p > test1.ix[i, \"capa\"]:\n",
    "        pred[i] = test1.ix[i, \"capa\"]\n",
    "    else:\n",
    "        pred[i] = p"
   ]
  },
  {
   "cell_type": "code",
   "execution_count": 66,
   "metadata": {
    "collapsed": true
   },
   "outputs": [],
   "source": [
    "for i, p in enumerate(pred):\n",
    "    if p < min(y1):\n",
    "        print(p, min(y1))\n",
    "        pred[i] = min(y1)\n",
    "    else:\n",
    "        pred[i] = p"
   ]
  },
  {
   "cell_type": "code",
   "execution_count": 67,
   "metadata": {
    "collapsed": true
   },
   "outputs": [],
   "source": [
    "pred = pd.DataFrame(pred, columns={\"pred\"})\n",
    "pred[\"id\"] = test_id_all"
   ]
  },
  {
   "cell_type": "code",
   "execution_count": 68,
   "metadata": {
    "collapsed": true
   },
   "outputs": [],
   "source": [
    "test_id = pd.DataFrame(test_id)\n",
    "test_id[\"id\"] = test_id"
   ]
  },
  {
   "cell_type": "code",
   "execution_count": 69,
   "metadata": {
    "collapsed": true
   },
   "outputs": [],
   "source": [
    "pred = pd.merge(pred, test_id, how=\"right\", on=[\"id\"])"
   ]
  },
  {
   "cell_type": "code",
   "execution_count": 70,
   "metadata": {
    "collapsed": true
   },
   "outputs": [],
   "source": [
    "pred = pred.loc[:, [\"id\", \"pred\"]]"
   ]
  },
  {
   "cell_type": "code",
   "execution_count": 71,
   "metadata": {
    "collapsed": true
   },
   "outputs": [],
   "source": [
    "pred.to_csv(\"~/repo/study/JLeague/submit/submit_1126_5_xgboost.csv\", index=False, header=False)"
   ]
  },
  {
   "cell_type": "code",
   "execution_count": null,
   "metadata": {
    "collapsed": true
   },
   "outputs": [],
   "source": []
  }
 ],
 "metadata": {
  "kernelspec": {
   "display_name": "Python 3",
   "language": "python",
   "name": "python3"
  },
  "language_info": {
   "codemirror_mode": {
    "name": "ipython",
    "version": 3
   },
   "file_extension": ".py",
   "mimetype": "text/x-python",
   "name": "python",
   "nbconvert_exporter": "python",
   "pygments_lexer": "ipython3",
   "version": "3.6.1"
  },
  "toc": {
   "colors": {
    "hover_highlight": "#DAA520",
    "navigate_num": "#000000",
    "navigate_text": "#333333",
    "running_highlight": "#FF0000",
    "selected_highlight": "#FFD700",
    "sidebar_border": "#EEEEEE",
    "wrapper_background": "#FFFFFF"
   },
   "moveMenuLeft": true,
   "nav_menu": {
    "height": "38px",
    "width": "253px"
   },
   "navigate_menu": true,
   "number_sections": false,
   "sideBar": true,
   "threshold": 4,
   "toc_cell": false,
   "toc_section_display": "block",
   "toc_window_display": false,
   "widenNotebook": false
  }
 },
 "nbformat": 4,
 "nbformat_minor": 2
}
