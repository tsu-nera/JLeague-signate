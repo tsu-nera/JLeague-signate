{
 "cells": [
  {
   "cell_type": "markdown",
   "metadata": {
    "deletable": true,
    "editable": true
   },
   "source": [
    "# Linear Regression"
   ]
  },
  {
   "cell_type": "code",
   "execution_count": 24,
   "metadata": {
    "collapsed": true,
    "deletable": true,
    "editable": true
   },
   "outputs": [],
   "source": [
    "import numpy as np\n",
    "import pandas as pd\n",
    "from matplotlib import pyplot as plt\n",
    "%matplotlib inline\n",
    "import datetime\n",
    "import re"
   ]
  },
  {
   "cell_type": "code",
   "execution_count": 25,
   "metadata": {
    "collapsed": true,
    "deletable": true,
    "editable": true
   },
   "outputs": [],
   "source": [
    "###データ読込(結合したデータ)\n",
    "train = pd.read_csv(\"~/repo/study/JLeague/data/train_new.csv\")\n",
    "test = pd.read_csv(\"~/repo/study/JLeague/data/test_new.csv\")"
   ]
  },
  {
   "cell_type": "markdown",
   "metadata": {
    "deletable": true,
    "editable": true
   },
   "source": [
    "## Feature Enginiering"
   ]
  },
  {
   "cell_type": "code",
   "execution_count": 26,
   "metadata": {
    "collapsed": false,
    "deletable": true,
    "editable": true,
    "scrolled": true
   },
   "outputs": [
    {
     "name": "stdout",
     "output_type": "stream",
     "text": [
      "<class 'pandas.core.frame.DataFrame'>\n",
      "RangeIndex: 1721 entries, 0 to 1720\n",
      "Data columns (total 43 columns):\n",
      "id             1721 non-null int64\n",
      "y              1721 non-null int64\n",
      "year           1721 non-null int64\n",
      "stage          1721 non-null object\n",
      "match          1721 non-null object\n",
      "gameday        1721 non-null object\n",
      "time           1721 non-null object\n",
      "home           1721 non-null object\n",
      "away           1721 non-null object\n",
      "stadium        1721 non-null object\n",
      "tv             1721 non-null object\n",
      "home_score     1721 non-null int64\n",
      "away_score     1721 non-null int64\n",
      "weather        1721 non-null object\n",
      "temperature    1721 non-null float64\n",
      "humidity       1721 non-null object\n",
      "referee        1721 non-null object\n",
      "home_team      1721 non-null object\n",
      "home_01        1721 non-null object\n",
      "home_02        1721 non-null object\n",
      "home_03        1721 non-null object\n",
      "home_04        1721 non-null object\n",
      "home_05        1721 non-null object\n",
      "home_06        1721 non-null object\n",
      "home_07        1721 non-null object\n",
      "home_08        1721 non-null object\n",
      "home_09        1721 non-null object\n",
      "home_10        1721 non-null object\n",
      "home_11        1721 non-null object\n",
      "away_team      1721 non-null object\n",
      "away_01        1721 non-null object\n",
      "away_02        1721 non-null object\n",
      "away_03        1721 non-null object\n",
      "away_04        1721 non-null object\n",
      "away_05        1721 non-null object\n",
      "away_06        1721 non-null object\n",
      "away_07        1721 non-null object\n",
      "away_08        1721 non-null object\n",
      "away_09        1721 non-null object\n",
      "away_10        1721 non-null object\n",
      "away_11        1721 non-null object\n",
      "address        1721 non-null object\n",
      "capa           1721 non-null int64\n",
      "dtypes: float64(1), int64(6), object(36)\n",
      "memory usage: 578.2+ KB\n"
     ]
    }
   ],
   "source": [
    "train.info()"
   ]
  },
  {
   "cell_type": "code",
   "execution_count": 27,
   "metadata": {
    "collapsed": true,
    "deletable": true,
    "editable": true
   },
   "outputs": [],
   "source": [
    "train[\"stage\"] = pd.get_dummies(train[\"stage\"])\n",
    "test[\"stage\"] = pd.get_dummies(test[\"stage\"])"
   ]
  },
  {
   "cell_type": "code",
   "execution_count": 28,
   "metadata": {
    "collapsed": false,
    "deletable": true,
    "editable": true
   },
   "outputs": [
    {
     "name": "stderr",
     "output_type": "stream",
     "text": [
      "/home/tsu-nera/anaconda3/envs/opt/lib/python3.6/site-packages/ipykernel_launcher.py:4: DeprecationWarning: \n",
      ".ix is deprecated. Please use\n",
      ".loc for label based indexing or\n",
      ".iloc for positional indexing\n",
      "\n",
      "See the documentation here:\n",
      "http://pandas.pydata.org/pandas-docs/stable/indexing.html#ix-indexer-is-deprecated\n",
      "  after removing the cwd from sys.path.\n",
      "/home/tsu-nera/anaconda3/envs/opt/lib/python3.6/site-packages/ipykernel_launcher.py:12: DeprecationWarning: \n",
      ".ix is deprecated. Please use\n",
      ".loc for label based indexing or\n",
      ".iloc for positional indexing\n",
      "\n",
      "See the documentation here:\n",
      "http://pandas.pydata.org/pandas-docs/stable/indexing.html#ix-indexer-is-deprecated\n",
      "  if sys.path[0] == '':\n"
     ]
    }
   ],
   "source": [
    "for i, weather in enumerate(train[\"weather\"]):\n",
    "    weather = str(weather)\n",
    "    if re.match(\"雨\", weather):\n",
    "        train.ix[i, \"rain\"] = 1\n",
    "    else:\n",
    "        train.ix[i, \"rain\"] = 0\n",
    "for i, weather in enumerate(test[\"weather\"]):\n",
    "    weather = str(weather)\n",
    "    if re.match(\"雨\", weather):\n",
    "        test.ix[i, \"rain\"] = 1\n",
    "    else:\n",
    "        test.ix[i, \"rain\"] = 0"
   ]
  },
  {
   "cell_type": "code",
   "execution_count": 29,
   "metadata": {
    "collapsed": true,
    "deletable": true,
    "editable": true
   },
   "outputs": [],
   "source": [
    "for i, m in enumerate(train[\"match\"]):\n",
    "    match = re.findall(\"第(\\w+)節第(\\w+)日\", str(m))[0]\n",
    "    train.ix[i, \"match2\"] = int(match[0])\n",
    "    train.ix[i, \"match3\"] = int(match[1])\n",
    "for i, m in enumerate(test[\"match\"]):\n",
    "    match = re.findall(\"第(\\w+)節第(\\w+)日\", str(m))[0]\n",
    "    test.ix[i, \"match2\"] = int(match[0])\n",
    "    test.ix[i, \"match3\"] = int(match[1])"
   ]
  },
  {
   "cell_type": "code",
   "execution_count": 30,
   "metadata": {
    "collapsed": true,
    "deletable": true,
    "editable": true
   },
   "outputs": [],
   "source": [
    "for i, tv in enumerate(train[\"tv\"]):\n",
    "    tv = str(tv)\n",
    "    tvlist = tv.split(\"／\")\n",
    "    train.ix[i, \"media\"] = int(len(tvlist))\n",
    "for i, tv in enumerate(test[\"tv\"]):\n",
    "    tv = str(tv)\n",
    "    tvlist = tv.split(\"／\")\n",
    "    test.ix[i, \"media\"] = int(len(tvlist))"
   ]
  },
  {
   "cell_type": "code",
   "execution_count": 31,
   "metadata": {
    "collapsed": true,
    "deletable": true,
    "editable": true,
    "scrolled": true
   },
   "outputs": [],
   "source": [
    "for i, day in enumerate(train[\"gameday\"]):\n",
    "    day = str(day)\n",
    "    train.ix[i, \"month\"] = int(day[:2])\n",
    "    train.ix[i, \"day\"] = int(day[3:5])\n",
    "    weekday = day[5:]\n",
    "    if re.match(\"\\(\\w・祝\\)\", weekday):\n",
    "        train.ix[i, \"weekday\"] = 0\n",
    "    elif re.match(\"\\(\\w・休\\)\", weekday):\n",
    "        train.ix[i, \"weekday\"] = 0\n",
    "    elif weekday == \"(土)\":\n",
    "        train.ix[i, \"weekday\"] = 1\n",
    "    elif weekday == \"(日)\":\n",
    "        train.ix[i, \"weekday\"] = 2\n",
    "    else:\n",
    "        train.ix[i, \"weekday\"] = 3\n",
    "for i, day in enumerate(test[\"gameday\"]):\n",
    "    day = str(day)\n",
    "    test.ix[i, \"month\"] = int(day[:2])\n",
    "    test.ix[i, \"day\"] = int(day[3:5])\n",
    "    weekday = day[5:]\n",
    "    if re.match(\"\\(\\w・祝\\)\", weekday):\n",
    "        test.ix[i, \"weekday\"] = 0\n",
    "    elif re.match(\"\\(\\w・休\\)\", weekday):\n",
    "        test.ix[i, \"weekday\"] = 0\n",
    "    elif weekday == \"(土)\":\n",
    "        test.ix[i, \"weekday\"] = 1\n",
    "    elif weekday == \"(日)\":\n",
    "        test.ix[i, \"weekday\"] = 2\n",
    "    else:\n",
    "        test.ix[i, \"weekday\"] = 3"
   ]
  },
  {
   "cell_type": "code",
   "execution_count": 32,
   "metadata": {
    "collapsed": true,
    "deletable": true,
    "editable": true
   },
   "outputs": [],
   "source": [
    "from dateutil.parser import parse\n",
    "for i, t in enumerate(train[\"time\"]):\n",
    "    train.ix[i, \"hour\"] = int(str(t)[:2])\n",
    "for i, t in enumerate(test[\"time\"]):\n",
    "    test.ix[i, \"hour\"] = int(str(t)[:2])"
   ]
  },
  {
   "cell_type": "code",
   "execution_count": 33,
   "metadata": {
    "collapsed": true,
    "deletable": true,
    "editable": true
   },
   "outputs": [],
   "source": [
    "from sklearn.preprocessing import LabelEncoder\n",
    "le = LabelEncoder()\n",
    "le.fit(train[\"home\"])\n",
    "train[\"home\"] = le.transform(train[\"home\"])\n",
    "train[\"away\"] = le.transform(train[\"away\"])\n",
    "test[\"home\"] = le.transform(test[\"home\"])\n",
    "test[\"away\"] = le.transform(test[\"away\"])"
   ]
  },
  {
   "cell_type": "code",
   "execution_count": 34,
   "metadata": {
    "collapsed": true,
    "deletable": true,
    "editable": true
   },
   "outputs": [],
   "source": [
    "for i, t in enumerate(train[\"humidity\"]):\n",
    "    train.ix[i, \"humid\"] = int(str(t)[:2])\n",
    "for i, t in enumerate(test[\"humidity\"]):\n",
    "    test.ix[i, \"humid\"] = int(str(t)[:2])"
   ]
  },
  {
   "cell_type": "code",
   "execution_count": 35,
   "metadata": {
    "collapsed": true,
    "deletable": true,
    "editable": true
   },
   "outputs": [],
   "source": [
    "#train = pd.get_dummies(train)"
   ]
  },
  {
   "cell_type": "code",
   "execution_count": 36,
   "metadata": {
    "collapsed": false,
    "deletable": true,
    "editable": true
   },
   "outputs": [
    {
     "data": {
      "text/html": [
       "<div>\n",
       "<style>\n",
       "    .dataframe thead tr:only-child th {\n",
       "        text-align: right;\n",
       "    }\n",
       "\n",
       "    .dataframe thead th {\n",
       "        text-align: left;\n",
       "    }\n",
       "\n",
       "    .dataframe tbody tr th {\n",
       "        vertical-align: top;\n",
       "    }\n",
       "</style>\n",
       "<table border=\"1\" class=\"dataframe\">\n",
       "  <thead>\n",
       "    <tr style=\"text-align: right;\">\n",
       "      <th></th>\n",
       "      <th>id</th>\n",
       "      <th>y</th>\n",
       "      <th>year</th>\n",
       "      <th>stage</th>\n",
       "      <th>match</th>\n",
       "      <th>gameday</th>\n",
       "      <th>time</th>\n",
       "      <th>home</th>\n",
       "      <th>away</th>\n",
       "      <th>stadium</th>\n",
       "      <th>...</th>\n",
       "      <th>capa</th>\n",
       "      <th>rain</th>\n",
       "      <th>match2</th>\n",
       "      <th>match3</th>\n",
       "      <th>media</th>\n",
       "      <th>month</th>\n",
       "      <th>day</th>\n",
       "      <th>weekday</th>\n",
       "      <th>hour</th>\n",
       "      <th>humid</th>\n",
       "    </tr>\n",
       "  </thead>\n",
       "  <tbody>\n",
       "    <tr>\n",
       "      <th>1385</th>\n",
       "      <td>15699</td>\n",
       "      <td>0</td>\n",
       "      <td>2014</td>\n",
       "      <td>1</td>\n",
       "      <td>第４節第１日</td>\n",
       "      <td>03/23(日)</td>\n",
       "      <td>15:04</td>\n",
       "      <td>35</td>\n",
       "      <td>36</td>\n",
       "      <td>埼玉スタジアム２００２</td>\n",
       "      <td>...</td>\n",
       "      <td>63700</td>\n",
       "      <td>0.0</td>\n",
       "      <td>4.0</td>\n",
       "      <td>1.0</td>\n",
       "      <td>3.0</td>\n",
       "      <td>3.0</td>\n",
       "      <td>23.0</td>\n",
       "      <td>2.0</td>\n",
       "      <td>15.0</td>\n",
       "      <td>23.0</td>\n",
       "    </tr>\n",
       "  </tbody>\n",
       "</table>\n",
       "<p>1 rows × 52 columns</p>\n",
       "</div>"
      ],
      "text/plain": [
       "         id  y  year  stage   match   gameday   time  home  away      stadium  \\\n",
       "1385  15699  0  2014      1  第４節第１日  03/23(日)  15:04    35    36  埼玉スタジアム２００２   \n",
       "\n",
       "      ...    capa  rain  match2 match3  media month   day weekday  hour humid  \n",
       "1385  ...   63700   0.0     4.0    1.0    3.0   3.0  23.0     2.0  15.0  23.0  \n",
       "\n",
       "[1 rows x 52 columns]"
      ]
     },
     "execution_count": 36,
     "metadata": {},
     "output_type": "execute_result"
    }
   ],
   "source": [
    "train[train.y == 0]"
   ]
  },
  {
   "cell_type": "code",
   "execution_count": 37,
   "metadata": {
    "collapsed": true,
    "deletable": true,
    "editable": true
   },
   "outputs": [],
   "source": [
    "train = train.drop(labels=1385, axis=0)"
   ]
  },
  {
   "cell_type": "code",
   "execution_count": 38,
   "metadata": {
    "collapsed": true,
    "deletable": true,
    "editable": true
   },
   "outputs": [],
   "source": [
    "test_id = test[\"id\"]\n",
    "train2 = train[[\"y\", \"year\",\"temperature\", \"capa\", \"home_score\", \"away_score\", \"stage\", \"month\", \"day\", \"weekday\", \"home\", \"away\", \"media\"]]\n",
    "test2 = test[[\"temperature\", \"capa\", \"home_score\", \"away_score\", \"stage\", \"month\", \"day\", \"weekday\", \"home\", \"away\", \"media\"]]"
   ]
  },
  {
   "cell_type": "code",
   "execution_count": 154,
   "metadata": {
    "collapsed": false,
    "deletable": true,
    "editable": true
   },
   "outputs": [
    {
     "name": "stderr",
     "output_type": "stream",
     "text": [
      "Exception ignored in: <bound method DMatrix.__del__ of <xgboost.core.DMatrix object at 0x7f71c4dcef60>>\n",
      "Traceback (most recent call last):\n",
      "  File \"/home/tsu-nera/anaconda3/envs/opt/lib/python3.6/site-packages/xgboost-0.6-py3.6.egg/xgboost/core.py\", line 366, in __del__\n",
      "    if self.handle is not None:\n",
      "AttributeError: 'DMatrix' object has no attribute 'handle'\n"
     ]
    },
    {
     "data": {
      "text/plain": [
       "<matplotlib.axes._subplots.AxesSubplot at 0x7f71c4802b38>"
      ]
     },
     "execution_count": 154,
     "metadata": {},
     "output_type": "execute_result"
    },
    {
     "data": {
      "image/png": "[encoded data removed]",
      "text/plain": [
       "<matplotlib.figure.Figure at 0x7f71c47dc320>"
      ]
     },
     "metadata": {},
     "output_type": "display_data"
    }
   ],
   "source": [
    "xgboost.plot_importance(model)"
   ]
  },
  {
   "cell_type": "code",
   "execution_count": 43,
   "metadata": {
    "collapsed": true,
    "deletable": true,
    "editable": true
   },
   "outputs": [],
   "source": [
    "test_id = test[\"id\"]\n",
    "train2 = train[[\"y\", \"year\", \"temperature\", \"capa\", \"home_score\", \"away_score\", \"stage\", \"month\", \"day\", \"weekday\", \"home\", \"away\", \"media\", \"rain\", \"humid\", \"match2\", \"match3\"]]\n",
    "test2 = test[[\"temperature\", \"capa\", \"home_score\", \"away_score\", \"stage\", \"month\", \"day\", \"weekday\", \"home\", \"away\", \"media\", \"rain\", \n",
    " \"humid\", \"match2\", \"match3\"]]"
   ]
  },
  {
   "cell_type": "code",
   "execution_count": 39,
   "metadata": {
    "collapsed": true,
    "deletable": true,
    "editable": true
   },
   "outputs": [],
   "source": [
    "y = train2[\"y\"]\n",
    "train2 = train2.drop([\"y\", \"year\"], axis=1)"
   ]
  },
  {
   "cell_type": "code",
   "execution_count": 40,
   "metadata": {
    "collapsed": true,
    "deletable": true,
    "editable": true
   },
   "outputs": [],
   "source": [
    "from sklearn.model_selection import train_test_split\n",
    "X_train, X_test, y_train, y_test = train_test_split(train2, y, test_size=0.2, random_state=17)"
   ]
  },
  {
   "cell_type": "markdown",
   "metadata": {
    "deletable": true,
    "editable": true
   },
   "source": [
    "## build model"
   ]
  },
  {
   "cell_type": "code",
   "execution_count": 41,
   "metadata": {
    "collapsed": true,
    "deletable": true,
    "editable": true
   },
   "outputs": [],
   "source": [
    "import xgboost\n",
    "from xgboost import XGBRegressor\n",
    "from numpy import sort\n",
    "from sklearn.feature_selection import SelectFromModel\n",
    "from sklearn.metrics import mean_squared_error"
   ]
  },
  {
   "cell_type": "code",
   "execution_count": 42,
   "metadata": {
    "collapsed": false,
    "deletable": true,
    "editable": true
   },
   "outputs": [
    {
     "data": {
      "text/plain": [
       "XGBRegressor(base_score=0.5, booster='gbtree', colsample_bylevel=1,\n",
       "       colsample_bytree=1, gamma=0, learning_rate=0.1, max_delta_step=0,\n",
       "       max_depth=3, min_child_weight=1, missing=None, n_estimators=100,\n",
       "       n_jobs=1, nthread=None, objective='reg:linear', random_state=0,\n",
       "       reg_alpha=0, reg_lambda=1, scale_pos_weight=1, seed=None,\n",
       "       silent=True, subsample=1)"
      ]
     },
     "execution_count": 42,
     "metadata": {},
     "output_type": "execute_result"
    }
   ],
   "source": [
    "model = XGBRegressor()\n",
    "model.fit(X_train, y_train)"
   ]
  },
  {
   "cell_type": "code",
   "execution_count": 43,
   "metadata": {
    "collapsed": true,
    "deletable": true,
    "editable": true
   },
   "outputs": [],
   "source": [
    "pred = model.predict(X_test)"
   ]
  },
  {
   "cell_type": "code",
   "execution_count": 44,
   "metadata": {
    "collapsed": false,
    "deletable": true,
    "editable": true
   },
   "outputs": [
    {
     "data": {
      "text/plain": [
       "3753.063848706553"
      ]
     },
     "execution_count": 44,
     "metadata": {},
     "output_type": "execute_result"
    }
   ],
   "source": [
    "np.sqrt(mean_squared_error(y_test, pred))"
   ]
  },
  {
   "cell_type": "code",
   "execution_count": 43,
   "metadata": {
    "collapsed": false,
    "deletable": true,
    "editable": true,
    "scrolled": false
   },
   "outputs": [
    {
     "name": "stdout",
     "output_type": "stream",
     "text": [
      "Thresh=0.025, n=9, Accuracy: 3469.33%\n",
      "Thresh=0.048, n=8, Accuracy: 3457.53%\n",
      "Thresh=0.051, n=7, Accuracy: 3565.32%\n",
      "Thresh=0.052, n=6, Accuracy: 3532.96%\n",
      "Thresh=0.096, n=5, Accuracy: 3600.31%\n",
      "Thresh=0.119, n=4, Accuracy: 3534.07%\n",
      "Thresh=0.143, n=3, Accuracy: 3678.24%\n",
      "Thresh=0.169, n=2, Accuracy: 3635.25%\n",
      "Thresh=0.297, n=1, Accuracy: 4471.36%\n"
     ]
    }
   ],
   "source": [
    "thresholds = sort(model.feature_importances_)\n",
    "for thresh in thresholds:\n",
    "    # select features using threshold\n",
    "    selection = SelectFromModel(model, threshold=thresh, prefit=True)\n",
    "    select_X_train = selection.transform(X_train)\n",
    "    # train model\n",
    "    selection_model = XGBRegressor()\n",
    "    selection_model.fit(select_X_train, y_train)\n",
    "    # eval model\n",
    "    select_X_test = selection.transform(X_test)\n",
    "    predictions = selection_model.predict(select_X_test)\n",
    "    accuracy = np.sqrt(mean_squared_error(y_test, predictions))\n",
    "    print(\"Thresh=%.3f, n=%d, Accuracy: %.2f%%\" % (thresh, select_X_train.shape[1], accuracy))"
   ]
  },
  {
   "cell_type": "code",
   "execution_count": 45,
   "metadata": {
    "collapsed": false,
    "deletable": true,
    "editable": true
   },
   "outputs": [
    {
     "data": {
      "text/plain": [
       "<matplotlib.axes._subplots.AxesSubplot at 0x7f47484023c8>"
      ]
     },
     "execution_count": 45,
     "metadata": {},
     "output_type": "execute_result"
    },
    {
     "data": {
      "image/png": "[encoded data removed]",
      "text/plain": [
       "<matplotlib.figure.Figure at 0x7f47466ebcc0>"
      ]
     },
     "metadata": {},
     "output_type": "display_data"
    }
   ],
   "source": [
    "xgboost.plot_importance(model)"
   ]
  },
  {
   "cell_type": "markdown",
   "metadata": {
    "deletable": true,
    "editable": true
   },
   "source": [
    "## submit"
   ]
  },
  {
   "cell_type": "code",
   "execution_count": 46,
   "metadata": {
    "collapsed": true,
    "deletable": true,
    "editable": true
   },
   "outputs": [],
   "source": [
    "pred = model.predict(test2)"
   ]
  },
  {
   "cell_type": "code",
   "execution_count": 47,
   "metadata": {
    "collapsed": true,
    "deletable": true,
    "editable": true
   },
   "outputs": [],
   "source": [
    "submissions = pd.DataFrame({\n",
    "    \"id\": test_id,\n",
    "    \"prediction\": pred})\n",
    "submissions.to_csv(\"~/repo/study/JLeague/submit/submit_1122_1_xgboost.csv\", index=False, header=False)"
   ]
  },
  {
   "cell_type": "code",
   "execution_count": null,
   "metadata": {
    "collapsed": true,
    "deletable": true,
    "editable": true
   },
   "outputs": [],
   "source": []
  }
 ],
 "metadata": {
  "kernelspec": {
   "display_name": "Python 3",
   "language": "python",
   "name": "python3"
  },
  "language_info": {
   "codemirror_mode": {
    "name": "ipython",
    "version": 3
   },
   "file_extension": ".py",
   "mimetype": "text/x-python",
   "name": "python",
   "nbconvert_exporter": "python",
   "pygments_lexer": "ipython3",
   "version": "3.6.0"
  },
  "toc": {
   "colors": {
    "hover_highlight": "#DAA520",
    "navigate_num": "#000000",
    "navigate_text": "#333333",
    "running_highlight": "#FF0000",
    "selected_highlight": "#FFD700",
    "sidebar_border": "#EEEEEE",
    "wrapper_background": "#FFFFFF"
   },
   "moveMenuLeft": true,
   "nav_menu": {
    "height": "38px",
    "width": "253px"
   },
   "navigate_menu": true,
   "number_sections": false,
   "sideBar": true,
   "threshold": 4,
   "toc_cell": false,
   "toc_section_display": "block",
   "toc_window_display": false,
   "widenNotebook": false
  }
 },
 "nbformat": 4,
 "nbformat_minor": 2
}
