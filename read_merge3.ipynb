{
 "cells": [
  {
   "cell_type": "markdown",
   "metadata": {},
   "source": [
    "# Read Merge"
   ]
  },
  {
   "cell_type": "code",
   "execution_count": 2,
   "metadata": {
    "collapsed": true
   },
   "outputs": [],
   "source": [
    "import pandas as pd"
   ]
  },
  {
   "cell_type": "code",
   "execution_count": 33,
   "metadata": {
    "collapsed": true
   },
   "outputs": [],
   "source": [
    "train = pd.read_csv(\"../JLeague/motodata/train.csv\")\n",
    "test = pd.read_csv(\"../JLeague/motodata/test.csv\")\n",
    "condition = pd.read_csv(\"../JLeague/motodata/condition.csv\")\n",
    "condition_add = pd.read_csv(\"../JLeague/motodata/condition_add.csv\")\n",
    "stadium = pd.read_csv(\"../JLeague/data/stadium2.csv\")\n",
    "train_add = pd.read_csv(\"../JLeague/motodata/train_add.csv\")\n",
    "test_add = pd.read_csv(\"../JLeague/motodata/2014_add.csv\")"
   ]
  },
  {
   "cell_type": "code",
   "execution_count": 34,
   "metadata": {
    "collapsed": true
   },
   "outputs": [],
   "source": [
    "train_all = pd.concat([train, train_add]).sort_values(\"id\")\n",
    "test_all = pd.concat([test, test_add]).sort_values(\"id\")\n",
    "condition_all = pd.concat([condition, condition_add]).sort_values(\"id\")"
   ]
  },
  {
   "cell_type": "code",
   "execution_count": 35,
   "metadata": {
    "collapsed": true
   },
   "outputs": [],
   "source": [
    "#trainとconditionを対戦カードidを基準に結合\n",
    "tmp1 = pd.merge(train_all, condition_all, how=\"left\", on=[\"id\"])\n",
    "\n",
    "#testとconditionを対戦カードidを基準に結合\n",
    "tmp2 = pd.merge(test_all, condition_all, how=\"left\", on=[\"id\"])"
   ]
  },
  {
   "cell_type": "code",
   "execution_count": 36,
   "metadata": {},
   "outputs": [
    {
     "data": {
      "text/plain": [
       "((1953, 41), (351, 40))"
      ]
     },
     "execution_count": 36,
     "metadata": {},
     "output_type": "execute_result"
    }
   ],
   "source": [
    "tmp1.shape, tmp2.shape"
   ]
  },
  {
   "cell_type": "code",
   "execution_count": 37,
   "metadata": {
    "collapsed": true
   },
   "outputs": [],
   "source": [
    "#結合(基準とする変数名が違うので注意)\n",
    "train_new = pd.merge(tmp1, stadium, how=\"left\", left_on=\"stadium\", right_on=\"name\")\n",
    "test_new = pd.merge(tmp2, stadium, how=\"left\", left_on=\"stadium\", right_on=\"name\")\n",
    "train_new = train_new.drop([\"name\"], axis=1)\n",
    "test_new = test_new.drop([\"name\"], axis=1)"
   ]
  },
  {
   "cell_type": "code",
   "execution_count": 38,
   "metadata": {},
   "outputs": [
    {
     "data": {
      "text/plain": [
       "((1953, 50), (351, 49))"
      ]
     },
     "execution_count": 38,
     "metadata": {},
     "output_type": "execute_result"
    }
   ],
   "source": [
    "train_new.shape, test_new.shape"
   ]
  },
  {
   "cell_type": "code",
   "execution_count": 39,
   "metadata": {},
   "outputs": [
    {
     "data": {
      "text/html": [
       "<div>\n",
       "<style>\n",
       "    .dataframe thead tr:only-child th {\n",
       "        text-align: right;\n",
       "    }\n",
       "\n",
       "    .dataframe thead th {\n",
       "        text-align: left;\n",
       "    }\n",
       "\n",
       "    .dataframe tbody tr th {\n",
       "        vertical-align: top;\n",
       "    }\n",
       "</style>\n",
       "<table border=\"1\" class=\"dataframe\">\n",
       "  <thead>\n",
       "    <tr style=\"text-align: right;\">\n",
       "      <th></th>\n",
       "      <th>id</th>\n",
       "      <th>y</th>\n",
       "      <th>year</th>\n",
       "      <th>stage</th>\n",
       "      <th>match</th>\n",
       "      <th>gameday</th>\n",
       "      <th>time</th>\n",
       "      <th>home</th>\n",
       "      <th>away</th>\n",
       "      <th>stadium</th>\n",
       "      <th>...</th>\n",
       "      <th>away_11</th>\n",
       "      <th>address</th>\n",
       "      <th>capa</th>\n",
       "      <th>specific</th>\n",
       "      <th>prefecture</th>\n",
       "      <th>latitude</th>\n",
       "      <th>longitude</th>\n",
       "      <th>population</th>\n",
       "      <th>area</th>\n",
       "      <th>dencity</th>\n",
       "    </tr>\n",
       "  </thead>\n",
       "  <tbody>\n",
       "    <tr>\n",
       "      <th>1567</th>\n",
       "      <td>15699</td>\n",
       "      <td>0</td>\n",
       "      <td>2014</td>\n",
       "      <td>Ｊ１</td>\n",
       "      <td>第４節第１日</td>\n",
       "      <td>03/23(日)</td>\n",
       "      <td>15:04</td>\n",
       "      <td>浦和レッズ</td>\n",
       "      <td>清水エスパルス</td>\n",
       "      <td>埼玉スタジアム２００２</td>\n",
       "      <td>...</td>\n",
       "      <td>長沢　駿</td>\n",
       "      <td>埼玉県さいたま市緑区中野田500</td>\n",
       "      <td>63700</td>\n",
       "      <td>1</td>\n",
       "      <td>埼玉県</td>\n",
       "      <td>35.9034</td>\n",
       "      <td>139.716</td>\n",
       "      <td>7307579</td>\n",
       "      <td>3797.75</td>\n",
       "      <td>1924.19</td>\n",
       "    </tr>\n",
       "  </tbody>\n",
       "</table>\n",
       "<p>1 rows × 50 columns</p>\n",
       "</div>"
      ],
      "text/plain": [
       "         id  y  year stage   match   gameday   time   home     away  \\\n",
       "1567  15699  0  2014    Ｊ１  第４節第１日  03/23(日)  15:04  浦和レッズ  清水エスパルス   \n",
       "\n",
       "          stadium   ...    away_11           address   capa specific  \\\n",
       "1567  埼玉スタジアム２００２   ...       長沢　駿  埼玉県さいたま市緑区中野田500  63700        1   \n",
       "\n",
       "      prefecture latitude longitude population     area  dencity  \n",
       "1567         埼玉県  35.9034   139.716    7307579  3797.75  1924.19  \n",
       "\n",
       "[1 rows x 50 columns]"
      ]
     },
     "execution_count": 39,
     "metadata": {},
     "output_type": "execute_result"
    }
   ],
   "source": [
    "train_new[train_new.y == 0]"
   ]
  },
  {
   "cell_type": "code",
   "execution_count": 40,
   "metadata": {
    "collapsed": true
   },
   "outputs": [],
   "source": [
    "train_new = train_new.drop(labels=1567)"
   ]
  },
  {
   "cell_type": "code",
   "execution_count": 41,
   "metadata": {
    "collapsed": true
   },
   "outputs": [],
   "source": [
    "train_new.home = train_new.home.str.replace(\"ザスパクサツ群馬\", \"ザスパ草津\")\n",
    "train_new.away = train_new.away.str.replace(\"ザスパクサツ群馬\", \"ザスパ草津\")\n",
    "train_new.home_team = train_new.home_team.str.replace(\"ザスパクサツ群馬\", \"ザスパ草津\")\n",
    "train_new.away_team = train_new.away_team.str.replace(\"ザスパクサツ群馬\", \"ザスパ草津\")\n",
    "test_new.home = test_new.home.str.replace(\"ザスパクサツ群馬\", \"ザスパ草津\")\n",
    "test_new.away = test_new.away.str.replace(\"ザスパクサツ群馬\", \"ザスパ草津\")\n",
    "test_new.home_team = test_new.home_team.str.replace(\"ザスパクサツ群馬\", \"ザスパ草津\")\n",
    "test_new.away_team = test_new.away_team.str.replace(\"ザスパクサツ群馬\", \"ザスパ草津\")"
   ]
  },
  {
   "cell_type": "code",
   "execution_count": 42,
   "metadata": {
    "collapsed": true
   },
   "outputs": [],
   "source": [
    "train_new.to_csv(\"../JLeague/data/train_new4.csv\", index=False, header=True, float_format='%g')\n",
    "test_new.to_csv(\"../JLeague/data/test_new4.csv\", index=False, header=True, float_format='%g')"
   ]
  },
  {
   "cell_type": "code",
   "execution_count": null,
   "metadata": {
    "collapsed": true
   },
   "outputs": [],
   "source": []
  },
  {
   "cell_type": "code",
   "execution_count": null,
   "metadata": {
    "collapsed": true
   },
   "outputs": [],
   "source": []
  }
 ],
 "metadata": {
  "kernelspec": {
   "display_name": "Python 3",
   "language": "python",
   "name": "python3"
  },
  "language_info": {
   "codemirror_mode": {
    "name": "ipython",
    "version": 3
   },
   "file_extension": ".py",
   "mimetype": "text/x-python",
   "name": "python",
   "nbconvert_exporter": "python",
   "pygments_lexer": "ipython3",
   "version": "3.6.1"
  },
  "toc": {
   "colors": {
    "hover_highlight": "#DAA520",
    "navigate_num": "#000000",
    "navigate_text": "#333333",
    "running_highlight": "#FF0000",
    "selected_highlight": "#FFD700",
    "sidebar_border": "#EEEEEE",
    "wrapper_background": "#FFFFFF"
   },
   "moveMenuLeft": true,
   "nav_menu": {
    "height": "38px",
    "width": "253px"
   },
   "navigate_menu": true,
   "number_sections": false,
   "sideBar": true,
   "threshold": 4,
   "toc_cell": false,
   "toc_section_display": "block",
   "toc_window_display": false,
   "widenNotebook": false
  }
 },
 "nbformat": 4,
 "nbformat_minor": 2
}
