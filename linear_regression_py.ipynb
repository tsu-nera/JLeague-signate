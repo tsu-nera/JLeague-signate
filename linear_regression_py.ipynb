{
 "cells": [
  {
   "cell_type": "markdown",
   "metadata": {},
   "source": [
    "# Linear Regression"
   ]
  },
  {
   "cell_type": "code",
   "execution_count": 36,
   "metadata": {
    "collapsed": true
   },
   "outputs": [],
   "source": [
    "import numpy as np\n",
    "import pandas as pd\n",
    "from matplotlib import pyplot as plt\n",
    "%matplotlib inline\n",
    "import datetime\n",
    "import re"
   ]
  },
  {
   "cell_type": "code",
   "execution_count": 37,
   "metadata": {
    "collapsed": true
   },
   "outputs": [],
   "source": [
    "###データ読込(結合したデータ)\n",
    "train = pd.read_csv(\"~/repo/study/JLeague/data/train_new.csv\")\n",
    "test = pd.read_csv(\"~/repo/study/JLeague/data/test_new.csv\")"
   ]
  },
  {
   "cell_type": "markdown",
   "metadata": {},
   "source": [
    "## Feature Enginiering"
   ]
  },
  {
   "cell_type": "code",
   "execution_count": 38,
   "metadata": {
    "scrolled": true
   },
   "outputs": [
    {
     "name": "stdout",
     "output_type": "stream",
     "text": [
      "<class 'pandas.core.frame.DataFrame'>\n",
      "RangeIndex: 1721 entries, 0 to 1720\n",
      "Data columns (total 43 columns):\n",
      "id             1721 non-null int64\n",
      "y              1721 non-null int64\n",
      "year           1721 non-null int64\n",
      "stage          1721 non-null object\n",
      "match          1721 non-null object\n",
      "gameday        1721 non-null object\n",
      "time           1721 non-null object\n",
      "home           1721 non-null object\n",
      "away           1721 non-null object\n",
      "stadium        1721 non-null object\n",
      "tv             1721 non-null object\n",
      "home_score     1721 non-null int64\n",
      "away_score     1721 non-null int64\n",
      "weather        1721 non-null object\n",
      "temperature    1721 non-null float64\n",
      "humidity       1721 non-null object\n",
      "referee        1721 non-null object\n",
      "home_team      1721 non-null object\n",
      "home_01        1721 non-null object\n",
      "home_02        1721 non-null object\n",
      "home_03        1721 non-null object\n",
      "home_04        1721 non-null object\n",
      "home_05        1721 non-null object\n",
      "home_06        1721 non-null object\n",
      "home_07        1721 non-null object\n",
      "home_08        1721 non-null object\n",
      "home_09        1721 non-null object\n",
      "home_10        1721 non-null object\n",
      "home_11        1721 non-null object\n",
      "away_team      1721 non-null object\n",
      "away_01        1721 non-null object\n",
      "away_02        1721 non-null object\n",
      "away_03        1721 non-null object\n",
      "away_04        1721 non-null object\n",
      "away_05        1721 non-null object\n",
      "away_06        1721 non-null object\n",
      "away_07        1721 non-null object\n",
      "away_08        1721 non-null object\n",
      "away_09        1721 non-null object\n",
      "away_10        1721 non-null object\n",
      "away_11        1721 non-null object\n",
      "address        1721 non-null object\n",
      "capa           1721 non-null int64\n",
      "dtypes: float64(1), int64(6), object(36)\n",
      "memory usage: 578.2+ KB\n"
     ]
    }
   ],
   "source": [
    "train.info()"
   ]
  },
  {
   "cell_type": "code",
   "execution_count": 39,
   "metadata": {
    "scrolled": false
   },
   "outputs": [
    {
     "data": {
      "text/html": [
       "<div>\n",
       "<style>\n",
       "    .dataframe thead tr:only-child th {\n",
       "        text-align: right;\n",
       "    }\n",
       "\n",
       "    .dataframe thead th {\n",
       "        text-align: left;\n",
       "    }\n",
       "\n",
       "    .dataframe tbody tr th {\n",
       "        vertical-align: top;\n",
       "    }\n",
       "</style>\n",
       "<table border=\"1\" class=\"dataframe\">\n",
       "  <thead>\n",
       "    <tr style=\"text-align: right;\">\n",
       "      <th></th>\n",
       "      <th>id</th>\n",
       "      <th>y</th>\n",
       "      <th>year</th>\n",
       "      <th>stage</th>\n",
       "      <th>match</th>\n",
       "      <th>gameday</th>\n",
       "      <th>time</th>\n",
       "      <th>home</th>\n",
       "      <th>away</th>\n",
       "      <th>stadium</th>\n",
       "      <th>...</th>\n",
       "      <th>away_04</th>\n",
       "      <th>away_05</th>\n",
       "      <th>away_06</th>\n",
       "      <th>away_07</th>\n",
       "      <th>away_08</th>\n",
       "      <th>away_09</th>\n",
       "      <th>away_10</th>\n",
       "      <th>away_11</th>\n",
       "      <th>address</th>\n",
       "      <th>capa</th>\n",
       "    </tr>\n",
       "  </thead>\n",
       "  <tbody>\n",
       "    <tr>\n",
       "      <th>0</th>\n",
       "      <td>13994</td>\n",
       "      <td>18250</td>\n",
       "      <td>2012</td>\n",
       "      <td>Ｊ１</td>\n",
       "      <td>第１節第１日</td>\n",
       "      <td>03/10(土)</td>\n",
       "      <td>14:04</td>\n",
       "      <td>ベガルタ仙台</td>\n",
       "      <td>鹿島アントラーズ</td>\n",
       "      <td>ユアテックスタジアム仙台</td>\n",
       "      <td>...</td>\n",
       "      <td>中田　浩二</td>\n",
       "      <td>アレックス</td>\n",
       "      <td>青木　剛</td>\n",
       "      <td>増田　誓志</td>\n",
       "      <td>小笠原　満男</td>\n",
       "      <td>本山　雅志</td>\n",
       "      <td>大迫　勇也</td>\n",
       "      <td>ジュニーニョ</td>\n",
       "      <td>宮城県仙台市泉区七北田字柳78</td>\n",
       "      <td>19694</td>\n",
       "    </tr>\n",
       "    <tr>\n",
       "      <th>1</th>\n",
       "      <td>13995</td>\n",
       "      <td>24316</td>\n",
       "      <td>2012</td>\n",
       "      <td>Ｊ１</td>\n",
       "      <td>第１節第１日</td>\n",
       "      <td>03/10(土)</td>\n",
       "      <td>14:04</td>\n",
       "      <td>名古屋グランパス</td>\n",
       "      <td>清水エスパルス</td>\n",
       "      <td>豊田スタジアム</td>\n",
       "      <td>...</td>\n",
       "      <td>カルフィン　ヨン　ア　ピン</td>\n",
       "      <td>李　記帝</td>\n",
       "      <td>村松　大輔</td>\n",
       "      <td>河井　陽介</td>\n",
       "      <td>枝村　匠馬</td>\n",
       "      <td>高木　俊幸</td>\n",
       "      <td>アレックス</td>\n",
       "      <td>大前　元紀</td>\n",
       "      <td>愛知県豊田市千石町7-2</td>\n",
       "      <td>40000</td>\n",
       "    </tr>\n",
       "    <tr>\n",
       "      <th>2</th>\n",
       "      <td>13996</td>\n",
       "      <td>17066</td>\n",
       "      <td>2012</td>\n",
       "      <td>Ｊ１</td>\n",
       "      <td>第１節第１日</td>\n",
       "      <td>03/10(土)</td>\n",
       "      <td>14:04</td>\n",
       "      <td>ガンバ大阪</td>\n",
       "      <td>ヴィッセル神戸</td>\n",
       "      <td>万博記念競技場</td>\n",
       "      <td>...</td>\n",
       "      <td>伊野波　雅彦</td>\n",
       "      <td>相馬　崇人</td>\n",
       "      <td>三原　雅俊</td>\n",
       "      <td>田中　英雄</td>\n",
       "      <td>野沢　拓也</td>\n",
       "      <td>橋本　英郎</td>\n",
       "      <td>森岡　亮太</td>\n",
       "      <td>大久保　嘉人</td>\n",
       "      <td>大阪府吹田市千里万博公園5-2</td>\n",
       "      <td>21000</td>\n",
       "    </tr>\n",
       "    <tr>\n",
       "      <th>3</th>\n",
       "      <td>13997</td>\n",
       "      <td>29603</td>\n",
       "      <td>2012</td>\n",
       "      <td>Ｊ１</td>\n",
       "      <td>第１節第１日</td>\n",
       "      <td>03/10(土)</td>\n",
       "      <td>14:06</td>\n",
       "      <td>サンフレッチェ広島</td>\n",
       "      <td>浦和レッズ</td>\n",
       "      <td>エディオンスタジアム広島</td>\n",
       "      <td>...</td>\n",
       "      <td>槙野　智章</td>\n",
       "      <td>平川　忠亮</td>\n",
       "      <td>鈴木　啓太</td>\n",
       "      <td>山田　直輝</td>\n",
       "      <td>梅崎　司</td>\n",
       "      <td>柏木　陽介</td>\n",
       "      <td>原口　元気</td>\n",
       "      <td>田中　達也</td>\n",
       "      <td>広島県広島市安佐南区大塚西5-1-1</td>\n",
       "      <td>50000</td>\n",
       "    </tr>\n",
       "    <tr>\n",
       "      <th>4</th>\n",
       "      <td>13998</td>\n",
       "      <td>25353</td>\n",
       "      <td>2012</td>\n",
       "      <td>Ｊ１</td>\n",
       "      <td>第１節第１日</td>\n",
       "      <td>03/10(土)</td>\n",
       "      <td>14:04</td>\n",
       "      <td>コンサドーレ札幌</td>\n",
       "      <td>ジュビロ磐田</td>\n",
       "      <td>札幌ドーム</td>\n",
       "      <td>...</td>\n",
       "      <td>藤田　義明</td>\n",
       "      <td>山本　脩斗</td>\n",
       "      <td>小林　裕紀</td>\n",
       "      <td>山本　康裕</td>\n",
       "      <td>山田　大記</td>\n",
       "      <td>松浦　拓弥</td>\n",
       "      <td>菅沼　実</td>\n",
       "      <td>前田　遼一</td>\n",
       "      <td>北海道札幌市豊平区羊ヶ丘1</td>\n",
       "      <td>39232</td>\n",
       "    </tr>\n",
       "    <tr>\n",
       "      <th>5</th>\n",
       "      <td>13999</td>\n",
       "      <td>11283</td>\n",
       "      <td>2012</td>\n",
       "      <td>Ｊ１</td>\n",
       "      <td>第１節第１日</td>\n",
       "      <td>03/10(土)</td>\n",
       "      <td>14:05</td>\n",
       "      <td>サガン鳥栖</td>\n",
       "      <td>セレッソ大阪</td>\n",
       "      <td>ベストアメニティスタジアム</td>\n",
       "      <td>...</td>\n",
       "      <td>丸橋　祐介</td>\n",
       "      <td>酒本　憲幸</td>\n",
       "      <td>扇原　貴宏</td>\n",
       "      <td>山口　螢</td>\n",
       "      <td>キム　ボギョン</td>\n",
       "      <td>清武　弘嗣</td>\n",
       "      <td>ブランキーニョ</td>\n",
       "      <td>ケンペス</td>\n",
       "      <td>佐賀県鳥栖市京町812</td>\n",
       "      <td>24490</td>\n",
       "    </tr>\n",
       "    <tr>\n",
       "      <th>6</th>\n",
       "      <td>14000</td>\n",
       "      <td>18920</td>\n",
       "      <td>2012</td>\n",
       "      <td>Ｊ１</td>\n",
       "      <td>第１節第１日</td>\n",
       "      <td>03/10(土)</td>\n",
       "      <td>17:05</td>\n",
       "      <td>川崎フロンターレ</td>\n",
       "      <td>アルビレックス新潟</td>\n",
       "      <td>等々力陸上競技場</td>\n",
       "      <td>...</td>\n",
       "      <td>大井　健太郎</td>\n",
       "      <td>金　珍洙</td>\n",
       "      <td>菊地　直哉</td>\n",
       "      <td>本間　勲</td>\n",
       "      <td>小谷野　顕治</td>\n",
       "      <td>アラン　ミネイロ</td>\n",
       "      <td>矢野　貴章</td>\n",
       "      <td>ブルーノ　ロペス</td>\n",
       "      <td>神奈川県川崎市中原区等々力1-1</td>\n",
       "      <td>26530</td>\n",
       "    </tr>\n",
       "    <tr>\n",
       "      <th>7</th>\n",
       "      <td>14001</td>\n",
       "      <td>11437</td>\n",
       "      <td>2012</td>\n",
       "      <td>Ｊ１</td>\n",
       "      <td>第１節第１日</td>\n",
       "      <td>03/10(土)</td>\n",
       "      <td>19:04</td>\n",
       "      <td>大宮アルディージャ</td>\n",
       "      <td>ＦＣ東京</td>\n",
       "      <td>ＮＡＣＫ５スタジアム大宮</td>\n",
       "      <td>...</td>\n",
       "      <td>加賀　健一</td>\n",
       "      <td>太田　宏介</td>\n",
       "      <td>高橋　秀人</td>\n",
       "      <td>梶山　陽平</td>\n",
       "      <td>羽生　直剛</td>\n",
       "      <td>長谷川　アーリアジャスール</td>\n",
       "      <td>谷澤　達也</td>\n",
       "      <td>ルーカス</td>\n",
       "      <td>埼玉県さいたま市大宮区高鼻町4</td>\n",
       "      <td>15600</td>\n",
       "    </tr>\n",
       "    <tr>\n",
       "      <th>8</th>\n",
       "      <td>14002</td>\n",
       "      <td>13082</td>\n",
       "      <td>2012</td>\n",
       "      <td>Ｊ１</td>\n",
       "      <td>第１節第２日</td>\n",
       "      <td>03/11(日)</td>\n",
       "      <td>14:04</td>\n",
       "      <td>柏レイソル</td>\n",
       "      <td>横浜Ｆ・マリノス</td>\n",
       "      <td>日立柏サッカー場</td>\n",
       "      <td>...</td>\n",
       "      <td>中澤　佑二</td>\n",
       "      <td>金井　貢史</td>\n",
       "      <td>兵藤　慎剛</td>\n",
       "      <td>小椋　祥平</td>\n",
       "      <td>中村　俊輔</td>\n",
       "      <td>齋藤　学</td>\n",
       "      <td>小野　裕二</td>\n",
       "      <td>大黒　将志</td>\n",
       "      <td>千葉県柏市日立台1-2-50</td>\n",
       "      <td>15349</td>\n",
       "    </tr>\n",
       "    <tr>\n",
       "      <th>9</th>\n",
       "      <td>14004</td>\n",
       "      <td>41069</td>\n",
       "      <td>2012</td>\n",
       "      <td>Ｊ１</td>\n",
       "      <td>第２節第１日</td>\n",
       "      <td>03/17(土)</td>\n",
       "      <td>14:04</td>\n",
       "      <td>浦和レッズ</td>\n",
       "      <td>柏レイソル</td>\n",
       "      <td>埼玉スタジアム２００２</td>\n",
       "      <td>...</td>\n",
       "      <td>増嶋　竜也</td>\n",
       "      <td>橋本　和</td>\n",
       "      <td>レアンドロ　ドミンゲス</td>\n",
       "      <td>茨田　陽生</td>\n",
       "      <td>大谷　秀和</td>\n",
       "      <td>ジョルジ　ワグネル</td>\n",
       "      <td>田中　順也</td>\n",
       "      <td>リカルド　ロボ</td>\n",
       "      <td>埼玉県さいたま市緑区中野田500</td>\n",
       "      <td>63700</td>\n",
       "    </tr>\n",
       "    <tr>\n",
       "      <th>10</th>\n",
       "      <td>14005</td>\n",
       "      <td>19488</td>\n",
       "      <td>2012</td>\n",
       "      <td>Ｊ１</td>\n",
       "      <td>第２節第１日</td>\n",
       "      <td>03/17(土)</td>\n",
       "      <td>14:03</td>\n",
       "      <td>横浜Ｆ・マリノス</td>\n",
       "      <td>ベガルタ仙台</td>\n",
       "      <td>日産スタジアム</td>\n",
       "      <td>...</td>\n",
       "      <td>上本　大海</td>\n",
       "      <td>田村　直也</td>\n",
       "      <td>富田　晋伍</td>\n",
       "      <td>角田　誠</td>\n",
       "      <td>太田　吉彰</td>\n",
       "      <td>関口　訓充</td>\n",
       "      <td>ウイルソン</td>\n",
       "      <td>赤嶺　真吾</td>\n",
       "      <td>神奈川県横浜市港北区小机町3300</td>\n",
       "      <td>72327</td>\n",
       "    </tr>\n",
       "    <tr>\n",
       "      <th>11</th>\n",
       "      <td>14006</td>\n",
       "      <td>26294</td>\n",
       "      <td>2012</td>\n",
       "      <td>Ｊ１</td>\n",
       "      <td>第２節第１日</td>\n",
       "      <td>03/17(土)</td>\n",
       "      <td>14:03</td>\n",
       "      <td>アルビレックス新潟</td>\n",
       "      <td>大宮アルディージャ</td>\n",
       "      <td>デンカビッグスワンスタジアム</td>\n",
       "      <td>...</td>\n",
       "      <td>金　英權</td>\n",
       "      <td>下平　匠</td>\n",
       "      <td>渡邉　大剛</td>\n",
       "      <td>青木　拓矢</td>\n",
       "      <td>カルリーニョス</td>\n",
       "      <td>曺　永哲</td>\n",
       "      <td>東　慶悟</td>\n",
       "      <td>ラファエル</td>\n",
       "      <td>新潟県新潟市中央区清五郎67-12</td>\n",
       "      <td>42300</td>\n",
       "    </tr>\n",
       "    <tr>\n",
       "      <th>12</th>\n",
       "      <td>14007</td>\n",
       "      <td>30764</td>\n",
       "      <td>2012</td>\n",
       "      <td>Ｊ１</td>\n",
       "      <td>第２節第１日</td>\n",
       "      <td>03/17(土)</td>\n",
       "      <td>14:04</td>\n",
       "      <td>セレッソ大阪</td>\n",
       "      <td>ガンバ大阪</td>\n",
       "      <td>ヤンマースタジアム長居</td>\n",
       "      <td>...</td>\n",
       "      <td>今野　泰幸</td>\n",
       "      <td>藤春　廣輝</td>\n",
       "      <td>明神　智和</td>\n",
       "      <td>遠藤　保仁</td>\n",
       "      <td>二川　孝広</td>\n",
       "      <td>パウリーニョ</td>\n",
       "      <td>ラフィーニャ</td>\n",
       "      <td>イ　スンヨル</td>\n",
       "      <td>大阪府大阪市東住吉区長居公園1-1</td>\n",
       "      <td>47816</td>\n",
       "    </tr>\n",
       "    <tr>\n",
       "      <th>13</th>\n",
       "      <td>14008</td>\n",
       "      <td>13231</td>\n",
       "      <td>2012</td>\n",
       "      <td>Ｊ１</td>\n",
       "      <td>第２節第１日</td>\n",
       "      <td>03/17(土)</td>\n",
       "      <td>15:04</td>\n",
       "      <td>清水エスパルス</td>\n",
       "      <td>サンフレッチェ広島</td>\n",
       "      <td>ＩＡＩスタジアム日本平</td>\n",
       "      <td>...</td>\n",
       "      <td>水本　裕貴</td>\n",
       "      <td>ミキッチ</td>\n",
       "      <td>青山　敏弘</td>\n",
       "      <td>森﨑　和幸</td>\n",
       "      <td>山岸　智</td>\n",
       "      <td>石原　直樹</td>\n",
       "      <td>髙萩　洋次郎</td>\n",
       "      <td>佐藤　寿人</td>\n",
       "      <td>静岡県静岡市清水区村松3880-1</td>\n",
       "      <td>20281</td>\n",
       "    </tr>\n",
       "    <tr>\n",
       "      <th>14</th>\n",
       "      <td>14009</td>\n",
       "      <td>10653</td>\n",
       "      <td>2012</td>\n",
       "      <td>Ｊ１</td>\n",
       "      <td>第２節第１日</td>\n",
       "      <td>03/17(土)</td>\n",
       "      <td>17:04</td>\n",
       "      <td>ジュビロ磐田</td>\n",
       "      <td>サガン鳥栖</td>\n",
       "      <td>ヤマハスタジアム（磐田）</td>\n",
       "      <td>...</td>\n",
       "      <td>呂　成海</td>\n",
       "      <td>磯崎　敬太</td>\n",
       "      <td>高橋　義希</td>\n",
       "      <td>藤田　直之</td>\n",
       "      <td>水沼　宏太</td>\n",
       "      <td>金　民友</td>\n",
       "      <td>池田　圭</td>\n",
       "      <td>豊田　陽平</td>\n",
       "      <td>静岡県磐田市新貝2500</td>\n",
       "      <td>15165</td>\n",
       "    </tr>\n",
       "    <tr>\n",
       "      <th>15</th>\n",
       "      <td>14010</td>\n",
       "      <td>14036</td>\n",
       "      <td>2012</td>\n",
       "      <td>Ｊ１</td>\n",
       "      <td>第２節第１日</td>\n",
       "      <td>03/17(土)</td>\n",
       "      <td>17:06</td>\n",
       "      <td>ヴィッセル神戸</td>\n",
       "      <td>コンサドーレ札幌</td>\n",
       "      <td>ノエビアスタジアム神戸</td>\n",
       "      <td>...</td>\n",
       "      <td>奈良　竜樹</td>\n",
       "      <td>岩沼　俊介</td>\n",
       "      <td>河合　竜二</td>\n",
       "      <td>山本　真希</td>\n",
       "      <td>近藤　祐介</td>\n",
       "      <td>内村　圭宏</td>\n",
       "      <td>岡本　賢明</td>\n",
       "      <td>前田　俊介</td>\n",
       "      <td>兵庫県神戸市兵庫区御崎町1-2-2</td>\n",
       "      <td>30132</td>\n",
       "    </tr>\n",
       "    <tr>\n",
       "      <th>16</th>\n",
       "      <td>14011</td>\n",
       "      <td>21757</td>\n",
       "      <td>2012</td>\n",
       "      <td>Ｊ１</td>\n",
       "      <td>第２節第１日</td>\n",
       "      <td>03/17(土)</td>\n",
       "      <td>19:04</td>\n",
       "      <td>ＦＣ東京</td>\n",
       "      <td>名古屋グランパス</td>\n",
       "      <td>味の素スタジアム</td>\n",
       "      <td>...</td>\n",
       "      <td>増川　隆洋</td>\n",
       "      <td>阿部　翔平</td>\n",
       "      <td>吉村　圭司</td>\n",
       "      <td>ダニルソン</td>\n",
       "      <td>金崎　夢生</td>\n",
       "      <td>永井　謙佑</td>\n",
       "      <td>ケネディ</td>\n",
       "      <td>玉田　圭司</td>\n",
       "      <td>東京都調布市西町376-3</td>\n",
       "      <td>49970</td>\n",
       "    </tr>\n",
       "    <tr>\n",
       "      <th>17</th>\n",
       "      <td>14012</td>\n",
       "      <td>11831</td>\n",
       "      <td>2012</td>\n",
       "      <td>Ｊ１</td>\n",
       "      <td>第３節第１日</td>\n",
       "      <td>03/24(土)</td>\n",
       "      <td>13:03</td>\n",
       "      <td>ベガルタ仙台</td>\n",
       "      <td>大宮アルディージャ</td>\n",
       "      <td>ユアテックスタジアム仙台</td>\n",
       "      <td>...</td>\n",
       "      <td>金　英權</td>\n",
       "      <td>下平　匠</td>\n",
       "      <td>青木　拓矢</td>\n",
       "      <td>上田　康太</td>\n",
       "      <td>渡邉　大剛</td>\n",
       "      <td>曺　永哲</td>\n",
       "      <td>東　慶悟</td>\n",
       "      <td>ラファエル</td>\n",
       "      <td>宮城県仙台市泉区七北田字柳78</td>\n",
       "      <td>19694</td>\n",
       "    </tr>\n",
       "    <tr>\n",
       "      <th>18</th>\n",
       "      <td>14013</td>\n",
       "      <td>14349</td>\n",
       "      <td>2012</td>\n",
       "      <td>Ｊ１</td>\n",
       "      <td>第３節第１日</td>\n",
       "      <td>03/24(土)</td>\n",
       "      <td>13:04</td>\n",
       "      <td>サンフレッチェ広島</td>\n",
       "      <td>鹿島アントラーズ</td>\n",
       "      <td>エディオンスタジアム広島</td>\n",
       "      <td>...</td>\n",
       "      <td>山村　和也</td>\n",
       "      <td>アレックス</td>\n",
       "      <td>増田　誓志</td>\n",
       "      <td>小笠原　満男</td>\n",
       "      <td>柴崎　岳</td>\n",
       "      <td>遠藤　康</td>\n",
       "      <td>ジュニーニョ</td>\n",
       "      <td>大迫　勇也</td>\n",
       "      <td>広島県広島市安佐南区大塚西5-1-1</td>\n",
       "      <td>50000</td>\n",
       "    </tr>\n",
       "    <tr>\n",
       "      <th>19</th>\n",
       "      <td>14014</td>\n",
       "      <td>14777</td>\n",
       "      <td>2012</td>\n",
       "      <td>Ｊ１</td>\n",
       "      <td>第３節第１日</td>\n",
       "      <td>03/24(土)</td>\n",
       "      <td>14:04</td>\n",
       "      <td>川崎フロンターレ</td>\n",
       "      <td>セレッソ大阪</td>\n",
       "      <td>等々力陸上競技場</td>\n",
       "      <td>...</td>\n",
       "      <td>丸橋　祐介</td>\n",
       "      <td>酒本　憲幸</td>\n",
       "      <td>扇原　貴宏</td>\n",
       "      <td>山口　螢</td>\n",
       "      <td>キム　ボギョン</td>\n",
       "      <td>清武　弘嗣</td>\n",
       "      <td>ブランキーニョ</td>\n",
       "      <td>ケンペス</td>\n",
       "      <td>神奈川県川崎市中原区等々力1-1</td>\n",
       "      <td>26530</td>\n",
       "    </tr>\n",
       "  </tbody>\n",
       "</table>\n",
       "<p>20 rows × 43 columns</p>\n",
       "</div>"
      ],
      "text/plain": [
       "       id      y  year stage   match   gameday   time       home       away  \\\n",
       "0   13994  18250  2012    Ｊ１  第１節第１日  03/10(土)  14:04     ベガルタ仙台   鹿島アントラーズ   \n",
       "1   13995  24316  2012    Ｊ１  第１節第１日  03/10(土)  14:04   名古屋グランパス    清水エスパルス   \n",
       "2   13996  17066  2012    Ｊ１  第１節第１日  03/10(土)  14:04      ガンバ大阪    ヴィッセル神戸   \n",
       "3   13997  29603  2012    Ｊ１  第１節第１日  03/10(土)  14:06  サンフレッチェ広島      浦和レッズ   \n",
       "4   13998  25353  2012    Ｊ１  第１節第１日  03/10(土)  14:04   コンサドーレ札幌     ジュビロ磐田   \n",
       "5   13999  11283  2012    Ｊ１  第１節第１日  03/10(土)  14:05      サガン鳥栖     セレッソ大阪   \n",
       "6   14000  18920  2012    Ｊ１  第１節第１日  03/10(土)  17:05   川崎フロンターレ  アルビレックス新潟   \n",
       "7   14001  11437  2012    Ｊ１  第１節第１日  03/10(土)  19:04  大宮アルディージャ       ＦＣ東京   \n",
       "8   14002  13082  2012    Ｊ１  第１節第２日  03/11(日)  14:04      柏レイソル   横浜Ｆ・マリノス   \n",
       "9   14004  41069  2012    Ｊ１  第２節第１日  03/17(土)  14:04      浦和レッズ      柏レイソル   \n",
       "10  14005  19488  2012    Ｊ１  第２節第１日  03/17(土)  14:03   横浜Ｆ・マリノス     ベガルタ仙台   \n",
       "11  14006  26294  2012    Ｊ１  第２節第１日  03/17(土)  14:03  アルビレックス新潟  大宮アルディージャ   \n",
       "12  14007  30764  2012    Ｊ１  第２節第１日  03/17(土)  14:04     セレッソ大阪      ガンバ大阪   \n",
       "13  14008  13231  2012    Ｊ１  第２節第１日  03/17(土)  15:04    清水エスパルス  サンフレッチェ広島   \n",
       "14  14009  10653  2012    Ｊ１  第２節第１日  03/17(土)  17:04     ジュビロ磐田      サガン鳥栖   \n",
       "15  14010  14036  2012    Ｊ１  第２節第１日  03/17(土)  17:06    ヴィッセル神戸   コンサドーレ札幌   \n",
       "16  14011  21757  2012    Ｊ１  第２節第１日  03/17(土)  19:04       ＦＣ東京   名古屋グランパス   \n",
       "17  14012  11831  2012    Ｊ１  第３節第１日  03/24(土)  13:03     ベガルタ仙台  大宮アルディージャ   \n",
       "18  14013  14349  2012    Ｊ１  第３節第１日  03/24(土)  13:04  サンフレッチェ広島   鹿島アントラーズ   \n",
       "19  14014  14777  2012    Ｊ１  第３節第１日  03/24(土)  14:04   川崎フロンターレ     セレッソ大阪   \n",
       "\n",
       "           stadium  ...          away_04  away_05      away_06 away_07  \\\n",
       "0     ユアテックスタジアム仙台  ...            中田　浩二    アレックス         青木　剛   増田　誓志   \n",
       "1          豊田スタジアム  ...    カルフィン　ヨン　ア　ピン     李　記帝        村松　大輔   河井　陽介   \n",
       "2          万博記念競技場  ...           伊野波　雅彦    相馬　崇人        三原　雅俊   田中　英雄   \n",
       "3     エディオンスタジアム広島  ...            槙野　智章    平川　忠亮        鈴木　啓太   山田　直輝   \n",
       "4            札幌ドーム  ...            藤田　義明    山本　脩斗        小林　裕紀   山本　康裕   \n",
       "5    ベストアメニティスタジアム  ...            丸橋　祐介    酒本　憲幸        扇原　貴宏    山口　螢   \n",
       "6         等々力陸上競技場  ...           大井　健太郎     金　珍洙        菊地　直哉    本間　勲   \n",
       "7     ＮＡＣＫ５スタジアム大宮  ...            加賀　健一    太田　宏介        高橋　秀人   梶山　陽平   \n",
       "8         日立柏サッカー場  ...            中澤　佑二    金井　貢史        兵藤　慎剛   小椋　祥平   \n",
       "9      埼玉スタジアム２００２  ...            増嶋　竜也     橋本　和  レアンドロ　ドミンゲス   茨田　陽生   \n",
       "10         日産スタジアム  ...            上本　大海    田村　直也        富田　晋伍    角田　誠   \n",
       "11  デンカビッグスワンスタジアム  ...             金　英權     下平　匠        渡邉　大剛   青木　拓矢   \n",
       "12     ヤンマースタジアム長居  ...            今野　泰幸    藤春　廣輝        明神　智和   遠藤　保仁   \n",
       "13     ＩＡＩスタジアム日本平  ...            水本　裕貴     ミキッチ        青山　敏弘   森﨑　和幸   \n",
       "14    ヤマハスタジアム（磐田）  ...             呂　成海    磯崎　敬太        高橋　義希   藤田　直之   \n",
       "15     ノエビアスタジアム神戸  ...            奈良　竜樹    岩沼　俊介        河合　竜二   山本　真希   \n",
       "16        味の素スタジアム  ...            増川　隆洋    阿部　翔平        吉村　圭司   ダニルソン   \n",
       "17    ユアテックスタジアム仙台  ...             金　英權     下平　匠        青木　拓矢   上田　康太   \n",
       "18    エディオンスタジアム広島  ...            山村　和也    アレックス        増田　誓志  小笠原　満男   \n",
       "19        等々力陸上競技場  ...            丸橋　祐介    酒本　憲幸        扇原　貴宏    山口　螢   \n",
       "\n",
       "    away_08        away_09  away_10   away_11             address   capa  \n",
       "0    小笠原　満男          本山　雅志    大迫　勇也    ジュニーニョ     宮城県仙台市泉区七北田字柳78  19694  \n",
       "1     枝村　匠馬          高木　俊幸    アレックス     大前　元紀        愛知県豊田市千石町7-2  40000  \n",
       "2     野沢　拓也          橋本　英郎    森岡　亮太    大久保　嘉人     大阪府吹田市千里万博公園5-2  21000  \n",
       "3      梅崎　司          柏木　陽介    原口　元気     田中　達也  広島県広島市安佐南区大塚西5-1-1  50000  \n",
       "4     山田　大記          松浦　拓弥     菅沼　実     前田　遼一       北海道札幌市豊平区羊ヶ丘1  39232  \n",
       "5   キム　ボギョン          清武　弘嗣  ブランキーニョ      ケンペス         佐賀県鳥栖市京町812  24490  \n",
       "6    小谷野　顕治       アラン　ミネイロ    矢野　貴章  ブルーノ　ロペス    神奈川県川崎市中原区等々力1-1  26530  \n",
       "7     羽生　直剛  長谷川　アーリアジャスール    谷澤　達也      ルーカス     埼玉県さいたま市大宮区高鼻町4  15600  \n",
       "8     中村　俊輔           齋藤　学    小野　裕二     大黒　将志      千葉県柏市日立台1-2-50  15349  \n",
       "9     大谷　秀和      ジョルジ　ワグネル    田中　順也   リカルド　ロボ    埼玉県さいたま市緑区中野田500  63700  \n",
       "10    太田　吉彰          関口　訓充    ウイルソン     赤嶺　真吾   神奈川県横浜市港北区小机町3300  72327  \n",
       "11  カルリーニョス           曺　永哲     東　慶悟     ラファエル   新潟県新潟市中央区清五郎67-12  42300  \n",
       "12    二川　孝広         パウリーニョ   ラフィーニャ    イ　スンヨル   大阪府大阪市東住吉区長居公園1-1  47816  \n",
       "13     山岸　智          石原　直樹   髙萩　洋次郎     佐藤　寿人   静岡県静岡市清水区村松3880-1  20281  \n",
       "14    水沼　宏太           金　民友     池田　圭     豊田　陽平        静岡県磐田市新貝2500  15165  \n",
       "15    近藤　祐介          内村　圭宏    岡本　賢明     前田　俊介   兵庫県神戸市兵庫区御崎町1-2-2  30132  \n",
       "16    金崎　夢生          永井　謙佑     ケネディ     玉田　圭司       東京都調布市西町376-3  49970  \n",
       "17    渡邉　大剛           曺　永哲     東　慶悟     ラファエル     宮城県仙台市泉区七北田字柳78  19694  \n",
       "18     柴崎　岳           遠藤　康   ジュニーニョ     大迫　勇也  広島県広島市安佐南区大塚西5-1-1  50000  \n",
       "19  キム　ボギョン          清武　弘嗣  ブランキーニョ      ケンペス    神奈川県川崎市中原区等々力1-1  26530  \n",
       "\n",
       "[20 rows x 43 columns]"
      ]
     },
     "execution_count": 39,
     "metadata": {},
     "output_type": "execute_result"
    }
   ],
   "source": [
    "train.head(20)"
   ]
  },
  {
   "cell_type": "code",
   "execution_count": 40,
   "metadata": {
    "collapsed": true
   },
   "outputs": [],
   "source": [
    "train[\"stage\"] = pd.get_dummies(train[\"stage\"])\n",
    "test[\"stage\"] = pd.get_dummies(test[\"stage\"])"
   ]
  },
  {
   "cell_type": "code",
   "execution_count": 41,
   "metadata": {},
   "outputs": [
    {
     "name": "stderr",
     "output_type": "stream",
     "text": [
      "/home/tsu-nera/anaconda3/envs/opt/lib/python3.6/site-packages/ipykernel_launcher.py:4: DeprecationWarning: \n",
      ".ix is deprecated. Please use\n",
      ".loc for label based indexing or\n",
      ".iloc for positional indexing\n",
      "\n",
      "See the documentation here:\n",
      "http://pandas.pydata.org/pandas-docs/stable/indexing.html#ix-indexer-is-deprecated\n",
      "  after removing the cwd from sys.path.\n",
      "/home/tsu-nera/anaconda3/envs/opt/lib/python3.6/site-packages/ipykernel_launcher.py:12: DeprecationWarning: \n",
      ".ix is deprecated. Please use\n",
      ".loc for label based indexing or\n",
      ".iloc for positional indexing\n",
      "\n",
      "See the documentation here:\n",
      "http://pandas.pydata.org/pandas-docs/stable/indexing.html#ix-indexer-is-deprecated\n",
      "  if sys.path[0] == '':\n"
     ]
    }
   ],
   "source": [
    "for i, weather in enumerate(train[\"weather\"]):\n",
    "    weather = str(weather)\n",
    "    if re.match(\"雨\", weather):\n",
    "        train.ix[i, \"rain\"] = 1\n",
    "    else:\n",
    "        train.ix[i, \"rain\"] = 0\n",
    "for i, weather in enumerate(test[\"weather\"]):\n",
    "    weather = str(weather)\n",
    "    if re.match(\"雨\", weather):\n",
    "        test.ix[i, \"rain\"] = 1\n",
    "    else:\n",
    "        test.ix[i, \"rain\"] = 0"
   ]
  },
  {
   "cell_type": "code",
   "execution_count": 42,
   "metadata": {},
   "outputs": [],
   "source": [
    "for i, m in enumerate(train[\"match\"]):\n",
    "    match = re.findall(\"第(\\w+)節第(\\w+)日\", str(m))[0]\n",
    "    train.ix[i, \"match2\"] = int(match[0])\n",
    "    train.ix[i, \"match3\"] = int(match[1])\n",
    "for i, m in enumerate(test[\"match\"]):\n",
    "    match = re.findall(\"第(\\w+)節第(\\w+)日\", str(m))[0]\n",
    "    test.ix[i, \"match2\"] = int(match[0])\n",
    "    test.ix[i, \"match3\"] = int(match[1])"
   ]
  },
  {
   "cell_type": "code",
   "execution_count": 43,
   "metadata": {
    "collapsed": true
   },
   "outputs": [],
   "source": [
    "for i, tv in enumerate(train[\"tv\"]):\n",
    "    tv = str(tv)\n",
    "    tvlist = tv.split(\"／\")\n",
    "    train.ix[i, \"media\"] = int(len(tvlist))\n",
    "for i, tv in enumerate(test[\"tv\"]):\n",
    "    tv = str(tv)\n",
    "    tvlist = tv.split(\"／\")\n",
    "    test.ix[i, \"media\"] = int(len(tvlist))"
   ]
  },
  {
   "cell_type": "code",
   "execution_count": 44,
   "metadata": {
    "collapsed": true,
    "scrolled": true
   },
   "outputs": [],
   "source": [
    "for i, day in enumerate(train[\"gameday\"]):\n",
    "    day = str(day)\n",
    "    train.ix[i, \"month\"] = int(day[:2])\n",
    "    train.ix[i, \"day\"] = int(day[3:5])\n",
    "    weekday = day[5:]\n",
    "    if re.match(\"\\(\\w・祝\\)\", weekday):\n",
    "        train.ix[i, \"weekday\"] = 0\n",
    "    elif re.match(\"\\(\\w・休\\)\", weekday):\n",
    "        train.ix[i, \"weekday\"] = 0\n",
    "    elif weekday == \"(土)\":\n",
    "        train.ix[i, \"weekday\"] = 1\n",
    "    elif weekday == \"(日)\":\n",
    "        train.ix[i, \"weekday\"] = 2\n",
    "    else:\n",
    "        train.ix[i, \"weekday\"] = 3\n",
    "for i, day in enumerate(test[\"gameday\"]):\n",
    "    day = str(day)\n",
    "    test.ix[i, \"month\"] = int(day[:2])\n",
    "    test.ix[i, \"day\"] = int(day[3:5])\n",
    "    weekday = day[5:]\n",
    "    if re.match(\"\\(\\w・祝\\)\", weekday):\n",
    "        test.ix[i, \"weekday\"] = 0\n",
    "    elif re.match(\"\\(\\w・休\\)\", weekday):\n",
    "        test.ix[i, \"weekday\"] = 0\n",
    "    elif weekday == \"(土)\":\n",
    "        test.ix[i, \"weekday\"] = 1\n",
    "    elif weekday == \"(日)\":\n",
    "        test.ix[i, \"weekday\"] = 2\n",
    "    else:\n",
    "        test.ix[i, \"weekday\"] = 3"
   ]
  },
  {
   "cell_type": "code",
   "execution_count": 45,
   "metadata": {},
   "outputs": [],
   "source": [
    "from dateutil.parser import parse\n",
    "for i, t in enumerate(train[\"time\"]):\n",
    "    train.ix[i, \"hour\"] = int(str(t)[:2])\n",
    "for i, t in enumerate(test[\"time\"]):\n",
    "    test.ix[i, \"hour\"] = int(str(t)[:2])"
   ]
  },
  {
   "cell_type": "code",
   "execution_count": 46,
   "metadata": {
    "collapsed": true
   },
   "outputs": [],
   "source": [
    "from sklearn.preprocessing import LabelEncoder\n",
    "le = LabelEncoder()\n",
    "le.fit(train[\"home\"])\n",
    "train[\"home\"] = le.transform(train[\"home\"])\n",
    "train[\"away\"] = le.transform(train[\"away\"])\n",
    "test[\"home\"] = le.transform(test[\"home\"])\n",
    "test[\"away\"] = le.transform(test[\"away\"])"
   ]
  },
  {
   "cell_type": "code",
   "execution_count": 47,
   "metadata": {},
   "outputs": [],
   "source": [
    "for i, t in enumerate(train[\"humidity\"]):\n",
    "    train.ix[i, \"humid\"] = int(str(t)[:2])\n",
    "for i, t in enumerate(test[\"humidity\"]):\n",
    "    test.ix[i, \"humid\"] = int(str(t)[:2])"
   ]
  },
  {
   "cell_type": "code",
   "execution_count": 48,
   "metadata": {
    "collapsed": true
   },
   "outputs": [],
   "source": [
    "#train = pd.get_dummies(train)"
   ]
  },
  {
   "cell_type": "code",
   "execution_count": 106,
   "metadata": {
    "collapsed": true
   },
   "outputs": [],
   "source": [
    "test_id = test[\"id\"]\n",
    "train2 = train[[\"y\", \"year\", \"temperature\", \"capa\", \"home_score\", \"away_score\", \"stage\", \"month\", \"weekday\", \"home\", \"away\", \"media\", \"humid\", \"match2\"]]\n",
    "test2 = test[[\"temperature\", \"capa\", \"home_score\", \"away_score\", \"stage\", \"month\", \"weekday\", \"home\", \"away\", \"media\", \n",
    " \"humid\", \"match2\"]]"
   ]
  },
  {
   "cell_type": "code",
   "execution_count": 87,
   "metadata": {},
   "outputs": [],
   "source": [
    "test_id = test[\"id\"]\n",
    "train = train[[\"y\", \"year\", \"temperature\", \"capa\", \"home_score\", \"away_score\", \"stage\", \"month\", \"day\", \"weekday\", \"home\", \"away\", \"media\", \"rain\", \"humid\", \"match2\", \"match3\"]]\n",
    "test = test[[\"temperature\", \"capa\", \"home_score\", \"away_score\", \"stage\", \"month\", \"day\", \"weekday\", \"home\", \"away\", \"media\", \"rain\", \n",
    " \"humid\", \"match2\", \"match3\"]]"
   ]
  },
  {
   "cell_type": "code",
   "execution_count": 107,
   "metadata": {
    "collapsed": true
   },
   "outputs": [],
   "source": [
    "train_train = train2[train.year < 2014]\n",
    "train_test = train2[train.year == 2014]"
   ]
  },
  {
   "cell_type": "code",
   "execution_count": 108,
   "metadata": {},
   "outputs": [
    {
     "data": {
      "text/plain": [
       "((1357, 14), (364, 14))"
      ]
     },
     "execution_count": 108,
     "metadata": {},
     "output_type": "execute_result"
    }
   ],
   "source": [
    "train_train.shape, train_test.shape"
   ]
  },
  {
   "cell_type": "code",
   "execution_count": 109,
   "metadata": {
    "collapsed": true
   },
   "outputs": [],
   "source": [
    "train_train_y = train_train[\"y\"]\n",
    "train_train = train_train.drop([\"y\", \"year\"], axis=1)"
   ]
  },
  {
   "cell_type": "code",
   "execution_count": 110,
   "metadata": {
    "collapsed": true
   },
   "outputs": [],
   "source": [
    "train_test_y = train_test[\"y\"]\n",
    "train_test = train_test.drop([\"y\", \"year\"], axis=1)"
   ]
  },
  {
   "cell_type": "markdown",
   "metadata": {},
   "source": [
    "## build model"
   ]
  },
  {
   "cell_type": "code",
   "execution_count": 102,
   "metadata": {
    "collapsed": true
   },
   "outputs": [],
   "source": [
    "from sklearn.linear_model import Ridge\n",
    "from sklearn.metrics import mean_squared_error"
   ]
  },
  {
   "cell_type": "code",
   "execution_count": 103,
   "metadata": {},
   "outputs": [
    {
     "data": {
      "text/plain": [
       "Ridge(alpha=1.0, copy_X=True, fit_intercept=True, max_iter=None,\n",
       "   normalize=False, random_state=None, solver='auto', tol=0.001)"
      ]
     },
     "execution_count": 103,
     "metadata": {},
     "output_type": "execute_result"
    }
   ],
   "source": [
    "logi = Ridge()\n",
    "logi.fit(train_train, train_train_y)"
   ]
  },
  {
   "cell_type": "code",
   "execution_count": 104,
   "metadata": {
    "collapsed": true
   },
   "outputs": [],
   "source": [
    "pred = logi.predict(train_test)"
   ]
  },
  {
   "cell_type": "code",
   "execution_count": 105,
   "metadata": {},
   "outputs": [
    {
     "data": {
      "text/plain": [
       "5306.5630400791842"
      ]
     },
     "execution_count": 105,
     "metadata": {},
     "output_type": "execute_result"
    }
   ],
   "source": [
    "np.sqrt(mean_squared_error(train_test_y, pred))"
   ]
  },
  {
   "cell_type": "code",
   "execution_count": 111,
   "metadata": {},
   "outputs": [],
   "source": [
    "import xgboost as xgb\n",
    "from sklearn.metrics import mean_squared_error"
   ]
  },
  {
   "cell_type": "code",
   "execution_count": 112,
   "metadata": {},
   "outputs": [
    {
     "data": {
      "text/plain": [
       "XGBRegressor(base_score=0.5, colsample_bylevel=1, colsample_bytree=1, gamma=0,\n",
       "       learning_rate=0.1, max_delta_step=0, max_depth=3,\n",
       "       min_child_weight=1, missing=None, n_estimators=100, nthread=-1,\n",
       "       objective='reg:linear', reg_alpha=0, reg_lambda=1,\n",
       "       scale_pos_weight=1, seed=0, silent=True, subsample=1)"
      ]
     },
     "execution_count": 112,
     "metadata": {},
     "output_type": "execute_result"
    }
   ],
   "source": [
    "model = xgb.XGBRegressor()\n",
    "model.fit(train_train, train_train_y)"
   ]
  },
  {
   "cell_type": "code",
   "execution_count": 113,
   "metadata": {
    "collapsed": true
   },
   "outputs": [],
   "source": [
    "pred = model.predict(train_test)"
   ]
  },
  {
   "cell_type": "code",
   "execution_count": 114,
   "metadata": {},
   "outputs": [
    {
     "data": {
      "text/plain": [
       "4343.6501230508502"
      ]
     },
     "execution_count": 114,
     "metadata": {},
     "output_type": "execute_result"
    }
   ],
   "source": [
    "np.sqrt(mean_squared_error(train_test_y, pred))"
   ]
  },
  {
   "cell_type": "code",
   "execution_count": 70,
   "metadata": {
    "scrolled": true
   },
   "outputs": [
    {
     "data": {
      "text/plain": [
       "4372.5722208666384"
      ]
     },
     "execution_count": 70,
     "metadata": {},
     "output_type": "execute_result"
    }
   ],
   "source": [
    "np.sqrt(mean_squared_error(train_test_y, pred))"
   ]
  },
  {
   "cell_type": "code",
   "execution_count": 64,
   "metadata": {
    "scrolled": true
   },
   "outputs": [
    {
     "data": {
      "text/plain": [
       "<matplotlib.axes._subplots.AxesSubplot at 0x7f5ac6584908>"
      ]
     },
     "execution_count": 64,
     "metadata": {},
     "output_type": "execute_result"
    },
    {
     "data": {
      "image/png": "[encoded data removed]",
      "text/plain": [
       "<matplotlib.figure.Figure at 0x7f5ac7083c88>"
      ]
     },
     "metadata": {},
     "output_type": "display_data"
    }
   ],
   "source": [
    "xgb.plot_importance(model)"
   ]
  },
  {
   "cell_type": "code",
   "execution_count": 30,
   "metadata": {
    "collapsed": true
   },
   "outputs": [],
   "source": [
    "from sklearn.ensemble import RandomForestRegressor"
   ]
  },
  {
   "cell_type": "code",
   "execution_count": 31,
   "metadata": {
    "scrolled": true
   },
   "outputs": [
    {
     "data": {
      "text/plain": [
       "RandomForestRegressor(bootstrap=True, criterion='mse', max_depth=None,\n",
       "           max_features='auto', max_leaf_nodes=None,\n",
       "           min_impurity_decrease=0.0, min_impurity_split=None,\n",
       "           min_samples_leaf=1, min_samples_split=2,\n",
       "           min_weight_fraction_leaf=0.0, n_estimators=10, n_jobs=1,\n",
       "           oob_score=False, random_state=None, verbose=0, warm_start=False)"
      ]
     },
     "execution_count": 31,
     "metadata": {},
     "output_type": "execute_result"
    }
   ],
   "source": [
    "rf = RandomForestRegressor()\n",
    "rf.fit(train_train, train_train_y)"
   ]
  },
  {
   "cell_type": "code",
   "execution_count": 32,
   "metadata": {
    "collapsed": true
   },
   "outputs": [],
   "source": [
    "pred = rf.predict(train_test)"
   ]
  },
  {
   "cell_type": "code",
   "execution_count": 33,
   "metadata": {},
   "outputs": [
    {
     "data": {
      "text/plain": [
       "4842.3788998711761"
      ]
     },
     "execution_count": 33,
     "metadata": {},
     "output_type": "execute_result"
    }
   ],
   "source": [
    "np.sqrt(mean_squared_error(train_test_y, pred))"
   ]
  },
  {
   "cell_type": "markdown",
   "metadata": {},
   "source": [
    "## submit"
   ]
  },
  {
   "cell_type": "code",
   "execution_count": 34,
   "metadata": {
    "collapsed": true
   },
   "outputs": [],
   "source": [
    "pred = model.predict(test)"
   ]
  },
  {
   "cell_type": "code",
   "execution_count": 35,
   "metadata": {
    "collapsed": true
   },
   "outputs": [],
   "source": [
    "submissions = pd.DataFrame({\n",
    "    \"id\": test_id,\n",
    "    \"prediction\": pred})\n",
    "submissions.to_csv(\"~/repo/study/JLeague/submit/submit_1112_3_xgboost.csv\", index=False, header=False)"
   ]
  },
  {
   "cell_type": "code",
   "execution_count": null,
   "metadata": {
    "collapsed": true
   },
   "outputs": [],
   "source": []
  }
 ],
 "metadata": {
  "kernelspec": {
   "display_name": "Python 3",
   "language": "python",
   "name": "python3"
  },
  "language_info": {
   "codemirror_mode": {
    "name": "ipython",
    "version": 3
   },
   "file_extension": ".py",
   "mimetype": "text/x-python",
   "name": "python",
   "nbconvert_exporter": "python",
   "pygments_lexer": "ipython3",
   "version": "3.6.1"
  },
  "toc": {
   "colors": {
    "hover_highlight": "#DAA520",
    "navigate_num": "#000000",
    "navigate_text": "#333333",
    "running_highlight": "#FF0000",
    "selected_highlight": "#FFD700",
    "sidebar_border": "#EEEEEE",
    "wrapper_background": "#FFFFFF"
   },
   "moveMenuLeft": true,
   "nav_menu": {
    "height": "38px",
    "width": "253px"
   },
   "navigate_menu": true,
   "number_sections": false,
   "sideBar": true,
   "threshold": 4,
   "toc_cell": false,
   "toc_section_display": "block",
   "toc_window_display": false,
   "widenNotebook": false
  }
 },
 "nbformat": 4,
 "nbformat_minor": 2
}
