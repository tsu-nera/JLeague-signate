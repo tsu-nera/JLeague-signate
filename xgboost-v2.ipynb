{
 "cells": [
  {
   "cell_type": "markdown",
   "metadata": {},
   "source": [
    "# xgboost"
   ]
  },
  {
   "cell_type": "code",
   "execution_count": 45,
   "metadata": {
    "collapsed": true
   },
   "outputs": [],
   "source": [
    "import numpy as np\n",
    "import pandas as pd\n",
    "from matplotlib import pyplot as plt\n",
    "%matplotlib inline\n",
    "import datetime\n",
    "import re"
   ]
  },
  {
   "cell_type": "code",
   "execution_count": 46,
   "metadata": {
    "collapsed": true
   },
   "outputs": [],
   "source": [
    "###データ読込(結合したデータ)\n",
    "train = pd.read_csv(\"~/repo/study/JLeague/data/train_new3.csv\")\n",
    "test = pd.read_csv(\"~/repo/study/JLeague/data/test_new3.csv\")\n",
    "player = pd.read_csv(\"~/repo/study/JLeague/data/player.csv\")\n",
    "test_id = pd.read_csv(\"~/repo/study/JLeague/motodata/test.csv\")[\"id\"]\n",
    "test_id_all = test[\"id\"]"
   ]
  },
  {
   "cell_type": "markdown",
   "metadata": {},
   "source": [
    "## Feature Enginiering"
   ]
  },
  {
   "cell_type": "code",
   "execution_count": 47,
   "metadata": {
    "scrolled": true
   },
   "outputs": [
    {
     "name": "stdout",
     "output_type": "stream",
     "text": [
      "<class 'pandas.core.frame.DataFrame'>\n",
      "RangeIndex: 1952 entries, 0 to 1951\n",
      "Data columns (total 43 columns):\n",
      "id             1952 non-null int64\n",
      "y              1952 non-null int64\n",
      "year           1952 non-null int64\n",
      "stage          1952 non-null object\n",
      "match          1952 non-null object\n",
      "gameday        1952 non-null object\n",
      "time           1952 non-null object\n",
      "home           1952 non-null object\n",
      "away           1952 non-null object\n",
      "stadium        1952 non-null object\n",
      "tv             1952 non-null object\n",
      "home_score     1952 non-null int64\n",
      "away_score     1952 non-null int64\n",
      "weather        1952 non-null object\n",
      "temperature    1952 non-null float64\n",
      "humidity       1952 non-null object\n",
      "referee        1952 non-null object\n",
      "home_team      1952 non-null object\n",
      "home_01        1952 non-null object\n",
      "home_02        1952 non-null object\n",
      "home_03        1952 non-null object\n",
      "home_04        1952 non-null object\n",
      "home_05        1952 non-null object\n",
      "home_06        1952 non-null object\n",
      "home_07        1952 non-null object\n",
      "home_08        1952 non-null object\n",
      "home_09        1952 non-null object\n",
      "home_10        1952 non-null object\n",
      "home_11        1952 non-null object\n",
      "away_team      1952 non-null object\n",
      "away_01        1952 non-null object\n",
      "away_02        1952 non-null object\n",
      "away_03        1952 non-null object\n",
      "away_04        1952 non-null object\n",
      "away_05        1952 non-null object\n",
      "away_06        1952 non-null object\n",
      "away_07        1952 non-null object\n",
      "away_08        1952 non-null object\n",
      "away_09        1952 non-null object\n",
      "away_10        1952 non-null object\n",
      "away_11        1952 non-null object\n",
      "address        1952 non-null object\n",
      "capa           1952 non-null int64\n",
      "dtypes: float64(1), int64(6), object(36)\n",
      "memory usage: 655.8+ KB\n"
     ]
    }
   ],
   "source": [
    "train.info()"
   ]
  },
  {
   "cell_type": "code",
   "execution_count": 48,
   "metadata": {
    "collapsed": true
   },
   "outputs": [],
   "source": [
    "def j2num(j):\n",
    "    return 1 if j == 'Ｊ１' else 0\n",
    "train[\"stage\"] = train[\"stage\"].map(j2num)\n",
    "test[\"stage\"] = test[\"stage\"].map(j2num)"
   ]
  },
  {
   "cell_type": "code",
   "execution_count": 49,
   "metadata": {},
   "outputs": [
    {
     "name": "stderr",
     "output_type": "stream",
     "text": [
      "/home/tsu-nera/anaconda3/envs/opt/lib/python3.6/site-packages/ipykernel_launcher.py:4: DeprecationWarning: \n",
      ".ix is deprecated. Please use\n",
      ".loc for label based indexing or\n",
      ".iloc for positional indexing\n",
      "\n",
      "See the documentation here:\n",
      "http://pandas.pydata.org/pandas-docs/stable/indexing.html#ix-indexer-is-deprecated\n",
      "  after removing the cwd from sys.path.\n",
      "/home/tsu-nera/anaconda3/envs/opt/lib/python3.6/site-packages/ipykernel_launcher.py:12: DeprecationWarning: \n",
      ".ix is deprecated. Please use\n",
      ".loc for label based indexing or\n",
      ".iloc for positional indexing\n",
      "\n",
      "See the documentation here:\n",
      "http://pandas.pydata.org/pandas-docs/stable/indexing.html#ix-indexer-is-deprecated\n",
      "  if sys.path[0] == '':\n"
     ]
    }
   ],
   "source": [
    "for i, weather in enumerate(train[\"weather\"]):\n",
    "    weather = str(weather)\n",
    "    if re.match(\"雨\", weather):\n",
    "        train.ix[i, \"rain\"] = 1\n",
    "    else:\n",
    "        train.ix[i, \"rain\"] = 0\n",
    "for i, weather in enumerate(test[\"weather\"]):\n",
    "    weather = str(weather)\n",
    "    if re.match(\"雨\", weather):\n",
    "        test.ix[i, \"rain\"] = 1\n",
    "    else:\n",
    "        test.ix[i, \"rain\"] = 0"
   ]
  },
  {
   "cell_type": "code",
   "execution_count": 50,
   "metadata": {
    "collapsed": true
   },
   "outputs": [],
   "source": [
    "for i, m in enumerate(train[\"match\"]):\n",
    "    match = re.findall(\"第(\\w+)節第(\\w+)日\", str(m))[0]\n",
    "    train.ix[i, \"match2\"] = int(match[0])\n",
    "    train.ix[i, \"match3\"] = int(match[1])\n",
    "for i, m in enumerate(test[\"match\"]):\n",
    "    match = re.findall(\"第(\\w+)節第(\\w+)日\", str(m))[0]\n",
    "    test.ix[i, \"match2\"] = int(match[0])\n",
    "    test.ix[i, \"match3\"] = int(match[1])"
   ]
  },
  {
   "cell_type": "code",
   "execution_count": 51,
   "metadata": {
    "collapsed": true
   },
   "outputs": [],
   "source": [
    "for i, tv in enumerate(train[\"tv\"]):\n",
    "    tv = str(tv)\n",
    "    tvlist = tv.split(\"／\")\n",
    "    train.ix[i, \"media\"] = int(len(tvlist))\n",
    "for i, tv in enumerate(test[\"tv\"]):\n",
    "    tv = str(tv)\n",
    "    tvlist = tv.split(\"／\")\n",
    "    test.ix[i, \"media\"] = int(len(tvlist))"
   ]
  },
  {
   "cell_type": "code",
   "execution_count": 52,
   "metadata": {
    "collapsed": true,
    "scrolled": true
   },
   "outputs": [],
   "source": [
    "for i, day in enumerate(train[\"gameday\"]):\n",
    "    day = str(day)\n",
    "    train.ix[i, \"month\"] = int(day[:2])\n",
    "    train.ix[i, \"day\"] = int(day[3:5])\n",
    "    weekday = day[5:]\n",
    "    if re.match(\"\\(\\w・祝\\)\", weekday):\n",
    "        train.ix[i, \"weekday\"] = 0\n",
    "    elif re.match(\"\\(\\w・休\\)\", weekday):\n",
    "        train.ix[i, \"weekday\"] = 0\n",
    "    elif weekday == \"(土)\":\n",
    "        train.ix[i, \"weekday\"] = 1\n",
    "    elif weekday == \"(日)\":\n",
    "        train.ix[i, \"weekday\"] = 2\n",
    "    else:\n",
    "        train.ix[i, \"weekday\"] = 3\n",
    "for i, day in enumerate(test[\"gameday\"]):\n",
    "    day = str(day)\n",
    "    test.ix[i, \"month\"] = int(day[:2])\n",
    "    test.ix[i, \"day\"] = int(day[3:5])\n",
    "    weekday = day[5:]\n",
    "    if re.match(\"\\(\\w・祝\\)\", weekday):\n",
    "        test.ix[i, \"weekday\"] = 0\n",
    "    elif re.match(\"\\(\\w・休\\)\", weekday):\n",
    "        test.ix[i, \"weekday\"] = 0\n",
    "    elif weekday == \"(土)\":\n",
    "        test.ix[i, \"weekday\"] = 1\n",
    "    elif weekday == \"(日)\":\n",
    "        test.ix[i, \"weekday\"] = 2\n",
    "    else:\n",
    "        test.ix[i, \"weekday\"] = 3"
   ]
  },
  {
   "cell_type": "code",
   "execution_count": 53,
   "metadata": {
    "collapsed": true
   },
   "outputs": [],
   "source": [
    "from dateutil.parser import parse\n",
    "for i, t in enumerate(train[\"time\"]):\n",
    "    train.ix[i, \"hour\"] = int(str(t)[:2])\n",
    "for i, t in enumerate(test[\"time\"]):\n",
    "    test.ix[i, \"hour\"] = int(str(t)[:2])"
   ]
  },
  {
   "cell_type": "code",
   "execution_count": 54,
   "metadata": {
    "collapsed": true
   },
   "outputs": [],
   "source": [
    "from sklearn.preprocessing import LabelEncoder\n",
    "le = LabelEncoder()\n",
    "le.fit(train[\"home\"])\n",
    "train[\"home\"] = le.transform(train[\"home\"])\n",
    "train[\"away\"] = le.transform(train[\"away\"])\n",
    "test[\"home\"] = le.transform(test[\"home\"])\n",
    "test[\"away\"] = le.transform(test[\"away\"])"
   ]
  },
  {
   "cell_type": "code",
   "execution_count": 55,
   "metadata": {
    "collapsed": true
   },
   "outputs": [],
   "source": [
    "for i, t in enumerate(train[\"humidity\"]):\n",
    "    train.ix[i, \"humid\"] = int(str(t)[:2])\n",
    "for i, t in enumerate(test[\"humidity\"]):\n",
    "    test.ix[i, \"humid\"] = int(str(t)[:2])"
   ]
  },
  {
   "cell_type": "code",
   "execution_count": 56,
   "metadata": {
    "collapsed": true
   },
   "outputs": [],
   "source": [
    "def discomfort_index(T, H):\n",
    "    return 0.81*T+0.01*H*(0.99*T - 14.3) + 46.3\n",
    "train[\"discomfort\"] = discomfort_index(train[\"temperature\"], train[\"humid\"])\n",
    "test[\"discomfort\"] = discomfort_index(test[\"temperature\"], test[\"humid\"])"
   ]
  },
  {
   "cell_type": "code",
   "execution_count": 57,
   "metadata": {
    "collapsed": true
   },
   "outputs": [],
   "source": [
    "for i in range(1,12):\n",
    "    column = \"home_%02d\" % i\n",
    "    for row, name in enumerate(train[column]):\n",
    "        salary = player[player.player_name==name].annual_salary.values\n",
    "        train.ix[row, column] = 2500000 if salary.size == 0 else salary\n",
    "    column = \"away_%02d\" % i\n",
    "    for row, name in enumerate(train[column]):\n",
    "        salary = player[player.player_name==name].annual_salary.values\n",
    "        train.ix[row, column] = 2500000 if salary.size == 0 else salary\n",
    "for i in range(1,12):\n",
    "    column = \"home_%02d\" % i\n",
    "    for row, name in enumerate(test[column]):\n",
    "        salary = player[player.player_name==name].annual_salary.values\n",
    "        test.ix[row, column] = 2500000 if salary.size == 0 else salary\n",
    "    column = \"away_%02d\" % i\n",
    "    for row, name in enumerate(test[column]):\n",
    "        salary = player[player.player_name==name].annual_salary.values\n",
    "        test.ix[row, column] = 2500000 if salary.size == 0 else salary"
   ]
  },
  {
   "cell_type": "code",
   "execution_count": 58,
   "metadata": {
    "collapsed": true
   },
   "outputs": [],
   "source": [
    "train[\"home_all\"] = train[[\"home_01\",\"home_02\",\"home_03\",\"home_04\",\"home_05\",\"home_06\",\"home_07\",\"home_08\",\"home_09\",\"home_10\",\"home_11\"]].sum(axis=1) \n",
    "train[\"away_all\"] = train[[\"away_01\",\"away_02\",\"away_03\",\"away_04\",\"away_05\",\"away_06\",\"away_07\",\"away_08\",\"away_09\",\"away_10\",\"away_11\"]].sum(axis=1) \n",
    "test[\"home_all\"] = test[[\"home_01\",\"home_02\",\"home_03\",\"home_04\",\"home_05\",\"home_06\",\"home_07\",\"home_08\",\"home_09\",\"home_10\",\"home_11\"]].sum(axis=1) \n",
    "test[\"away_all\"] = test[[\"away_01\",\"away_02\",\"away_03\",\"away_04\",\"away_05\",\"away_06\",\"away_07\",\"away_08\",\"away_09\",\"away_10\",\"away_11\"]].sum(axis=1) "
   ]
  },
  {
   "cell_type": "code",
   "execution_count": 95,
   "metadata": {},
   "outputs": [],
   "source": [
    "train_team = pd.get_dummies(train[\"home_team\"]) + pd.get_dummies(train[\"away_team\"])\n",
    "test_team = pd.get_dummies(test[\"home_team\"]) + pd.get_dummies(test[\"away_team\"])"
   ]
  },
  {
   "cell_type": "code",
   "execution_count": 97,
   "metadata": {},
   "outputs": [
    {
     "data": {
      "text/plain": [
       "Index(['アビスパ福岡', 'アルビレックス新潟', 'カターレ富山', 'カマタマーレ讃岐', 'ガイナーレ鳥取', 'ガンバ大阪',\n",
       "       'ギラヴァンツ北九州', 'コンサドーレ札幌', 'サガン鳥栖', 'サンフレッチェ広島', 'ザスパ草津', 'ジェフユナイテッド千葉',\n",
       "       'ジュビロ磐田', 'セレッソ大阪', 'ファジアーノ岡山', 'ベガルタ仙台', 'モンテディオ山形', 'ロアッソ熊本',\n",
       "       'ヴァンフォーレ甲府', 'ヴィッセル神戸', '京都サンガF.C.', '名古屋グランパス', '大分トリニータ', '大宮アルディージャ',\n",
       "       '川崎フロンターレ', '徳島ヴォルティス', '愛媛ＦＣ', '東京ヴェルディ', '松本山雅ＦＣ', '柏レイソル', '栃木ＳＣ',\n",
       "       '横浜Ｆ・マリノス', '横浜ＦＣ', '水戸ホーリーホック', '浦和レッズ', '清水エスパルス', '湘南ベルマーレ',\n",
       "       '鹿島アントラーズ', 'ＦＣ岐阜', 'ＦＣ東京', 'ＦＣ町田ゼルビア', 'Ｖ・ファーレン長崎'],\n",
       "      dtype='object')"
      ]
     },
     "execution_count": 97,
     "metadata": {},
     "output_type": "execute_result"
    }
   ],
   "source": [
    "train_team.columns"
   ]
  },
  {
   "cell_type": "code",
   "execution_count": 100,
   "metadata": {},
   "outputs": [
    {
     "data": {
      "text/plain": [
       "Index(['アビスパ福岡', 'アルビレックス新潟', 'カターレ富山', 'カマタマーレ讃岐', 'ガンバ大阪', 'ギラヴァンツ北九州',\n",
       "       'コンサドーレ札幌', 'サガン鳥栖', 'サンフレッチェ広島', 'ザスパ草津', 'ジェフユナイテッド千葉', 'ジュビロ磐田',\n",
       "       'セレッソ大阪', 'ファジアーノ岡山', 'ベガルタ仙台', 'モンテディオ山形', 'ロアッソ熊本', 'ヴァンフォーレ甲府',\n",
       "       'ヴィッセル神戸', '京都サンガF.C.', '名古屋グランパス', '大分トリニータ', '大宮アルディージャ', '川崎フロンターレ',\n",
       "       '徳島ヴォルティス', '愛媛ＦＣ', '東京ヴェルディ', '松本山雅ＦＣ', '柏レイソル', '栃木ＳＣ', '横浜Ｆ・マリノス',\n",
       "       '横浜ＦＣ', '水戸ホーリーホック', '浦和レッズ', '清水エスパルス', '湘南ベルマーレ', '鹿島アントラーズ', 'ＦＣ岐阜',\n",
       "       'ＦＣ東京', 'Ｖ・ファーレン長崎'],\n",
       "      dtype='object')"
      ]
     },
     "execution_count": 100,
     "metadata": {},
     "output_type": "execute_result"
    }
   ],
   "source": [
    "test_team.columns"
   ]
  },
  {
   "cell_type": "code",
   "execution_count": 101,
   "metadata": {},
   "outputs": [],
   "source": [
    "test_team['ガイナーレ鳥取'] = 0\n",
    "test_team['ＦＣ町田ゼルビア'] = 0"
   ]
  },
  {
   "cell_type": "code",
   "execution_count": 102,
   "metadata": {},
   "outputs": [],
   "source": [
    "from sklearn.preprocessing import PolynomialFeatures\n",
    "poly = PolynomialFeatures(degree=2, include_bias=False)\n",
    "poly.fit(train_team)\n",
    "train_poly = poly.transform(train_team)\n",
    "train_poly_df = pd.DataFrame(columns=poly.get_feature_names(),data=train_poly)\n",
    "test_poly = poly.transform(test_team)\n",
    "test_poly_df = pd.DataFrame(columns=poly.get_feature_names(),data=test_poly)"
   ]
  },
  {
   "cell_type": "code",
   "execution_count": 103,
   "metadata": {
    "collapsed": true
   },
   "outputs": [],
   "source": [
    "train1 = train[[\"y\", \"year\", \"capa\", \"home_score\", \"away_score\", \"month\", \"day\", \"weekday\", \"home\", \"away\", \"media\", \"discomfort\", \"temperature\", \"humid\", \"home_all\", \"away_all\", \"stage\"]]\n",
    "test1 = test[[\"capa\", \"home_score\", \"away_score\",  \"month\", \"day\", \"weekday\", \"home\", \"away\", \"media\", \"discomfort\", \"temperature\", \"humid\", \"home_all\", \"away_all\", \"stage\"]]"
   ]
  },
  {
   "cell_type": "code",
   "execution_count": 104,
   "metadata": {
    "collapsed": true
   },
   "outputs": [],
   "source": [
    "y1 = train1[\"y\"]\n",
    "train1 = train1.drop([\"y\", \"year\"], axis=1)"
   ]
  },
  {
   "cell_type": "code",
   "execution_count": 105,
   "metadata": {},
   "outputs": [],
   "source": [
    "train_df = pd.concat([train1, train_poly_df], axis=1)\n",
    "test_df = pd.concat([test1, test_poly_df], axis=1)"
   ]
  },
  {
   "cell_type": "code",
   "execution_count": 106,
   "metadata": {
    "collapsed": true
   },
   "outputs": [],
   "source": [
    "from sklearn.model_selection import train_test_split\n",
    "X_train, X_test, y_train, y_test = train_test_split(train_df, y1, test_size=0.2, random_state=17)"
   ]
  },
  {
   "cell_type": "markdown",
   "metadata": {},
   "source": [
    "## build model"
   ]
  },
  {
   "cell_type": "code",
   "execution_count": 107,
   "metadata": {
    "collapsed": true
   },
   "outputs": [],
   "source": [
    "import xgboost\n",
    "from xgboost import XGBRegressor\n",
    "from numpy import sort\n",
    "from sklearn.feature_selection import SelectFromModel\n",
    "from sklearn.metrics import mean_squared_error"
   ]
  },
  {
   "cell_type": "code",
   "execution_count": 108,
   "metadata": {},
   "outputs": [
    {
     "data": {
      "text/plain": [
       "XGBRegressor(base_score=0.5, booster='gbtree', colsample_bylevel=1,\n",
       "       colsample_bytree=1, eval_metrics='rmse', gamma=0, learning_rate=0.1,\n",
       "       max_delta_step=0, max_depth=3, min_child_weight=1, missing=None,\n",
       "       n_estimators=100, n_jobs=1, nthread=None, objective='reg:linear',\n",
       "       random_state=17, reg_alpha=0, reg_lambda=1, scale_pos_weight=1,\n",
       "       seed=None, silent=True, subsample=1)"
      ]
     },
     "execution_count": 108,
     "metadata": {},
     "output_type": "execute_result"
    }
   ],
   "source": [
    "model = XGBRegressor(eval_metrics='rmse', random_state=17)\n",
    "model.fit(X_train, y_train)"
   ]
  },
  {
   "cell_type": "code",
   "execution_count": 109,
   "metadata": {
    "collapsed": true
   },
   "outputs": [],
   "source": [
    "pred = model.predict(X_test)"
   ]
  },
  {
   "cell_type": "code",
   "execution_count": 110,
   "metadata": {},
   "outputs": [
    {
     "data": {
      "text/plain": [
       "3204.6047864664692"
      ]
     },
     "execution_count": 110,
     "metadata": {},
     "output_type": "execute_result"
    }
   ],
   "source": [
    "np.sqrt(mean_squared_error(y_test, pred))"
   ]
  },
  {
   "cell_type": "code",
   "execution_count": 111,
   "metadata": {},
   "outputs": [
    {
     "data": {
      "text/plain": [
       "<matplotlib.axes._subplots.AxesSubplot at 0x7f04e715fb38>"
      ]
     },
     "execution_count": 111,
     "metadata": {},
     "output_type": "execute_result"
    },
    {
     "data": {
      "image/png": "[encoded data removed]",
      "text/plain": [
       "<matplotlib.figure.Figure at 0x7f04e71d4fd0>"
      ]
     },
     "metadata": {},
     "output_type": "display_data"
    }
   ],
   "source": [
    "plt.style.use('ggplot')\n",
    "xgboost.plot_importance(model, max_num_features=20)"
   ]
  },
  {
   "cell_type": "markdown",
   "metadata": {},
   "source": [
    "## submit"
   ]
  },
  {
   "cell_type": "code",
   "execution_count": 112,
   "metadata": {},
   "outputs": [],
   "source": [
    "pred = model.predict(test_df)"
   ]
  },
  {
   "cell_type": "code",
   "execution_count": 113,
   "metadata": {},
   "outputs": [
    {
     "name": "stderr",
     "output_type": "stream",
     "text": [
      "/home/tsu-nera/anaconda3/envs/opt/lib/python3.6/site-packages/ipykernel_launcher.py:2: DeprecationWarning: \n",
      ".ix is deprecated. Please use\n",
      ".loc for label based indexing or\n",
      ".iloc for positional indexing\n",
      "\n",
      "See the documentation here:\n",
      "http://pandas.pydata.org/pandas-docs/stable/indexing.html#ix-indexer-is-deprecated\n",
      "  \n"
     ]
    }
   ],
   "source": [
    "for i, p in enumerate(pred):\n",
    "    if p > test1.ix[i, \"capa\"]:\n",
    "        pred[i] = test1.ix[i, \"capa\"]\n",
    "    else:\n",
    "        pred[i] = p"
   ]
  },
  {
   "cell_type": "code",
   "execution_count": 114,
   "metadata": {
    "collapsed": true
   },
   "outputs": [],
   "source": [
    "for i, p in enumerate(pred):\n",
    "    if p < min(y1):\n",
    "        print(p, min(y1))\n",
    "        pred[i] = min(y1)\n",
    "    else:\n",
    "        pred[i] = p"
   ]
  },
  {
   "cell_type": "code",
   "execution_count": 115,
   "metadata": {
    "collapsed": true
   },
   "outputs": [],
   "source": [
    "pred = pd.DataFrame(pred, columns={\"pred\"})\n",
    "pred[\"id\"] = test_id_all"
   ]
  },
  {
   "cell_type": "code",
   "execution_count": 116,
   "metadata": {
    "collapsed": true
   },
   "outputs": [],
   "source": [
    "test_id = pd.DataFrame(test_id)\n",
    "test_id[\"id\"] = test_id"
   ]
  },
  {
   "cell_type": "code",
   "execution_count": 117,
   "metadata": {
    "collapsed": true
   },
   "outputs": [],
   "source": [
    "pred = pd.merge(pred, test_id, how=\"right\", on=[\"id\"])"
   ]
  },
  {
   "cell_type": "code",
   "execution_count": 118,
   "metadata": {
    "collapsed": true
   },
   "outputs": [],
   "source": [
    "pred = pred.loc[:, [\"id\", \"pred\"]]"
   ]
  },
  {
   "cell_type": "code",
   "execution_count": 119,
   "metadata": {
    "collapsed": true
   },
   "outputs": [],
   "source": [
    "pred.to_csv(\"~/repo/study/JLeague/submit/submit_1126_1_xgboost.csv\", index=False, header=False)"
   ]
  },
  {
   "cell_type": "code",
   "execution_count": null,
   "metadata": {
    "collapsed": true
   },
   "outputs": [],
   "source": []
  }
 ],
 "metadata": {
  "kernelspec": {
   "display_name": "Python 3",
   "language": "python",
   "name": "python3"
  },
  "language_info": {
   "codemirror_mode": {
    "name": "ipython",
    "version": 3
   },
   "file_extension": ".py",
   "mimetype": "text/x-python",
   "name": "python",
   "nbconvert_exporter": "python",
   "pygments_lexer": "ipython3",
   "version": "3.6.1"
  },
  "toc": {
   "colors": {
    "hover_highlight": "#DAA520",
    "navigate_num": "#000000",
    "navigate_text": "#333333",
    "running_highlight": "#FF0000",
    "selected_highlight": "#FFD700",
    "sidebar_border": "#EEEEEE",
    "wrapper_background": "#FFFFFF"
   },
   "moveMenuLeft": true,
   "nav_menu": {
    "height": "38px",
    "width": "253px"
   },
   "navigate_menu": true,
   "number_sections": false,
   "sideBar": true,
   "threshold": 4,
   "toc_cell": false,
   "toc_section_display": "block",
   "toc_window_display": false,
   "widenNotebook": false
  }
 },
 "nbformat": 4,
 "nbformat_minor": 2
}
