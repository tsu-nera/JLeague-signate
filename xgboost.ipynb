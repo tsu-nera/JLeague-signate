{
 "cells": [
  {
   "cell_type": "markdown",
   "metadata": {},
   "source": [
    "# xgboost"
   ]
  },
  {
   "cell_type": "code",
   "execution_count": 1,
   "metadata": {
    "collapsed": true
   },
   "outputs": [],
   "source": [
    "import numpy as np\n",
    "import pandas as pd\n",
    "from matplotlib import pyplot as plt\n",
    "%matplotlib inline\n",
    "import datetime\n",
    "import re"
   ]
  },
  {
   "cell_type": "code",
   "execution_count": 2,
   "metadata": {},
   "outputs": [],
   "source": [
    "###データ読込(結合したデータ)\n",
    "train = pd.read_csv(\"~/repo/study/JLeague/data/train_new3.csv\")\n",
    "test = pd.read_csv(\"~/repo/study/JLeague/data/test_new3.csv\")\n",
    "player = pd.read_csv(\"~/repo/study/JLeague/data/player.csv\")\n",
    "test_id = pd.read_csv(\"~/repo/study/JLeague/motodata/test.csv\")[\"id\"]\n",
    "test_id_all = test[\"id\"]"
   ]
  },
  {
   "cell_type": "markdown",
   "metadata": {},
   "source": [
    "## Feature Enginiering"
   ]
  },
  {
   "cell_type": "code",
   "execution_count": 3,
   "metadata": {
    "scrolled": true
   },
   "outputs": [
    {
     "name": "stdout",
     "output_type": "stream",
     "text": [
      "<class 'pandas.core.frame.DataFrame'>\n",
      "RangeIndex: 1952 entries, 0 to 1951\n",
      "Data columns (total 43 columns):\n",
      "id             1952 non-null int64\n",
      "y              1952 non-null int64\n",
      "year           1952 non-null int64\n",
      "stage          1952 non-null object\n",
      "match          1952 non-null object\n",
      "gameday        1952 non-null object\n",
      "time           1952 non-null object\n",
      "home           1952 non-null object\n",
      "away           1952 non-null object\n",
      "stadium        1952 non-null object\n",
      "tv             1952 non-null object\n",
      "home_score     1952 non-null int64\n",
      "away_score     1952 non-null int64\n",
      "weather        1952 non-null object\n",
      "temperature    1952 non-null float64\n",
      "humidity       1952 non-null object\n",
      "referee        1952 non-null object\n",
      "home_team      1952 non-null object\n",
      "home_01        1952 non-null object\n",
      "home_02        1952 non-null object\n",
      "home_03        1952 non-null object\n",
      "home_04        1952 non-null object\n",
      "home_05        1952 non-null object\n",
      "home_06        1952 non-null object\n",
      "home_07        1952 non-null object\n",
      "home_08        1952 non-null object\n",
      "home_09        1952 non-null object\n",
      "home_10        1952 non-null object\n",
      "home_11        1952 non-null object\n",
      "away_team      1952 non-null object\n",
      "away_01        1952 non-null object\n",
      "away_02        1952 non-null object\n",
      "away_03        1952 non-null object\n",
      "away_04        1952 non-null object\n",
      "away_05        1952 non-null object\n",
      "away_06        1952 non-null object\n",
      "away_07        1952 non-null object\n",
      "away_08        1952 non-null object\n",
      "away_09        1952 non-null object\n",
      "away_10        1952 non-null object\n",
      "away_11        1952 non-null object\n",
      "address        1952 non-null object\n",
      "capa           1952 non-null int64\n",
      "dtypes: float64(1), int64(6), object(36)\n",
      "memory usage: 655.8+ KB\n"
     ]
    }
   ],
   "source": [
    "train.info()"
   ]
  },
  {
   "cell_type": "code",
   "execution_count": 4,
   "metadata": {},
   "outputs": [],
   "source": [
    "def j2num(j):\n",
    "    return 1 if j == 'Ｊ１' else 0\n",
    "train[\"stage\"] = train[\"stage\"].map(j2num)\n",
    "test[\"stage\"] = test[\"stage\"].map(j2num)"
   ]
  },
  {
   "cell_type": "code",
   "execution_count": 5,
   "metadata": {},
   "outputs": [
    {
     "name": "stderr",
     "output_type": "stream",
     "text": [
      "/home/tsu-nera/anaconda3/envs/opt/lib/python3.6/site-packages/ipykernel_launcher.py:4: DeprecationWarning: \n",
      ".ix is deprecated. Please use\n",
      ".loc for label based indexing or\n",
      ".iloc for positional indexing\n",
      "\n",
      "See the documentation here:\n",
      "http://pandas.pydata.org/pandas-docs/stable/indexing.html#ix-indexer-is-deprecated\n",
      "  after removing the cwd from sys.path.\n",
      "/home/tsu-nera/anaconda3/envs/opt/lib/python3.6/site-packages/ipykernel_launcher.py:12: DeprecationWarning: \n",
      ".ix is deprecated. Please use\n",
      ".loc for label based indexing or\n",
      ".iloc for positional indexing\n",
      "\n",
      "See the documentation here:\n",
      "http://pandas.pydata.org/pandas-docs/stable/indexing.html#ix-indexer-is-deprecated\n",
      "  if sys.path[0] == '':\n"
     ]
    }
   ],
   "source": [
    "for i, weather in enumerate(train[\"weather\"]):\n",
    "    weather = str(weather)\n",
    "    if re.match(\"雨\", weather):\n",
    "        train.ix[i, \"rain\"] = 1\n",
    "    else:\n",
    "        train.ix[i, \"rain\"] = 0\n",
    "for i, weather in enumerate(test[\"weather\"]):\n",
    "    weather = str(weather)\n",
    "    if re.match(\"雨\", weather):\n",
    "        test.ix[i, \"rain\"] = 1\n",
    "    else:\n",
    "        test.ix[i, \"rain\"] = 0"
   ]
  },
  {
   "cell_type": "code",
   "execution_count": 6,
   "metadata": {
    "collapsed": true
   },
   "outputs": [],
   "source": [
    "for i, m in enumerate(train[\"match\"]):\n",
    "    match = re.findall(\"第(\\w+)節第(\\w+)日\", str(m))[0]\n",
    "    train.ix[i, \"match2\"] = int(match[0])\n",
    "    train.ix[i, \"match3\"] = int(match[1])\n",
    "for i, m in enumerate(test[\"match\"]):\n",
    "    match = re.findall(\"第(\\w+)節第(\\w+)日\", str(m))[0]\n",
    "    test.ix[i, \"match2\"] = int(match[0])\n",
    "    test.ix[i, \"match3\"] = int(match[1])"
   ]
  },
  {
   "cell_type": "code",
   "execution_count": 7,
   "metadata": {
    "collapsed": true
   },
   "outputs": [],
   "source": [
    "for i, tv in enumerate(train[\"tv\"]):\n",
    "    tv = str(tv)\n",
    "    tvlist = tv.split(\"／\")\n",
    "    train.ix[i, \"media\"] = int(len(tvlist))\n",
    "for i, tv in enumerate(test[\"tv\"]):\n",
    "    tv = str(tv)\n",
    "    tvlist = tv.split(\"／\")\n",
    "    test.ix[i, \"media\"] = int(len(tvlist))"
   ]
  },
  {
   "cell_type": "code",
   "execution_count": 8,
   "metadata": {
    "collapsed": true,
    "scrolled": true
   },
   "outputs": [],
   "source": [
    "for i, day in enumerate(train[\"gameday\"]):\n",
    "    day = str(day)\n",
    "    train.ix[i, \"month\"] = int(day[:2])\n",
    "    train.ix[i, \"day\"] = int(day[3:5])\n",
    "    weekday = day[5:]\n",
    "    if re.match(\"\\(\\w・祝\\)\", weekday):\n",
    "        train.ix[i, \"weekday\"] = 0\n",
    "    elif re.match(\"\\(\\w・休\\)\", weekday):\n",
    "        train.ix[i, \"weekday\"] = 0\n",
    "    elif weekday == \"(土)\":\n",
    "        train.ix[i, \"weekday\"] = 1\n",
    "    elif weekday == \"(日)\":\n",
    "        train.ix[i, \"weekday\"] = 2\n",
    "    else:\n",
    "        train.ix[i, \"weekday\"] = 3\n",
    "for i, day in enumerate(test[\"gameday\"]):\n",
    "    day = str(day)\n",
    "    test.ix[i, \"month\"] = int(day[:2])\n",
    "    test.ix[i, \"day\"] = int(day[3:5])\n",
    "    weekday = day[5:]\n",
    "    if re.match(\"\\(\\w・祝\\)\", weekday):\n",
    "        test.ix[i, \"weekday\"] = 0\n",
    "    elif re.match(\"\\(\\w・休\\)\", weekday):\n",
    "        test.ix[i, \"weekday\"] = 0\n",
    "    elif weekday == \"(土)\":\n",
    "        test.ix[i, \"weekday\"] = 1\n",
    "    elif weekday == \"(日)\":\n",
    "        test.ix[i, \"weekday\"] = 2\n",
    "    else:\n",
    "        test.ix[i, \"weekday\"] = 3"
   ]
  },
  {
   "cell_type": "code",
   "execution_count": 9,
   "metadata": {
    "collapsed": true
   },
   "outputs": [],
   "source": [
    "from dateutil.parser import parse\n",
    "for i, t in enumerate(train[\"time\"]):\n",
    "    train.ix[i, \"hour\"] = int(str(t)[:2])\n",
    "for i, t in enumerate(test[\"time\"]):\n",
    "    test.ix[i, \"hour\"] = int(str(t)[:2])"
   ]
  },
  {
   "cell_type": "code",
   "execution_count": 10,
   "metadata": {
    "collapsed": true
   },
   "outputs": [],
   "source": [
    "from sklearn.preprocessing import LabelEncoder\n",
    "le = LabelEncoder()\n",
    "le.fit(train[\"home\"])\n",
    "train[\"home\"] = le.transform(train[\"home\"])\n",
    "train[\"away\"] = le.transform(train[\"away\"])\n",
    "test[\"home\"] = le.transform(test[\"home\"])\n",
    "test[\"away\"] = le.transform(test[\"away\"])"
   ]
  },
  {
   "cell_type": "code",
   "execution_count": 11,
   "metadata": {
    "collapsed": true
   },
   "outputs": [],
   "source": [
    "for i, t in enumerate(train[\"humidity\"]):\n",
    "    train.ix[i, \"humid\"] = int(str(t)[:2])\n",
    "for i, t in enumerate(test[\"humidity\"]):\n",
    "    test.ix[i, \"humid\"] = int(str(t)[:2])"
   ]
  },
  {
   "cell_type": "code",
   "execution_count": 12,
   "metadata": {
    "collapsed": true
   },
   "outputs": [],
   "source": [
    "def discomfort_index(T, H):\n",
    "    return 0.81*T+0.01*H*(0.99*T - 14.3) + 46.3\n",
    "train[\"discomfort\"] = discomfort_index(train[\"temperature\"], train[\"humid\"])\n",
    "test[\"discomfort\"] = discomfort_index(test[\"temperature\"], test[\"humid\"])"
   ]
  },
  {
   "cell_type": "code",
   "execution_count": 13,
   "metadata": {
    "collapsed": true
   },
   "outputs": [],
   "source": [
    "million = [\"フォルラン\",\n",
    "\"マルキーニョス\",\n",
    "\"遠藤　保仁\",\n",
    "\"田中　マルクス闘莉王\",\n",
    "\"中村　俊輔\",\n",
    "\"中澤　佑二\",\n",
    "\"ペドロ　ジュニオール\",\n",
    "\"今野　泰幸\",\n",
    "\"ケネディ\",\n",
    "\"マルシオ　リシャルデス\",\n",
    "\"阿部　勇樹\",\n",
    "\"中村　憲剛\",\n",
    "\"シンプリシオ\",\n",
    "\"ドゥトラ\"]\n",
    "\n",
    "\n",
    "train[\"million\"] = 0\n",
    "for i in range(1,12):\n",
    "    column = \"home_%02d\" % i\n",
    "    for row, name in enumerate(train[column]):\n",
    "        if(name in million):\n",
    "            train.ix[row, \"million\"] = 1\n",
    "    column = \"away_%02d\" % i\n",
    "    for row, name in enumerate(train[column]):\n",
    "        if(name in million):\n",
    "            train.ix[row, \"million\"] = 1\n",
    "test[\"million\"] = 0\n",
    "for i in range(1,12):\n",
    "    column = \"home_%02d\" % i\n",
    "    for row, name in enumerate(test[column]):\n",
    "        if(name in million):\n",
    "            test.ix[row, \"million\"] = 1\n",
    "    column = \"away_%02d\" % i\n",
    "    for row, name in enumerate(test[column]):\n",
    "        if(name in million):\n",
    "            test.ix[row, \"million\"] = 1"
   ]
  },
  {
   "cell_type": "code",
   "execution_count": 14,
   "metadata": {},
   "outputs": [],
   "source": [
    "for i in range(1,12):\n",
    "    column = \"home_%02d\" % i\n",
    "    for row, name in enumerate(train[column]):\n",
    "        salary = player[player.player_name==name].annual_salary.values\n",
    "        train.ix[row, column] = 2500000 if salary.size == 0 else salary\n",
    "    column = \"away_%02d\" % i\n",
    "    for row, name in enumerate(train[column]):\n",
    "        salary = player[player.player_name==name].annual_salary.values\n",
    "        train.ix[row, column] = 2500000 if salary.size == 0 else salary\n",
    "for i in range(1,12):\n",
    "    column = \"home_%02d\" % i\n",
    "    for row, name in enumerate(test[column]):\n",
    "        salary = player[player.player_name==name].annual_salary.values\n",
    "        test.ix[row, column] = 2500000 if salary.size == 0 else salary\n",
    "    column = \"away_%02d\" % i\n",
    "    for row, name in enumerate(test[column]):\n",
    "        salary = player[player.player_name==name].annual_salary.values\n",
    "        test.ix[row, column] = 2500000 if salary.size == 0 else salary"
   ]
  },
  {
   "cell_type": "code",
   "execution_count": 15,
   "metadata": {},
   "outputs": [],
   "source": [
    "train[\"home_all\"] = train[[\"home_01\",\"home_02\",\"home_03\",\"home_04\",\"home_05\",\"home_06\",\"home_07\",\"home_08\",\"home_09\",\"home_10\",\"home_11\"]].sum(axis=1) \n",
    "train[\"away_all\"] = train[[\"away_01\",\"away_02\",\"away_03\",\"away_04\",\"away_05\",\"away_06\",\"away_07\",\"away_08\",\"away_09\",\"away_10\",\"away_11\"]].sum(axis=1) \n",
    "test[\"home_all\"] = test[[\"home_01\",\"home_02\",\"home_03\",\"home_04\",\"home_05\",\"home_06\",\"home_07\",\"home_08\",\"home_09\",\"home_10\",\"home_11\"]].sum(axis=1) \n",
    "test[\"away_all\"] = test[[\"away_01\",\"away_02\",\"away_03\",\"away_04\",\"away_05\",\"away_06\",\"away_07\",\"away_08\",\"away_09\",\"away_10\",\"away_11\"]].sum(axis=1) "
   ]
  },
  {
   "cell_type": "code",
   "execution_count": 42,
   "metadata": {},
   "outputs": [],
   "source": [
    "train_j1=train[train.stage==1]\n",
    "train_j2=train[train.stage==0]\n",
    "test_j1=test[test.stage==1]\n",
    "test_j2=test[test.stage==0]"
   ]
  },
  {
   "cell_type": "code",
   "execution_count": 43,
   "metadata": {
    "collapsed": true
   },
   "outputs": [],
   "source": [
    "j1_id = test_j1[\"id\"].reset_index()\n",
    "j2_id = test_j2[\"id\"].reset_index()"
   ]
  },
  {
   "cell_type": "code",
   "execution_count": 44,
   "metadata": {},
   "outputs": [],
   "source": [
    "train1 = train_j1[[\"y\", \"year\", \"capa\", \"home_score\", \"away_score\", \"month\", \"day\", \"weekday\", \"home\", \"away\", \"media\", \"discomfort\", \"temperature\", \"humid\", \"home_all\", \"away_all\"]]\n",
    "test1 = test_j1[[\"capa\", \"home_score\", \"away_score\",  \"month\", \"day\", \"weekday\", \"home\", \"away\", \"media\", \"discomfort\", \"temperature\", \"humid\", \"home_all\", \"away_all\"]]"
   ]
  },
  {
   "cell_type": "code",
   "execution_count": 45,
   "metadata": {
    "collapsed": true
   },
   "outputs": [],
   "source": [
    "train2 = train_j2[[\"y\", \"year\", \"capa\", \"home_score\", \"away_score\", \"month\", \"day\", \"weekday\", \"home\", \"away\", \"media\", \"discomfort\", \"temperature\", \"humid\", \"home_all\", \"away_all\"]]\n",
    "test2 = test_j2[[\"capa\", \"home_score\", \"away_score\", \"month\", \"day\", \"weekday\", \"home\", \"away\", \"media\", \"discomfort\", \"temperature\", \"humid\", \"home_all\", \"away_all\"]]"
   ]
  },
  {
   "cell_type": "code",
   "execution_count": 46,
   "metadata": {
    "collapsed": true
   },
   "outputs": [],
   "source": [
    "#train2 = train[[\"y\", \"year\", \"temperature\", \"capa\", \"home_score\", \"away_score\", \"stage\", \"month\", \"day\", \"weekday\", \"home\", \"away\", \"media\", \"rain\", \"humid\", \"match2\", \"match3\"]]\n",
    "#test2 = test[[\"temperature\", \"capa\", \"home_score\", \"away_score\", \"stage\", \"month\", \"day\", \"weekday\", \"home\", \"away\", \"media\", \"rain\", \"humid\", \"match2\", \"match3\"]]"
   ]
  },
  {
   "cell_type": "code",
   "execution_count": 47,
   "metadata": {},
   "outputs": [],
   "source": [
    "y1 = train1[\"y\"]\n",
    "train1 = train1.drop([\"y\", \"year\"], axis=1)\n",
    "y2 = train2[\"y\"]\n",
    "train2 = train2.drop([\"y\", \"year\"], axis=1)"
   ]
  },
  {
   "cell_type": "code",
   "execution_count": 48,
   "metadata": {
    "collapsed": true
   },
   "outputs": [],
   "source": [
    "from sklearn.model_selection import train_test_split\n",
    "X_train, X_test, y_train, y_test = train_test_split(train1, y1, test_size=0.2, random_state=17)\n",
    "X_train2, X_test2, y_train2, y_test2 = train_test_split(train2, y2, test_size=0.2, random_state=17)"
   ]
  },
  {
   "cell_type": "markdown",
   "metadata": {},
   "source": [
    "## build model"
   ]
  },
  {
   "cell_type": "code",
   "execution_count": 49,
   "metadata": {
    "collapsed": true
   },
   "outputs": [],
   "source": [
    "import xgboost\n",
    "from xgboost import XGBRegressor\n",
    "from numpy import sort\n",
    "from sklearn.feature_selection import SelectFromModel\n",
    "from sklearn.metrics import mean_squared_error"
   ]
  },
  {
   "cell_type": "code",
   "execution_count": 50,
   "metadata": {},
   "outputs": [
    {
     "data": {
      "text/plain": [
       "XGBRegressor(base_score=0.5, booster='gbtree', colsample_bylevel=1,\n",
       "       colsample_bytree=1, eval_metrics='rmse', gamma=0, learning_rate=0.1,\n",
       "       max_delta_step=0, max_depth=3, min_child_weight=1, missing=None,\n",
       "       n_estimators=100, n_jobs=1, nthread=None, objective='reg:linear',\n",
       "       random_state=0, reg_alpha=0, reg_lambda=1, scale_pos_weight=1,\n",
       "       seed=None, silent=True, subsample=1)"
      ]
     },
     "execution_count": 50,
     "metadata": {},
     "output_type": "execute_result"
    }
   ],
   "source": [
    "model = XGBRegressor(eval_metrics='rmse')\n",
    "model.fit(X_train, y_train)\n",
    "model2 = XGBRegressor(eval_metrics='rmse')\n",
    "model2.fit(X_train2, y_train2)"
   ]
  },
  {
   "cell_type": "code",
   "execution_count": 51,
   "metadata": {
    "collapsed": true
   },
   "outputs": [],
   "source": [
    "pred = model.predict(X_test)\n",
    "pred2 = model2.predict(X_test2)"
   ]
  },
  {
   "cell_type": "code",
   "execution_count": 52,
   "metadata": {},
   "outputs": [
    {
     "data": {
      "text/plain": [
       "5277.8456350943043"
      ]
     },
     "execution_count": 52,
     "metadata": {},
     "output_type": "execute_result"
    }
   ],
   "source": [
    "np.sqrt(mean_squared_error(y_test, pred))"
   ]
  },
  {
   "cell_type": "code",
   "execution_count": 53,
   "metadata": {},
   "outputs": [
    {
     "data": {
      "text/plain": [
       "2272.1100374049634"
      ]
     },
     "execution_count": 53,
     "metadata": {},
     "output_type": "execute_result"
    }
   ],
   "source": [
    "np.sqrt(mean_squared_error(y_test2, pred2))"
   ]
  },
  {
   "cell_type": "code",
   "execution_count": 54,
   "metadata": {
    "scrolled": false
   },
   "outputs": [
    {
     "name": "stdout",
     "output_type": "stream",
     "text": [
      "Thresh=0.019, n=14, Accuracy: 5277.85\n",
      "Thresh=0.028, n=13, Accuracy: 5308.67\n",
      "Thresh=0.036, n=12, Accuracy: 5183.87\n",
      "Thresh=0.036, n=12, Accuracy: 5183.87\n",
      "Thresh=0.048, n=10, Accuracy: 5248.12\n",
      "Thresh=0.057, n=9, Accuracy: 5254.30\n",
      "Thresh=0.059, n=8, Accuracy: 5260.93\n",
      "Thresh=0.065, n=7, Accuracy: 5336.87\n",
      "Thresh=0.068, n=6, Accuracy: 5470.45\n",
      "Thresh=0.071, n=5, Accuracy: 5620.09\n",
      "Thresh=0.101, n=4, Accuracy: 5895.11\n",
      "Thresh=0.113, n=3, Accuracy: 5876.83\n",
      "Thresh=0.113, n=3, Accuracy: 5876.83\n",
      "Thresh=0.187, n=1, Accuracy: 6019.80\n"
     ]
    }
   ],
   "source": [
    "thresholds = sort(model.feature_importances_)\n",
    "for thresh in thresholds:\n",
    "    # select features using threshold\n",
    "    selection = SelectFromModel(model, threshold=thresh, prefit=True)\n",
    "    select_X_train = selection.transform(X_train)\n",
    "    # train model\n",
    "    selection_model = XGBRegressor()\n",
    "    selection_model.fit(select_X_train, y_train)\n",
    "    # eval model\n",
    "    select_X_test = selection.transform(X_test)\n",
    "    predictions = selection_model.predict(select_X_test)\n",
    "    accuracy = np.sqrt(mean_squared_error(y_test, predictions))\n",
    "    print(\"Thresh=%.3f, n=%d, Accuracy: %.2f\" % (thresh, select_X_train.shape[1], accuracy))"
   ]
  },
  {
   "cell_type": "code",
   "execution_count": 55,
   "metadata": {},
   "outputs": [
    {
     "data": {
      "text/plain": [
       "<matplotlib.axes._subplots.AxesSubplot at 0x7fe22be1d9b0>"
      ]
     },
     "execution_count": 55,
     "metadata": {},
     "output_type": "execute_result"
    },
    {
     "data": {
      "image/png": "[encoded data removed]",
      "text/plain": [
       "<matplotlib.figure.Figure at 0x7fe22bcfebe0>"
      ]
     },
     "metadata": {},
     "output_type": "display_data"
    }
   ],
   "source": [
    "plt.style.use('ggplot')\n",
    "xgboost.plot_importance(model)"
   ]
  },
  {
   "cell_type": "code",
   "execution_count": 56,
   "metadata": {},
   "outputs": [
    {
     "data": {
      "text/plain": [
       "<matplotlib.axes._subplots.AxesSubplot at 0x7fe22bb93668>"
      ]
     },
     "execution_count": 56,
     "metadata": {},
     "output_type": "execute_result"
    },
    {
     "data": {
      "image/png": "[encoded data removed]",
      "text/plain": [
       "<matplotlib.figure.Figure at 0x7fe22bcdea58>"
      ]
     },
     "metadata": {},
     "output_type": "display_data"
    }
   ],
   "source": [
    "xgboost.plot_importance(model2)"
   ]
  },
  {
   "cell_type": "markdown",
   "metadata": {},
   "source": [
    "## submit"
   ]
  },
  {
   "cell_type": "code",
   "execution_count": 57,
   "metadata": {
    "collapsed": true
   },
   "outputs": [],
   "source": [
    "pred = model.predict(test1)\n",
    "pred2 = model2.predict(test2)"
   ]
  },
  {
   "cell_type": "code",
   "execution_count": 58,
   "metadata": {
    "collapsed": true
   },
   "outputs": [],
   "source": [
    "pred = pd.DataFrame(pred, columns={\"pred\"})\n",
    "pred[\"id\"] = j1_id[\"id\"]"
   ]
  },
  {
   "cell_type": "code",
   "execution_count": 59,
   "metadata": {
    "collapsed": true
   },
   "outputs": [],
   "source": [
    "pred2 = pd.DataFrame(pred2, columns={\"pred\"})\n",
    "pred2[\"id\"] = j2_id[\"id\"]"
   ]
  },
  {
   "cell_type": "code",
   "execution_count": 60,
   "metadata": {},
   "outputs": [],
   "source": [
    "pred = pd.concat([pred, pred2])"
   ]
  },
  {
   "cell_type": "code",
   "execution_count": 61,
   "metadata": {
    "collapsed": true
   },
   "outputs": [],
   "source": [
    "test_id = pd.DataFrame(test_id)\n",
    "test_id[\"id\"] = test_id"
   ]
  },
  {
   "cell_type": "code",
   "execution_count": 62,
   "metadata": {
    "collapsed": true
   },
   "outputs": [],
   "source": [
    "pred = pd.merge(pred, test_id, how=\"right\", on=[\"id\"])"
   ]
  },
  {
   "cell_type": "code",
   "execution_count": 63,
   "metadata": {
    "collapsed": true
   },
   "outputs": [],
   "source": [
    "pred = pred.loc[:, [\"id\", \"pred\"]]"
   ]
  },
  {
   "cell_type": "code",
   "execution_count": 64,
   "metadata": {
    "collapsed": true
   },
   "outputs": [],
   "source": [
    "pred.to_csv(\"~/repo/study/JLeague/submit/submit_1124_3_xgboost.csv\", index=False, header=False)"
   ]
  },
  {
   "cell_type": "code",
   "execution_count": null,
   "metadata": {
    "collapsed": true
   },
   "outputs": [],
   "source": []
  }
 ],
 "metadata": {
  "kernelspec": {
   "display_name": "Python 3",
   "language": "python",
   "name": "python3"
  },
  "language_info": {
   "codemirror_mode": {
    "name": "ipython",
    "version": 3
   },
   "file_extension": ".py",
   "mimetype": "text/x-python",
   "name": "python",
   "nbconvert_exporter": "python",
   "pygments_lexer": "ipython3",
   "version": "3.6.1"
  },
  "toc": {
   "colors": {
    "hover_highlight": "#DAA520",
    "navigate_num": "#000000",
    "navigate_text": "#333333",
    "running_highlight": "#FF0000",
    "selected_highlight": "#FFD700",
    "sidebar_border": "#EEEEEE",
    "wrapper_background": "#FFFFFF"
   },
   "moveMenuLeft": true,
   "nav_menu": {
    "height": "38px",
    "width": "253px"
   },
   "navigate_menu": true,
   "number_sections": false,
   "sideBar": true,
   "threshold": 4,
   "toc_cell": false,
   "toc_section_display": "block",
   "toc_window_display": false,
   "widenNotebook": false
  }
 },
 "nbformat": 4,
 "nbformat_minor": 2
}
