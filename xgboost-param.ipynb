{
 "cells": [
  {
   "cell_type": "markdown",
   "metadata": {},
   "source": [
    "# xgboost"
   ]
  },
  {
   "cell_type": "code",
   "execution_count": 1,
   "metadata": {},
   "outputs": [],
   "source": [
    "import numpy as np\n",
    "import pandas as pd\n",
    "from matplotlib import pyplot as plt\n",
    "%matplotlib inline\n",
    "import datetime\n",
    "import re"
   ]
  },
  {
   "cell_type": "code",
   "execution_count": 2,
   "metadata": {},
   "outputs": [],
   "source": [
    "###データ読込(結合したデータ)\n",
    "train = pd.read_csv(\"../JLeague/data/train_new4.csv\")\n",
    "test = pd.read_csv(\"../JLeague/data/test_new4.csv\")\n",
    "player = pd.read_csv(\"../JLeague/data/player.csv\")\n",
    "test_id = pd.read_csv(\"../JLeague/motodata/test.csv\")[\"id\"]\n",
    "test_id_all = test[\"id\"]"
   ]
  },
  {
   "cell_type": "markdown",
   "metadata": {},
   "source": [
    "## Feature Enginiering"
   ]
  },
  {
   "cell_type": "code",
   "execution_count": 3,
   "metadata": {},
   "outputs": [],
   "source": [
    "def j2num(j):\n",
    "    return 1 if j == 'Ｊ１' else 0\n",
    "train[\"stage\"] = train[\"stage\"].map(j2num)\n",
    "test[\"stage\"] = test[\"stage\"].map(j2num)"
   ]
  },
  {
   "cell_type": "code",
   "execution_count": 4,
   "metadata": {},
   "outputs": [
    {
     "name": "stderr",
     "output_type": "stream",
     "text": [
      "/usr/local/lib/python3.5/dist-packages/ipykernel_launcher.py:4: DeprecationWarning: \n",
      ".ix is deprecated. Please use\n",
      ".loc for label based indexing or\n",
      ".iloc for positional indexing\n",
      "\n",
      "See the documentation here:\n",
      "http://pandas.pydata.org/pandas-docs/stable/indexing.html#ix-indexer-is-deprecated\n",
      "  after removing the cwd from sys.path.\n",
      "/usr/local/lib/python3.5/dist-packages/ipykernel_launcher.py:12: DeprecationWarning: \n",
      ".ix is deprecated. Please use\n",
      ".loc for label based indexing or\n",
      ".iloc for positional indexing\n",
      "\n",
      "See the documentation here:\n",
      "http://pandas.pydata.org/pandas-docs/stable/indexing.html#ix-indexer-is-deprecated\n",
      "  if sys.path[0] == '':\n"
     ]
    }
   ],
   "source": [
    "for i, weather in enumerate(train[\"weather\"]):\n",
    "    weather = str(weather)\n",
    "    if re.match(\"雨\", weather):\n",
    "        train.ix[i, \"rain\"] = 1\n",
    "    else:\n",
    "        train.ix[i, \"rain\"] = 0\n",
    "for i, weather in enumerate(test[\"weather\"]):\n",
    "    weather = str(weather)\n",
    "    if re.match(\"雨\", weather):\n",
    "        test.ix[i, \"rain\"] = 1\n",
    "    else:\n",
    "        test.ix[i, \"rain\"] = 0"
   ]
  },
  {
   "cell_type": "code",
   "execution_count": 5,
   "metadata": {},
   "outputs": [],
   "source": [
    "for i, m in enumerate(train[\"match\"]):\n",
    "    match = re.findall(\"第(\\w+)節第(\\w+)日\", str(m))[0]\n",
    "    train.ix[i, \"section\"] = int(match[0])\n",
    "    train.ix[i, \"no\"] = int(match[1])\n",
    "for i, m in enumerate(test[\"match\"]):\n",
    "    match = re.findall(\"第(\\w+)節第(\\w+)日\", str(m))[0]\n",
    "    test.ix[i, \"section\"] = int(match[0])\n",
    "    test.ix[i, \"no\"] = int(match[1])"
   ]
  },
  {
   "cell_type": "code",
   "execution_count": 6,
   "metadata": {},
   "outputs": [],
   "source": [
    "if (train.stage[0] == 1):\n",
    "    train[\"sec_diff\"] = np.abs(train[\"section\"] - 17)**2\n",
    "    test[\"sec_diff\"] = np.abs(test[\"section\"] - 17)**2\n",
    "else:\n",
    "    train[\"sec_diff\"] = np.abs(train[\"section\"] - 21)**2\n",
    "    test[\"sec_diff\"] = np.abs(test[\"section\"] - 21)**2"
   ]
  },
  {
   "cell_type": "code",
   "execution_count": 7,
   "metadata": {},
   "outputs": [],
   "source": [
    "for i, tv in enumerate(train[\"tv\"]):\n",
    "    tv = str(tv)\n",
    "    tvlist = tv.split(\"／\")\n",
    "    train.ix[i, \"media\"] = int(len(tvlist))\n",
    "for i, tv in enumerate(test[\"tv\"]):\n",
    "    tv = str(tv)\n",
    "    tvlist = tv.split(\"／\")\n",
    "    test.ix[i, \"media\"] = int(len(tvlist))"
   ]
  },
  {
   "cell_type": "code",
   "execution_count": 8,
   "metadata": {
    "scrolled": true
   },
   "outputs": [],
   "source": [
    "for i, day in enumerate(train[\"gameday\"]):\n",
    "    day = str(day)\n",
    "    train.ix[i, \"month\"] = int(day[:2])\n",
    "    train.ix[i, \"day\"] = int(day[3:5])\n",
    "    weekday = day[5:]\n",
    "    if re.match(\"\\(\\w・祝\\)\", weekday):\n",
    "        train.ix[i, \"weekday\"] = 0\n",
    "    elif re.match(\"\\(\\w・休\\)\", weekday):\n",
    "        train.ix[i, \"weekday\"] = 0\n",
    "    elif weekday == \"(土)\":\n",
    "        train.ix[i, \"weekday\"] = 1\n",
    "    elif weekday == \"(日)\":\n",
    "        train.ix[i, \"weekday\"] = 2\n",
    "    else:\n",
    "        train.ix[i, \"weekday\"] = 3\n",
    "for i, day in enumerate(test[\"gameday\"]):\n",
    "    day = str(day)\n",
    "    test.ix[i, \"month\"] = int(day[:2])\n",
    "    test.ix[i, \"day\"] = int(day[3:5])\n",
    "    weekday = day[5:]\n",
    "    if re.match(\"\\(\\w・祝\\)\", weekday):\n",
    "        test.ix[i, \"weekday\"] = 0\n",
    "    elif re.match(\"\\(\\w・休\\)\", weekday):\n",
    "        test.ix[i, \"weekday\"] = 0\n",
    "    elif weekday == \"(土)\":\n",
    "        test.ix[i, \"weekday\"] = 1\n",
    "    elif weekday == \"(日)\":\n",
    "        test.ix[i, \"weekday\"] = 2\n",
    "    else:\n",
    "        test.ix[i, \"weekday\"] = 3"
   ]
  },
  {
   "cell_type": "code",
   "execution_count": 9,
   "metadata": {},
   "outputs": [],
   "source": [
    "from dateutil.parser import parse\n",
    "for i, t in enumerate(train[\"time\"]):\n",
    "    train.ix[i, \"hour\"] = int(str(t)[:2])\n",
    "for i, t in enumerate(test[\"time\"]):\n",
    "    test.ix[i, \"hour\"] = int(str(t)[:2])"
   ]
  },
  {
   "cell_type": "code",
   "execution_count": 10,
   "metadata": {},
   "outputs": [],
   "source": [
    "from sklearn.preprocessing import LabelEncoder\n",
    "le = LabelEncoder()\n",
    "le.fit(train[\"home\"])\n",
    "train[\"home\"] = le.transform(train[\"home\"])\n",
    "train[\"away\"] = le.transform(train[\"away\"])\n",
    "test[\"home\"] = le.transform(test[\"home\"])\n",
    "test[\"away\"] = le.transform(test[\"away\"])"
   ]
  },
  {
   "cell_type": "code",
   "execution_count": 11,
   "metadata": {},
   "outputs": [],
   "source": [
    "for i, t in enumerate(train[\"humidity\"]):\n",
    "    train.ix[i, \"humid\"] = int(str(t)[:2])\n",
    "for i, t in enumerate(test[\"humidity\"]):\n",
    "    test.ix[i, \"humid\"] = int(str(t)[:2])"
   ]
  },
  {
   "cell_type": "code",
   "execution_count": 12,
   "metadata": {},
   "outputs": [],
   "source": [
    "def discomfort_index(T, H):\n",
    "    return 0.81*T+0.01*H*(0.99*T - 14.3) + 46.3\n",
    "train[\"discomfort\"] = discomfort_index(train[\"temperature\"], train[\"humid\"])\n",
    "test[\"discomfort\"] = discomfort_index(test[\"temperature\"], test[\"humid\"])"
   ]
  },
  {
   "cell_type": "code",
   "execution_count": 13,
   "metadata": {},
   "outputs": [],
   "source": [
    "for i in range(1,12):\n",
    "    column = \"home_%02d\" % i\n",
    "    for row, name in enumerate(train[column]):\n",
    "        salary = player[player.player_name==name].annual_salary.values\n",
    "        train.ix[row, column] = 2500000 if salary.size == 0 else salary\n",
    "    column = \"away_%02d\" % i\n",
    "    for row, name in enumerate(train[column]):\n",
    "        salary = player[player.player_name==name].annual_salary.values\n",
    "        train.ix[row, column] = 2500000 if salary.size == 0 else salary\n",
    "for i in range(1,12):\n",
    "    column = \"home_%02d\" % i\n",
    "    for row, name in enumerate(test[column]):\n",
    "        salary = player[player.player_name==name].annual_salary.values\n",
    "        test.ix[row, column] = 2500000 if salary.size == 0 else salary\n",
    "    column = \"away_%02d\" % i\n",
    "    for row, name in enumerate(test[column]):\n",
    "        salary = player[player.player_name==name].annual_salary.values\n",
    "        test.ix[row, column] = 2500000 if salary.size == 0 else salary"
   ]
  },
  {
   "cell_type": "code",
   "execution_count": 14,
   "metadata": {},
   "outputs": [],
   "source": [
    "train[\"home_all\"] = train[[\"home_01\",\"home_02\",\"home_03\",\"home_04\",\"home_05\",\"home_06\",\"home_07\",\"home_08\",\"home_09\",\"home_10\",\"home_11\"]].sum(axis=1) \n",
    "train[\"away_all\"] = train[[\"away_01\",\"away_02\",\"away_03\",\"away_04\",\"away_05\",\"away_06\",\"away_07\",\"away_08\",\"away_09\",\"away_10\",\"away_11\"]].sum(axis=1) \n",
    "test[\"home_all\"] = test[[\"home_01\",\"home_02\",\"home_03\",\"home_04\",\"home_05\",\"home_06\",\"home_07\",\"home_08\",\"home_09\",\"home_10\",\"home_11\"]].sum(axis=1) \n",
    "test[\"away_all\"] = test[[\"away_01\",\"away_02\",\"away_03\",\"away_04\",\"away_05\",\"away_06\",\"away_07\",\"away_08\",\"away_09\",\"away_10\",\"away_11\"]].sum(axis=1) "
   ]
  },
  {
   "cell_type": "code",
   "execution_count": 101,
   "metadata": {},
   "outputs": [],
   "source": [
    "train1 = train[[\"y\", \"capa\", \"home_score\", \"away_score\", \"month\", \"day\", \"weekday\", \"home\", \"away\", \"media\", \"discomfort\", \"temperature\", \"humid\", \"home_all\", \"away_all\", \"stage\", \"specific\", \"latitude\", \"longitude\", \"population\", \"area\", \"dencity\", \"rain\",\"sec_diff\"]]\n",
    "test1 = test[[\"capa\", \"home_score\", \"away_score\",  \"month\", \"day\", \"weekday\", \"home\", \"away\", \"media\", \"discomfort\", \"temperature\", \"humid\", \"home_all\", \"away_all\", \"stage\", \"specific\", \"latitude\", \"longitude\", \"population\", \"area\", \"dencity\", \"rain\", \"sec_diff\"]]\n",
    "target = 'y'"
   ]
  },
  {
   "cell_type": "markdown",
   "metadata": {},
   "source": [
    "## param tuning"
   ]
  },
  {
   "cell_type": "code",
   "execution_count": 16,
   "metadata": {},
   "outputs": [
    {
     "name": "stderr",
     "output_type": "stream",
     "text": [
      "/usr/local/lib/python3.5/dist-packages/sklearn/cross_validation.py:41: DeprecationWarning: This module was deprecated in version 0.18 in favor of the model_selection module into which all the refactored classes and functions are moved. Also note that the interface of the new CV iterators are different from that of this module. This module will be removed in 0.20.\n",
      "  \"This module will be removed in 0.20.\", DeprecationWarning)\n",
      "/usr/local/lib/python3.5/dist-packages/sklearn/grid_search.py:42: DeprecationWarning: This module was deprecated in version 0.18 in favor of the model_selection module into which all the refactored classes and functions are moved. This module will be removed in 0.20.\n",
      "  DeprecationWarning)\n"
     ]
    }
   ],
   "source": [
    "import xgboost as xgb\n",
    "from xgboost import XGBRegressor\n",
    "from sklearn import cross_validation, metrics   #Additional scklearn functions\n",
    "from sklearn.grid_search import GridSearchCV   #Perforing grid search\n",
    "from sklearn.metrics import mean_squared_error\n",
    "from sklearn.model_selection import train_test_split"
   ]
  },
  {
   "cell_type": "code",
   "execution_count": 219,
   "metadata": {},
   "outputs": [],
   "source": [
    "def modelfit(alg, dtrain, predictors,useTrainCV=True, cv_folds=5, early_stopping_rounds=50):\n",
    "    \n",
    "    if useTrainCV:\n",
    "        xgb_param = alg.get_xgb_params()\n",
    "        xgtrain = xgb.DMatrix(dtrain[predictors].values, label=dtrain[target].values)\n",
    "        cvresult = xgb.cv(xgb_param, xgtrain, num_boost_round=alg.get_params()['n_estimators'], nfold=cv_folds,\n",
    "            metrics='rmse', early_stopping_rounds=early_stopping_rounds)\n",
    "        alg.set_params(n_estimators=cvresult.shape[0])\n",
    "        \n",
    "    X_train, X_test, y_train, y_test = train_test_split(dtrain[predictors].values, dtrain[target].values, test_size=0.2, random_state=17)\n",
    "        \n",
    "    #Fit the algorithm on the data\n",
    "    alg.fit(X_train, y_train, eval_metric='rmse')\n",
    "        \n",
    "    #Predict training set:\n",
    "    dtrain_predictions = alg.predict(X_test)\n",
    "        \n",
    "    #Print model report:\n",
    "    print(\"\\nModel Report\")\n",
    "    print(\"RMSE Score (Train): %f\" % np.sqrt(mean_squared_error(y_test, dtrain_predictions)))"
   ]
  },
  {
   "cell_type": "code",
   "execution_count": 220,
   "metadata": {},
   "outputs": [],
   "source": [
    "#Choose all predictors except target & IDcols\n",
    "predictors = [x for x in train1.columns if x not in [\"y\"]]"
   ]
  },
  {
   "cell_type": "code",
   "execution_count": 221,
   "metadata": {
    "scrolled": true
   },
   "outputs": [
    {
     "name": "stdout",
     "output_type": "stream",
     "text": [
      "\n",
      "Model Report\n",
      "RMSE Score (Train): 2684.095309\n"
     ]
    }
   ],
   "source": [
    "xgb1 = XGBRegressor(\n",
    " learning_rate =0.1,\n",
    " n_estimators=1000,\n",
    " max_depth=5,\n",
    " min_child_weight=1,\n",
    " gamma=0,\n",
    " subsample=0.8,\n",
    " colsample_bytree=0.8,\n",
    " objective= 'reg:linear',\n",
    " nthread=4,\n",
    " scale_pos_weight=1,\n",
    " eval_metrics=RMSE,\n",
    " seed=17)\n",
    "modelfit(xgb1, train1, predictors, useTrainCV=True)"
   ]
  },
  {
   "cell_type": "code",
   "execution_count": null,
   "metadata": {},
   "outputs": [],
   "source": [
    "def fmean_squared_error(ground_truth, predictions):\n",
    "    fmean_squared_error_ = mean_squared_error(ground_truth, predictions)**0.5\n",
    "    return fmean_squared_error_\n",
    "\n",
    "RMSE  = make_scorer(fmean_squared_error, greater_is_better=False)"
   ]
  },
  {
   "cell_type": "code",
   "execution_count": 121,
   "metadata": {
    "scrolled": true
   },
   "outputs": [
    {
     "data": {
      "text/plain": [
       "([mean: -3196.04514, std: 736.03085, params: {'max_depth': 3, 'min_child_weight': 1},\n",
       "  mean: -3205.01817, std: 742.75090, params: {'max_depth': 3, 'min_child_weight': 3},\n",
       "  mean: -3198.90159, std: 739.02122, params: {'max_depth': 3, 'min_child_weight': 5},\n",
       "  mean: -3158.42656, std: 799.55816, params: {'max_depth': 5, 'min_child_weight': 1},\n",
       "  mean: -3174.53808, std: 810.92791, params: {'max_depth': 5, 'min_child_weight': 3},\n",
       "  mean: -3138.77363, std: 784.09367, params: {'max_depth': 5, 'min_child_weight': 5},\n",
       "  mean: -3220.92199, std: 822.76959, params: {'max_depth': 7, 'min_child_weight': 1},\n",
       "  mean: -3169.33365, std: 821.55430, params: {'max_depth': 7, 'min_child_weight': 3},\n",
       "  mean: -3171.97271, std: 764.77003, params: {'max_depth': 7, 'min_child_weight': 5},\n",
       "  mean: -3265.86392, std: 841.47788, params: {'max_depth': 9, 'min_child_weight': 1},\n",
       "  mean: -3211.69494, std: 836.71427, params: {'max_depth': 9, 'min_child_weight': 3},\n",
       "  mean: -3208.90700, std: 800.26452, params: {'max_depth': 9, 'min_child_weight': 5}],\n",
       " {'max_depth': 5, 'min_child_weight': 5},\n",
       " -3138.773631566328)"
      ]
     },
     "execution_count": 121,
     "metadata": {},
     "output_type": "execute_result"
    }
   ],
   "source": [
    "param_test1 = {\n",
    " 'max_depth':[3,5,7,9],\n",
    " 'min_child_weight':[1,3,5]\n",
    "}\n",
    "gsearch1 = GridSearchCV(estimator = XGBRegressor(learning_rate =0.1, n_estimators=140, max_depth=5,\n",
    "                                                min_child_weight=1, gamma=0, subsample=0.8, colsample_bytree=0.8,\n",
    "                                                objective= 'reg:linear', nthread=1, scale_pos_weight=1, seed=17),\n",
    "                                                param_grid = param_test1, scoring=RMSE,n_jobs=4,iid=False, cv=5)\n",
    "gsearch1.fit(train1[predictors],train1[target])\n",
    "gsearch1.grid_scores_, gsearch1.best_params_, gsearch1.best_score_"
   ]
  },
  {
   "cell_type": "code",
   "execution_count": 86,
   "metadata": {
    "scrolled": true
   },
   "outputs": [
    {
     "data": {
      "text/plain": [
       "([mean: -3182.22805, std: 822.34231, params: {'max_depth': 5, 'min_child_weight': 4},\n",
       "  mean: -3138.77363, std: 784.09367, params: {'max_depth': 5, 'min_child_weight': 5},\n",
       "  mean: -3154.22717, std: 790.61725, params: {'max_depth': 5, 'min_child_weight': 6}],\n",
       " {'max_depth': 5, 'min_child_weight': 5},\n",
       " -3138.773631566328)"
      ]
     },
     "execution_count": 86,
     "metadata": {},
     "output_type": "execute_result"
    }
   ],
   "source": [
    "param_test1 = {\n",
    " 'max_depth':[5],\n",
    " 'min_child_weight':[4,5,6]\n",
    "}\n",
    "gsearch1 = GridSearchCV(estimator = XGBRegressor(learning_rate =0.1, n_estimators=140, max_depth=5,\n",
    "                                                min_child_weight=1, gamma=0, subsample=0.8, colsample_bytree=0.8,\n",
    "                                                objective= 'reg:linear', nthread=1, scale_pos_weight=1, seed=17),\n",
    "                                                param_grid = param_test1, scoring=RMSE,n_jobs=4,iid=False, cv=5)\n",
    "gsearch1.fit(train1[predictors], train1[target])\n",
    "gsearch1.grid_scores_, gsearch1.best_params_, gsearch1.best_score_"
   ]
  },
  {
   "cell_type": "code",
   "execution_count": 55,
   "metadata": {},
   "outputs": [
    {
     "data": {
      "text/plain": [
       "([mean: -3138.77363, std: 784.09367, params: {'gamma': 0.0},\n",
       "  mean: -3138.77363, std: 784.09367, params: {'gamma': 0.1},\n",
       "  mean: -3138.77363, std: 784.09367, params: {'gamma': 0.2},\n",
       "  mean: -3138.77363, std: 784.09367, params: {'gamma': 0.3},\n",
       "  mean: -3138.77363, std: 784.09367, params: {'gamma': 0.4}],\n",
       " {'gamma': 0.0},\n",
       " -3138.773631566328)"
      ]
     },
     "execution_count": 55,
     "metadata": {},
     "output_type": "execute_result"
    }
   ],
   "source": [
    "param_test1 = {\n",
    "    'gamma':[i/10.0 for i in range(0,5)]\n",
    "}\n",
    "gsearch1 = GridSearchCV(estimator = XGBRegressor(learning_rate =0.1, n_estimators=140, max_depth=5,\n",
    "                                                min_child_weight=5, gamma=0, subsample=0.8, colsample_bytree=0.8,\n",
    "                                                objective= 'reg:linear', nthread=1, scale_pos_weight=1, seed=17),\n",
    "                                                param_grid = param_test1, scoring=grid_scorer,n_jobs=4,iid=False, cv=5)\n",
    "gsearch1.fit(train1[predictors], train1[target])\n",
    "gsearch1.grid_scores_, gsearch1.best_params_, gsearch1.best_score_"
   ]
  },
  {
   "cell_type": "code",
   "execution_count": 87,
   "metadata": {},
   "outputs": [
    {
     "name": "stdout",
     "output_type": "stream",
     "text": [
      "\n",
      "Model Report\n",
      "RMSE Score (Train): 2744.010955\n"
     ]
    }
   ],
   "source": [
    "#Choose all predictors except target & IDcols\n",
    "predictors = [x for x in train1.columns if x not in [\"y\"]]\n",
    "xgb2 = XGBRegressor(\n",
    " learning_rate =0.1,\n",
    " n_estimators=1000,\n",
    " max_depth=5,\n",
    " min_child_weight=5,\n",
    " gamma=0,\n",
    " subsample=0.8,\n",
    " colsample_bytree=0.8,\n",
    " objective= 'reg:linear',\n",
    " nthread=4,\n",
    " scale_pos_weight=1,\n",
    " eval_metrics=grid_scorer,\n",
    " seed=17)\n",
    "modelfit(xgb2, train1, predictors, useTrainCV=True)"
   ]
  },
  {
   "cell_type": "code",
   "execution_count": 89,
   "metadata": {},
   "outputs": [
    {
     "data": {
      "text/plain": [
       "([mean: -3139.55484, std: 761.84842, params: {'subsample': 0.6, 'colsample_bytree': 0.6},\n",
       "  mean: -3112.24695, std: 773.86324, params: {'subsample': 0.7, 'colsample_bytree': 0.6},\n",
       "  mean: -3112.86674, std: 742.97115, params: {'subsample': 0.8, 'colsample_bytree': 0.6},\n",
       "  mean: -3128.71791, std: 756.66045, params: {'subsample': 0.9, 'colsample_bytree': 0.6},\n",
       "  mean: -3145.24164, std: 777.68326, params: {'subsample': 0.6, 'colsample_bytree': 0.7},\n",
       "  mean: -3135.17838, std: 778.15666, params: {'subsample': 0.7, 'colsample_bytree': 0.7},\n",
       "  mean: -3151.50547, std: 749.26969, params: {'subsample': 0.8, 'colsample_bytree': 0.7},\n",
       "  mean: -3131.22972, std: 780.86352, params: {'subsample': 0.9, 'colsample_bytree': 0.7},\n",
       "  mean: -3188.19891, std: 767.07586, params: {'subsample': 0.6, 'colsample_bytree': 0.8},\n",
       "  mean: -3132.77486, std: 771.38023, params: {'subsample': 0.7, 'colsample_bytree': 0.8},\n",
       "  mean: -3138.77363, std: 784.09367, params: {'subsample': 0.8, 'colsample_bytree': 0.8},\n",
       "  mean: -3147.70967, std: 793.42952, params: {'subsample': 0.9, 'colsample_bytree': 0.8},\n",
       "  mean: -3155.33728, std: 772.08184, params: {'subsample': 0.6, 'colsample_bytree': 0.9},\n",
       "  mean: -3146.83653, std: 795.93626, params: {'subsample': 0.7, 'colsample_bytree': 0.9},\n",
       "  mean: -3205.75174, std: 794.85500, params: {'subsample': 0.8, 'colsample_bytree': 0.9},\n",
       "  mean: -3177.12626, std: 812.80669, params: {'subsample': 0.9, 'colsample_bytree': 0.9}],\n",
       " {'colsample_bytree': 0.6, 'subsample': 0.7},\n",
       " -3112.246951785015)"
      ]
     },
     "execution_count": 89,
     "metadata": {},
     "output_type": "execute_result"
    }
   ],
   "source": [
    "param_test1 = {\n",
    " 'subsample':[i/10.0 for i in range(6,10)],\n",
    " 'colsample_bytree':[i/10.0 for i in range(6,10)]\n",
    "}\n",
    "gsearch1 = GridSearchCV(estimator = XGBRegressor(learning_rate =0.1, n_estimators=140, max_depth=5,\n",
    "                                                min_child_weight=5, gamma=0, subsample=0.8, colsample_bytree=0.8,\n",
    "                                                objective= 'reg:linear', nthread=1, scale_pos_weight=1, seed=17),\n",
    "                                                param_grid = param_test1, scoring=RMSE,n_jobs=4,iid=False, cv=5)\n",
    "gsearch1.fit(train1[predictors], train1[target])\n",
    "gsearch1.grid_scores_, gsearch1.best_params_, gsearch1.best_score_"
   ]
  },
  {
   "cell_type": "code",
   "execution_count": 102,
   "metadata": {},
   "outputs": [
    {
     "data": {
      "text/plain": [
       "([mean: -3145.83464, std: 781.86836, params: {'subsample': 0.65, 'colsample_bytree': 0.65},\n",
       "  mean: -3138.35928, std: 744.42745, params: {'subsample': 0.7, 'colsample_bytree': 0.65},\n",
       "  mean: -3130.29991, std: 731.24170, params: {'subsample': 0.75, 'colsample_bytree': 0.65},\n",
       "  mean: -3173.45303, std: 798.71541, params: {'subsample': 0.65, 'colsample_bytree': 0.7},\n",
       "  mean: -3157.11462, std: 784.24426, params: {'subsample': 0.7, 'colsample_bytree': 0.7},\n",
       "  mean: -3141.44151, std: 758.14281, params: {'subsample': 0.75, 'colsample_bytree': 0.7},\n",
       "  mean: -3199.36621, std: 772.12498, params: {'subsample': 0.65, 'colsample_bytree': 0.75},\n",
       "  mean: -3115.50293, std: 756.23197, params: {'subsample': 0.7, 'colsample_bytree': 0.75},\n",
       "  mean: -3147.14634, std: 764.89481, params: {'subsample': 0.75, 'colsample_bytree': 0.75}],\n",
       " {'colsample_bytree': 0.75, 'subsample': 0.7},\n",
       " -3115.50293286631)"
      ]
     },
     "execution_count": 102,
     "metadata": {},
     "output_type": "execute_result"
    }
   ],
   "source": [
    "param_test1 = {\n",
    " 'subsample':[i/100.0 for i in range(65,80,5)],\n",
    " 'colsample_bytree':[i/100.0 for i in range(65,80,5)]\n",
    "}\n",
    "gsearch1 = GridSearchCV(estimator = XGBRegressor(learning_rate =0.1, n_estimators=140, max_depth=5,\n",
    "                                                min_child_weight=5, gamma=0, subsample=0.8, colsample_bytree=0.8,\n",
    "                                                objective= 'reg:linear', nthread=1, scale_pos_weight=1, seed=17),\n",
    "                                                param_grid = param_test1, scoring=RMSE,n_jobs=4,iid=False, cv=5)\n",
    "gsearch1.fit(train1[predictors], train1[target])\n",
    "gsearch1.grid_scores_, gsearch1.best_params_, gsearch1.best_score_"
   ]
  },
  {
   "cell_type": "code",
   "execution_count": 222,
   "metadata": {},
   "outputs": [
    {
     "name": "stdout",
     "output_type": "stream",
     "text": [
      "\n",
      "Model Report\n",
      "RMSE Score (Train): 2817.514586\n"
     ]
    }
   ],
   "source": [
    "xgb2 = XGBRegressor(\n",
    " learning_rate =0.1,\n",
    " n_estimators=1000,\n",
    " max_depth=5,\n",
    " min_child_weight=5,\n",
    " gamma=0,\n",
    " subsample=0.7,\n",
    " colsample_bytree=0.75,\n",
    " objective= 'reg:linear',\n",
    " nthread=4,\n",
    " scale_pos_weight=1,\n",
    " eval_metrics=RMSE,\n",
    " seed=17)\n",
    "modelfit(xgb2, train1, predictors, useTrainCV=True)"
   ]
  },
  {
   "cell_type": "code",
   "execution_count": 110,
   "metadata": {},
   "outputs": [
    {
     "data": {
      "text/plain": [
       "([mean: -3091.97072, std: 780.22306, params: {'reg_alpha': 1e-05},\n",
       "  mean: -3091.97075, std: 780.22311, params: {'reg_alpha': 0.01},\n",
       "  mean: -3093.13497, std: 778.71077, params: {'reg_alpha': 0.1},\n",
       "  mean: -3093.13643, std: 778.71105, params: {'reg_alpha': 1},\n",
       "  mean: -3083.71710, std: 753.72572, params: {'reg_alpha': 100}],\n",
       " {'reg_alpha': 100},\n",
       " -3083.71710061901)"
      ]
     },
     "execution_count": 110,
     "metadata": {},
     "output_type": "execute_result"
    }
   ],
   "source": [
    "param_test1 = {\n",
    " 'reg_alpha':[1e-5, 1e-2, 0.1, 1, 100]\n",
    "}\n",
    "gsearch1 = GridSearchCV(estimator = XGBRegressor(learning_rate =0.1, n_estimators=140, max_depth=5,\n",
    "                                                min_child_weight=5, gamma=0, subsample=0.7, colsample_bytree=0.75,\n",
    "                                                objective= 'reg:linear', nthread=1, scale_pos_weight=1, seed=17),\n",
    "                                                param_grid = param_test1, scoring=RMSE,n_jobs=4,iid=False, cv=5)\n",
    "gsearch1.fit(train1[predictors], train1[target])\n",
    "gsearch1.grid_scores_, gsearch1.best_params_, gsearch1.best_score_"
   ]
  },
  {
   "cell_type": "code",
   "execution_count": 114,
   "metadata": {},
   "outputs": [
    {
     "data": {
      "text/plain": [
       "([mean: -3119.26512, std: 740.18374, params: {'reg_alpha': 140},\n",
       "  mean: -3079.47545, std: 735.54530, params: {'reg_alpha': 150},\n",
       "  mean: -3098.34248, std: 754.96094, params: {'reg_alpha': 160}],\n",
       " {'reg_alpha': 150},\n",
       " -3079.475449411656)"
      ]
     },
     "execution_count": 114,
     "metadata": {},
     "output_type": "execute_result"
    }
   ],
   "source": [
    "param_test1 = {\n",
    " 'reg_alpha':[140,150,160]\n",
    "}\n",
    "gsearch1 = GridSearchCV(estimator = XGBRegressor(learning_rate =0.1, n_estimators=140, max_depth=5,\n",
    "                                                min_child_weight=5, gamma=0, subsample=0.7, colsample_bytree=0.75,\n",
    "                                                objective= 'reg:linear', nthread=1, scale_pos_weight=1, seed=17),\n",
    "                                                param_grid = param_test1, scoring=RMSE,n_jobs=4,iid=False, cv=5)\n",
    "gsearch1.fit(train1[predictors], train1[target])\n",
    "gsearch1.grid_scores_, gsearch1.best_params_, gsearch1.best_score_"
   ]
  },
  {
   "cell_type": "code",
   "execution_count": 223,
   "metadata": {
    "scrolled": true
   },
   "outputs": [
    {
     "name": "stdout",
     "output_type": "stream",
     "text": [
      "\n",
      "Model Report\n",
      "RMSE Score (Train): 2713.984887\n"
     ]
    }
   ],
   "source": [
    "xgb3 = XGBRegressor(\n",
    " learning_rate =0.1,\n",
    " n_estimators=1000,\n",
    " max_depth=5,\n",
    " min_child_weight=5,\n",
    " gamma=0,\n",
    " subsample=0.7,\n",
    " colsample_bytree=0.75,\n",
    " reg_alpha=150,\n",
    " objective= 'reg:linear',\n",
    " nthread=4,\n",
    " scale_pos_weight=1,\n",
    " eval_metrics=RMSE,\n",
    " seed=17)\n",
    "modelfit(xgb3, train1, predictors, useTrainCV=True)"
   ]
  },
  {
   "cell_type": "code",
   "execution_count": 224,
   "metadata": {},
   "outputs": [
    {
     "name": "stdout",
     "output_type": "stream",
     "text": [
      "\n",
      "Model Report\n",
      "RMSE Score (Train): 2774.044158\n"
     ]
    }
   ],
   "source": [
    "xgb4 = XGBRegressor(\n",
    " learning_rate =0.01,\n",
    " n_estimators=1000,\n",
    " max_depth=5,\n",
    " min_child_weight=5,\n",
    " gamma=0,\n",
    " subsample=0.7,\n",
    " colsample_bytree=0.75,\n",
    " reg_alpha=150,\n",
    " objective= 'reg:linear',\n",
    " nthread=4,\n",
    " scale_pos_weight=1,\n",
    " eval_metrics=RMSE,\n",
    " seed=17)\n",
    "modelfit(xgb4, train1, predictors, useTrainCV=True)"
   ]
  },
  {
   "cell_type": "markdown",
   "metadata": {},
   "source": [
    "## evaluate"
   ]
  },
  {
   "cell_type": "code",
   "execution_count": 225,
   "metadata": {},
   "outputs": [],
   "source": [
    "y1 = train1[\"y\"]\n",
    "train1 = train1.drop([\"y\"], axis=1)"
   ]
  },
  {
   "cell_type": "code",
   "execution_count": 226,
   "metadata": {},
   "outputs": [],
   "source": [
    "from sklearn.model_selection import train_test_split\n",
    "X_train, X_test, y_train, y_test = train_test_split(train1, y1, test_size=0.2, random_state=17)"
   ]
  },
  {
   "cell_type": "code",
   "execution_count": 258,
   "metadata": {
    "scrolled": true
   },
   "outputs": [
    {
     "data": {
      "text/plain": [
       "XGBRegressor(base_score=0.5, booster='gbtree', colsample_bylevel=1,\n",
       "       colsample_bytree=0.75,\n",
       "       eval_metrics=make_scorer(fmean_squared_error, greater_is_better=False),\n",
       "       gamma=0, learning_rate=0.01, max_delta_step=0, max_depth=5,\n",
       "       min_child_weight=5, missing=None, n_estimators=1000, n_jobs=1,\n",
       "       nthread=4, objective='reg:linear', random_state=0, reg_alpha=150,\n",
       "       reg_lambda=1, scale_pos_weight=1, seed=17, silent=True,\n",
       "       subsample=0.7)"
      ]
     },
     "execution_count": 258,
     "metadata": {},
     "output_type": "execute_result"
    }
   ],
   "source": [
    "model = XGBRegressor(eval_metrics='rmse', random_state=17)\n",
    "xgb4.fit(X_train, y_train, eval_metric='rmse')"
   ]
  },
  {
   "cell_type": "code",
   "execution_count": 259,
   "metadata": {},
   "outputs": [],
   "source": [
    "pred = xgb4.predict(X_test)"
   ]
  },
  {
   "cell_type": "code",
   "execution_count": 260,
   "metadata": {},
   "outputs": [
    {
     "data": {
      "text/plain": [
       "2774.0441583396655"
      ]
     },
     "execution_count": 260,
     "metadata": {},
     "output_type": "execute_result"
    }
   ],
   "source": [
    "np.sqrt(mean_squared_error(y_test, pred))"
   ]
  },
  {
   "cell_type": "code",
   "execution_count": 261,
   "metadata": {},
   "outputs": [
    {
     "data": {
      "image/png": "[encoded data removed]",
      "text/plain": [
       "<matplotlib.figure.Figure at 0x7fdc77884208>"
      ]
     },
     "metadata": {},
     "output_type": "display_data"
    }
   ],
   "source": [
    "plt.style.use('ggplot')\n",
    "ax = xgb.plot_importance(xgb4)\n",
    "fig = ax.figure\n",
    "fig.set_size_inches(10, 10)"
   ]
  },
  {
   "cell_type": "markdown",
   "metadata": {},
   "source": [
    "## submit"
   ]
  },
  {
   "cell_type": "code",
   "execution_count": 262,
   "metadata": {},
   "outputs": [],
   "source": [
    "pred = xgb4.predict(test1)"
   ]
  },
  {
   "cell_type": "code",
   "execution_count": 263,
   "metadata": {},
   "outputs": [],
   "source": [
    "for i, p in enumerate(pred):\n",
    "    if p > test1.ix[i, \"capa\"]:\n",
    "        pred[i] = test1.ix[i, \"capa\"]\n",
    "    else:\n",
    "        pred[i] = p"
   ]
  },
  {
   "cell_type": "code",
   "execution_count": 264,
   "metadata": {},
   "outputs": [],
   "source": [
    "for i, p in enumerate(pred):\n",
    "    if p < min(y1):\n",
    "        print(p, min(y1))\n",
    "        pred[i] = min(y1)\n",
    "    else:\n",
    "        pred[i] = p"
   ]
  },
  {
   "cell_type": "code",
   "execution_count": 265,
   "metadata": {},
   "outputs": [],
   "source": [
    "pred = pd.DataFrame(pred, columns={\"pred\"})\n",
    "pred[\"id\"] = test_id_all"
   ]
  },
  {
   "cell_type": "code",
   "execution_count": 266,
   "metadata": {},
   "outputs": [],
   "source": [
    "test_id = pd.DataFrame(test_id)\n",
    "test_id[\"id\"] = test_id"
   ]
  },
  {
   "cell_type": "code",
   "execution_count": 267,
   "metadata": {},
   "outputs": [],
   "source": [
    "pred = pd.merge(pred, test_id, how=\"right\", on=[\"id\"])"
   ]
  },
  {
   "cell_type": "code",
   "execution_count": 268,
   "metadata": {},
   "outputs": [],
   "source": [
    "pred = pred.loc[:, [\"id\", \"pred\"]]"
   ]
  },
  {
   "cell_type": "code",
   "execution_count": 269,
   "metadata": {},
   "outputs": [],
   "source": [
    "pred.to_csv(\"../JLeague/submit/submit_1127_2_xgboost.csv\", index=False, header=False)"
   ]
  },
  {
   "cell_type": "code",
   "execution_count": null,
   "metadata": {},
   "outputs": [],
   "source": []
  }
 ],
 "metadata": {
  "kernelspec": {
   "display_name": "Python 3",
   "language": "python",
   "name": "python3"
  },
  "language_info": {
   "codemirror_mode": {
    "name": "ipython",
    "version": 3
   },
   "file_extension": ".py",
   "mimetype": "text/x-python",
   "name": "python",
   "nbconvert_exporter": "python",
   "pygments_lexer": "ipython3",
   "version": "3.5.2"
  },
  "toc": {
   "colors": {
    "hover_highlight": "#DAA520",
    "navigate_num": "#000000",
    "navigate_text": "#333333",
    "running_highlight": "#FF0000",
    "selected_highlight": "#FFD700",
    "sidebar_border": "#EEEEEE",
    "wrapper_background": "#FFFFFF"
   },
   "moveMenuLeft": true,
   "nav_menu": {
    "height": "38px",
    "width": "253px"
   },
   "navigate_menu": true,
   "number_sections": false,
   "sideBar": true,
   "threshold": 4,
   "toc_cell": false,
   "toc_section_display": "block",
   "toc_window_display": false,
   "widenNotebook": false
  }
 },
 "nbformat": 4,
 "nbformat_minor": 2
}
